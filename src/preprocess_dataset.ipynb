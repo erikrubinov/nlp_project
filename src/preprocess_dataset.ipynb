{
 "cells": [
  {
   "cell_type": "code",
   "execution_count": 8,
   "metadata": {},
   "outputs": [],
   "source": [
    "import nltk\n",
    "from nltk.corpus import stopwords\n",
    "from nltk.tokenize import word_tokenize\n",
    "from nltk.stem import WordNetLemmatizer\n",
    "import json\n",
    "import re\n",
    "\n"
   ]
  },
  {
   "cell_type": "code",
   "execution_count": 9,
   "metadata": {},
   "outputs": [],
   "source": [
    "data = json.loads(open(\"Oppositional_thinking_analysis_dataset.json\").read())"
   ]
  },
  {
   "cell_type": "code",
   "execution_count": 68,
   "metadata": {},
   "outputs": [],
   "source": [
    "def preprocessing(text:str) -> int:\n",
    "\n",
    "    # Lowercasing\n",
    "    text = text.lower()\n",
    "    text = re.sub(r'\\d+', '', text) # remove decimals  \n",
    "    text = re.sub(r'[\\:\\-\\']', '', text)  # Remove specific punctuation\n",
    "    text = re.sub(r'http\\S+', '', text) # Remove URLs\n",
    "    text = re.sub(r'\\s+', ' ', text) # Remove extra whitespace\n",
    "    text = re.sub(r'[^\\w\\s]', '', text) # Remove special characters\n",
    "    text = re.sub(r'\\d+\\.\\d+', '', text)  # Matches one or more digits followed by a dot and one or more digits\n",
    "    text = re.sub(r'\\bcom\\b', '', text, flags=re.IGNORECASE)  # Matches \"com\" at word boundaries (whole word)\n",
    "\n",
    "\n",
    "    # Tokenization\n",
    "    tokens = word_tokenize(text)\n",
    "\n",
    "    # Removing stop words\n",
    "    stop_words = set(stopwords.words('english'))\n",
    "    filtered_tokens = [word for word in tokens if word not in stop_words]\n",
    "\n",
    "    # Lemmatization\n",
    "    lemmatizer = WordNetLemmatizer()\n",
    "    lemmatized_tokens = [lemmatizer.lemmatize(word) for word in filtered_tokens]\n",
    "\n",
    "\n",
    "    \n",
    "    return (lemmatized_tokens)"
   ]
  },
  {
   "cell_type": "code",
   "execution_count": 69,
   "metadata": {},
   "outputs": [
    {
     "data": {
      "text/plain": [
       "['post',\n",
       " 'covid',\n",
       " 'vaccinde',\n",
       " 'reported',\n",
       " 'death',\n",
       " 'together',\n",
       " 'vaccination',\n",
       " 'combined',\n",
       " 'death',\n",
       " 'vaccine',\n",
       " 'vaccine',\n",
       " 'reported',\n",
       " 'death',\n",
       " 'year',\n",
       " 'covide',\n",
       " 'vaccine',\n",
       " 'combined',\n",
       " 'vaccine',\n",
       " 'source',\n",
       " 'http',\n",
       " 'openvaers',\n",
       " 'twitter',\n",
       " 'dicimania',\n",
       " 'status',\n",
       " 'flu',\n",
       " 'vaccine',\n",
       " 'dos',\n",
       " 'death',\n",
       " 'covid',\n",
       " 'vaccine',\n",
       " 'dos',\n",
       " 'death',\n",
       " 'make',\n",
       " 'covid',\n",
       " 'vaccine',\n",
       " 'x',\n",
       " 'lethal',\n",
       " 'flu',\n",
       " 'vaccine',\n",
       " 'vaers',\n",
       " 'reporting',\n",
       " 'system',\n",
       " 'estimated',\n",
       " 'case',\n",
       " 'actually',\n",
       " 'get',\n",
       " 'reported',\n",
       " 'twitter',\n",
       " 'proklausschwab',\n",
       " 'status']"
      ]
     },
     "execution_count": 69,
     "metadata": {},
     "output_type": "execute_result"
    }
   ],
   "source": [
    "preprocessing(\"13 . 627 post covid vaccinde - reported deaths ( 22,501 all together from all vaccinations ) . All combined deaths from vaccine 22 . 501 ( all vaccines from 1990 ) . So more reported deaths in 1 year from covide vaccine then from 1990 combined all vaccines ... source http :// openvaers . com https :// twitter . com / Dicimania / status / 1433098737333809153 ? s = 20 Flu vaccine ~ 900 M doses and 1,951 deaths . Covid vaccine ~ 200 M doses and 13,627 deaths . That makes the covid vaccine ~ 30x more lethal than the flu vaccine This is from the VAERs reporting system . It is estimated only 5 to 10 % of cases actually get reported . https :// twitter . com / ProKlausSchwab / status / 1435896399476953088 ? s = 20\")"
   ]
  },
  {
   "cell_type": "code",
   "execution_count": 65,
   "metadata": {},
   "outputs": [
    {
     "data": {
      "text/plain": [
       "'klk . ,'"
      ]
     },
     "execution_count": 65,
     "metadata": {},
     "output_type": "execute_result"
    }
   ],
   "source": [
    "test = \"klk 34.00 32,898\"\n",
    "\n",
    "#text = re.sub(r'\\d+\\.\\d+', '', test)  # Matches one or more digits followed by a dot and one or more digits\n",
    "text = re.sub(r'\\d+', '', test)  # Matches one or more digits\n",
    "\n",
    "text"
   ]
  }
 ],
 "metadata": {
  "kernelspec": {
   "display_name": "metal",
   "language": "python",
   "name": "python3"
  },
  "language_info": {
   "codemirror_mode": {
    "name": "ipython",
    "version": 3
   },
   "file_extension": ".py",
   "mimetype": "text/x-python",
   "name": "python",
   "nbconvert_exporter": "python",
   "pygments_lexer": "ipython3",
   "version": "3.11.5"
  }
 },
 "nbformat": 4,
 "nbformat_minor": 2
}
