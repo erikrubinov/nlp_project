{
 "cells": [
  {
   "cell_type": "code",
   "execution_count": 3,
   "metadata": {},
   "outputs": [],
   "source": [
    "import pandas as pd\n",
    "from sklearn.model_selection import train_test_split\n",
    "from sklearn.utils import resample\n",
    "import json"
   ]
  },
  {
   "cell_type": "code",
   "execution_count": 4,
   "metadata": {},
   "outputs": [],
   "source": [
    "data = json.loads(open(\"Oppositional_thinking_analysis_dataset.json\").read())"
   ]
  },
  {
   "cell_type": "code",
   "execution_count": 6,
   "metadata": {},
   "outputs": [
    {
     "name": "stdout",
     "output_type": "stream",
     "text": [
      "category\n",
      "CRITICAL      2097\n",
      "CONSPIRACY    2097\n",
      "Name: count, dtype: int64\n"
     ]
    }
   ],
   "source": [
    "df = pd.DataFrame(data)\n",
    "\n",
    "# Split data\n",
    "train_df, test_df = train_test_split(df, test_size=0.2, stratify=df['category'], random_state=42)\n",
    "\n",
    "# Handle class imbalance in the training set\n",
    "train_df_majority = train_df[train_df.category == 'CRITICAL']\n",
    "train_df_minority = train_df[train_df.category == 'CONSPIRACY']\n",
    "\n",
    "train_df_minority_upsampled = resample(train_df_minority, \n",
    "                                       replace=True,     # sample with replacement\n",
    "                                       n_samples=len(train_df_majority),    # to match majority class\n",
    "                                       random_state=42) # reproducible results\n",
    "\n",
    "train_df_balanced = pd.concat([train_df_majority, train_df_minority_upsampled])\n",
    "\n",
    "print(train_df_balanced['category'].value_counts())"
   ]
  },
  {
   "cell_type": "code",
   "execution_count": 7,
   "metadata": {},
   "outputs": [
    {
     "name": "stdout",
     "output_type": "stream",
     "text": [
      "Results for CountVectorizer:\n",
      "              precision    recall  f1-score   support\n",
      "\n",
      "  CONSPIRACY       0.76      0.82      0.79       276\n",
      "    CRITICAL       0.90      0.86      0.88       524\n",
      "\n",
      "    accuracy                           0.85       800\n",
      "   macro avg       0.83      0.84      0.84       800\n",
      "weighted avg       0.85      0.85      0.85       800\n",
      "\n",
      "Results for TfidfVectorizer:\n",
      "              precision    recall  f1-score   support\n",
      "\n",
      "  CONSPIRACY       0.69      0.87      0.77       276\n",
      "    CRITICAL       0.92      0.79      0.85       524\n",
      "\n",
      "    accuracy                           0.82       800\n",
      "   macro avg       0.81      0.83      0.81       800\n",
      "weighted avg       0.84      0.82      0.82       800\n",
      "\n"
     ]
    }
   ],
   "source": [
    "from sklearn.feature_extraction.text import CountVectorizer, TfidfVectorizer\n",
    "from sklearn.naive_bayes import MultinomialNB\n",
    "from sklearn.metrics import classification_report\n",
    "\n",
    "# Define vectorizers\n",
    "vectorizers = {\n",
    "    'CountVectorizer': CountVectorizer(),\n",
    "    'TfidfVectorizer': TfidfVectorizer()\n",
    "}\n",
    "\n",
    "# Function to train and evaluate a Naïve Bayes model\n",
    "def train_and_evaluate(train_df, test_df, vectorizer):\n",
    "    X_train = vectorizer.fit_transform(train_df['text'])\n",
    "    y_train = train_df['category']\n",
    "    X_test = vectorizer.transform(test_df['text'])\n",
    "    y_test = test_df['category']\n",
    "    \n",
    "    model = MultinomialNB() #multinomial Naive Bayes\n",
    "    model.fit(X_train, y_train)\n",
    "    y_pred = model.predict(X_test)\n",
    "    \n",
    "    print(f\"Results for {vectorizer.__class__.__name__}:\")\n",
    "    print(classification_report(y_test, y_pred))\n",
    "\n",
    "# Train and evaluate models with different vectorizers\n",
    "for name, vectorizer in vectorizers.items():\n",
    "    train_and_evaluate(train_df_balanced, test_df, vectorizer)"
   ]
  },
  {
   "cell_type": "code",
   "execution_count": 28,
   "metadata": {},
   "outputs": [
    {
     "name": "stdout",
     "output_type": "stream",
     "text": [
      "category\n",
      "CRITICAL      2097\n",
      "CONSPIRACY    2097\n",
      "Name: count, dtype: int64\n",
      "Evaluating CountVectorizer with Stop Words...\n"
     ]
    },
    {
     "name": "stderr",
     "output_type": "stream",
     "text": [
      "[nltk_data] Downloading package stopwords to\n",
      "[nltk_data]     /Users/erikrubinov/nltk_data...\n",
      "[nltk_data]   Package stopwords is already up-to-date!\n",
      "[nltk_data] Downloading package punkt to\n",
      "[nltk_data]     /Users/erikrubinov/nltk_data...\n",
      "[nltk_data]   Package punkt is already up-to-date!\n"
     ]
    },
    {
     "name": "stdout",
     "output_type": "stream",
     "text": [
      "Results for CountVectorizer:\n",
      "              precision    recall  f1-score   support\n",
      "\n",
      "  CONSPIRACY       0.78      0.76      0.77       276\n",
      "    CRITICAL       0.88      0.89      0.88       524\n",
      "\n",
      "    accuracy                           0.84       800\n",
      "   macro avg       0.83      0.82      0.82       800\n",
      "weighted avg       0.84      0.84      0.84       800\n",
      "\n",
      "Evaluating TfidfVectorizer with Stop Words...\n",
      "Results for TfidfVectorizer:\n",
      "              precision    recall  f1-score   support\n",
      "\n",
      "  CONSPIRACY       0.76      0.85      0.80       276\n",
      "    CRITICAL       0.92      0.86      0.89       524\n",
      "\n",
      "    accuracy                           0.86       800\n",
      "   macro avg       0.84      0.86      0.85       800\n",
      "weighted avg       0.86      0.86      0.86       800\n",
      "\n",
      "Evaluating Stemmed CountVectorizer...\n",
      "Results for StemmedCountVectorizer:\n",
      "              precision    recall  f1-score   support\n",
      "\n",
      "  CONSPIRACY       0.72      0.79      0.75       276\n",
      "    CRITICAL       0.88      0.84      0.86       524\n",
      "\n",
      "    accuracy                           0.82       800\n",
      "   macro avg       0.80      0.81      0.81       800\n",
      "weighted avg       0.83      0.82      0.82       800\n",
      "\n"
     ]
    }
   ],
   "source": [
    "import re\n",
    "from sklearn.pipeline import Pipeline\n",
    "import nltk\n",
    "\n",
    "df = pd.DataFrame(data)\n",
    "\n",
    "\n",
    "# Split data\n",
    "train_df, test_df = train_test_split(df, test_size=0.2, stratify=df['category'], random_state=42)\n",
    "\n",
    "# Handle class imbalance in the training set\n",
    "train_df_majority = train_df[train_df.category == 'CRITICAL']\n",
    "train_df_minority = train_df[train_df.category == 'CONSPIRACY']\n",
    "\n",
    "train_df_minority_upsampled = resample(train_df_minority, \n",
    "                                       replace=True,     # sample with replacement\n",
    "                                       n_samples=len(train_df_majority),    # to match majority class\n",
    "                                       random_state=42) # reproducible results\n",
    "\n",
    "train_df_balanced = pd.concat([train_df_majority, train_df_minority_upsampled])\n",
    "\n",
    "print(train_df_balanced['category'].value_counts())\n",
    "\n",
    "nltk.download('stopwords')\n",
    "nltk.download('punkt')\n",
    "from nltk.stem import PorterStemmer\n",
    "from sklearn.feature_extraction.text import CountVectorizer, TfidfVectorizer\n",
    "from sklearn.base import BaseEstimator, TransformerMixin\n",
    "\n",
    "\n",
    "def preprocess2(text):\n",
    "    text = re.sub(r'http\\S+', '', text)\n",
    "    text = re.sub(r'[^A-Za-z\\s]', '', text)\n",
    "    tokens = nltk.word_tokenize(text.lower())\n",
    "    tokens = [word for word in tokens if word not in nltk.corpus.stopwords.words('english')]\n",
    "    return ' '.join(tokens)\n",
    "\n",
    "class TextPreprocessor(BaseEstimator, TransformerMixin):\n",
    "    def fit(self, X, y=None):\n",
    "        return self\n",
    "\n",
    "    def transform(self, X, y=None):\n",
    "        return [preprocess(text) for text in X]\n",
    "\n",
    "class StemmedCountVectorizer(BaseEstimator, TransformerMixin):\n",
    "    def __init__(self):\n",
    "        self.stemmer = PorterStemmer()\n",
    "        self.vectorizer = CountVectorizer()\n",
    "\n",
    "    def fit(self, X, y=None):\n",
    "        self.vectorizer.fit(X)\n",
    "        return self\n",
    "\n",
    "    def transform(self, X):\n",
    "        return self.vectorizer.transform([' '.join([self.stemmer.stem(word) for word in document.split()]) for document in X])\n",
    "\n",
    "# Pre-processing pipelines\n",
    "pipelines = {\n",
    "    'CountVectorizer with Stop Words': Pipeline([\n",
    "        ('preprocessor', TextPreprocessor()),\n",
    "        ('vectorizer', CountVectorizer(stop_words='english')),\n",
    "        ('classifier', MultinomialNB())\n",
    "    ]),\n",
    "    'TfidfVectorizer with Stop Words': Pipeline([\n",
    "        ('preprocessor', TextPreprocessor()),\n",
    "        ('vectorizer', TfidfVectorizer(stop_words='english')),\n",
    "        ('classifier', MultinomialNB())\n",
    "    ]),\n",
    "    'Stemmed CountVectorizer': Pipeline([\n",
    "        ('preprocessor', TextPreprocessor()),\n",
    "        ('vectorizer', StemmedCountVectorizer()),\n",
    "        ('classifier', MultinomialNB())\n",
    "    ])\n",
    "}\n",
    "\n",
    "# Function to train and evaluate a Naïve Bayes model\n",
    "def train_and_evaluate(train_df, test_df, pipeline):\n",
    "    X_train = train_df['text']\n",
    "    y_train = train_df['category']\n",
    "    X_test = test_df['text']\n",
    "    y_test = test_df['category']\n",
    "    \n",
    "    pipeline.fit(X_train, y_train)\n",
    "    y_pred = pipeline.predict(X_test)\n",
    "    \n",
    "    print(f\"Results for {pipeline.named_steps['vectorizer'].__class__.__name__}:\")\n",
    "    print(classification_report(y_test, y_pred))\n",
    "\n",
    "# Train and evaluate models with different pipelines\n",
    "for name, pipeline in pipelines.items():\n",
    "    print(f\"Evaluating {name}...\")\n",
    "    train_and_evaluate(train_df_balanced, test_df, pipeline)"
   ]
  },
  {
   "cell_type": "code",
   "execution_count": 24,
   "metadata": {},
   "outputs": [
    {
     "data": {
      "text/plain": [
       "'deeply concerned push vaccinate children nothing dystopian experiment unknown consequences rep louie gohmert r texas thedefender childrenshealthdefense org defender fda eua covid shots infants young kids'"
      ]
     },
     "execution_count": 24,
     "metadata": {},
     "output_type": "execute_result"
    }
   ],
   "source": [
    "def preprocess2(text):\n",
    "    text = re.sub(r'http\\S+', '', text)\n",
    "    text = re.sub(r'[^A-Za-z\\s]', '', text)\n",
    "    tokens = nltk.word_tokenize(text.lower())\n",
    "    tokens = [word for word in tokens if word not in nltk.corpus.stopwords.words('english')]\n",
    "    return ' '.join(tokens)\n",
    "\n",
    "preprocess2(\" I ’m deeply concerned that the push to vaccinate these children is nothing more than a dystopian experiment with unknown consequences . ” — Rep. Louie Gohmert ( R - Texas ) # TheDefender https :// childrenshealthdefense . org / defender / fda - eua - covid - shots - infants - young - kids \")"
   ]
  },
  {
   "cell_type": "code",
   "execution_count": 27,
   "metadata": {},
   "outputs": [
    {
     "data": {
      "text/plain": [
       "'deeply concerned push vaccinate child nothing dystopian experiment unknown consequence rep louie gohmert r texas thedefender childrenshealthdefense org defender fda eua covid shot infant young kid'"
      ]
     },
     "execution_count": 27,
     "metadata": {},
     "output_type": "execute_result"
    }
   ],
   "source": [
    "from nltk.tokenize import word_tokenize\n",
    "from nltk.corpus import stopwords\n",
    "from nltk.stem import WordNetLemmatizer\n",
    "\n",
    "\n",
    "def preprocess(text:str) -> int:\n",
    "\n",
    "    # Lowercasing\n",
    "    text = text.lower()\n",
    "    text = re.sub(r'\\d+', '', text) # remove decimals  \n",
    "    text = re.sub(r'[\\:\\-\\']', '', text)  # Remove specific punctuation\n",
    "    text = re.sub(r'http\\S+', '', text) # Remove URLs\n",
    "    text = re.sub(r'\\s+', ' ', text) # Remove extra whitespace\n",
    "    text = re.sub(r'[^\\w\\s]', '', text) # Remove special characters\n",
    "    text = re.sub(r'\\d+\\.\\d+', '', text)  # Matches one or more digits followed by a dot and one or more digits\n",
    "    text = re.sub(r'\\bcom\\b', '', text, flags=re.IGNORECASE)  # Matches \"com\" at word boundaries (whole word)\n",
    "\n",
    "\n",
    "    # Tokenization\n",
    "    tokens = word_tokenize(text)\n",
    "\n",
    "    # Removing stop words\n",
    "    stop_words = set(stopwords.words('english'))\n",
    "    filtered_tokens = [word for word in tokens if word not in stop_words]\n",
    "\n",
    "    # Lemmatization\n",
    "    lemmatizer = WordNetLemmatizer()\n",
    "    lemmatized_tokens = [lemmatizer.lemmatize(word) for word in filtered_tokens]\n",
    "    return ' '.join(lemmatized_tokens)\n",
    "\n",
    "    \n",
    "\n",
    "\n",
    "preprocess(\" I ’m deeply concerned that the push to vaccinate these children is nothing more than a dystopian experiment with unknown consequences . ” — Rep. Louie Gohmert ( R - Texas ) # TheDefender https :// childrenshealthdefense . org / defender / fda - eua - covid - shots - infants - young - kids \")"
   ]
  },
  {
   "cell_type": "code",
   "execution_count": null,
   "metadata": {},
   "outputs": [],
   "source": []
  }
 ],
 "metadata": {
  "kernelspec": {
   "display_name": "metal",
   "language": "python",
   "name": "python3"
  },
  "language_info": {
   "codemirror_mode": {
    "name": "ipython",
    "version": 3
   },
   "file_extension": ".py",
   "mimetype": "text/x-python",
   "name": "python",
   "nbconvert_exporter": "python",
   "pygments_lexer": "ipython3",
   "version": "3.11.5"
  }
 },
 "nbformat": 4,
 "nbformat_minor": 2
}
