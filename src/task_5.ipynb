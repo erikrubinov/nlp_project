{
 "cells": [
  {
   "cell_type": "code",
   "id": "8a22b195-2d05-4671-8e90-0c1bc7b6f9c4",
   "metadata": {
    "ExecuteTime": {
     "end_time": "2024-06-25T17:04:07.564107Z",
     "start_time": "2024-06-25T17:04:07.154208Z"
    }
   },
   "source": [
    "import torch\n",
    "import nltk\n",
    "\n",
    "import pandas as pd\n",
    "import json\n",
    "from sklearn.model_selection import train_test_split\n",
    "from sklearn.preprocessing import LabelEncoder\n",
    "from sklearn.utils import resample\n",
    "\n",
    "nltk.download('stopwords')\n",
    "nltk.download('punkt')\n",
    "nltk.download('wordnet')\n"
   ],
   "outputs": [
    {
     "name": "stderr",
     "output_type": "stream",
     "text": [
      "[nltk_data] Downloading package stopwords to\n",
      "[nltk_data]     /Users/niclasstoffregen/nltk_data...\n",
      "[nltk_data]   Package stopwords is already up-to-date!\n",
      "[nltk_data] Downloading package punkt to\n",
      "[nltk_data]     /Users/niclasstoffregen/nltk_data...\n",
      "[nltk_data]   Package punkt is already up-to-date!\n",
      "[nltk_data] Downloading package wordnet to\n",
      "[nltk_data]     /Users/niclasstoffregen/nltk_data...\n",
      "[nltk_data]   Package wordnet is already up-to-date!\n"
     ]
    },
    {
     "data": {
      "text/plain": [
       "True"
      ]
     },
     "execution_count": 7,
     "metadata": {},
     "output_type": "execute_result"
    }
   ],
   "execution_count": 7
  },
  {
   "metadata": {
    "ExecuteTime": {
     "end_time": "2024-06-25T17:09:01.005696Z",
     "start_time": "2024-06-25T17:09:00.999436Z"
    }
   },
   "cell_type": "code",
   "source": [
    "device = torch.device(\"mps\" if torch.backends.mps.is_available() else \"cpu\")\n",
    "print(device)"
   ],
   "id": "743a970cd0d543bd",
   "outputs": [
    {
     "name": "stdout",
     "output_type": "stream",
     "text": [
      "mps\n"
     ]
    }
   ],
   "execution_count": 19
  },
  {
   "metadata": {
    "ExecuteTime": {
     "end_time": "2024-06-25T17:09:01.665712Z",
     "start_time": "2024-06-25T17:09:01.663146Z"
    }
   },
   "cell_type": "code",
   "source": [
    "def balance_data(data):\n",
    "        # Identify the majority and minority classes\n",
    "    majority_class = data['label'].value_counts().idxmax()\n",
    "    minority_class = data['label'].value_counts().idxmin()\n",
    "    \n",
    "    # Separate the majority and minority classes\n",
    "    majority = data[data['label'] == majority_class]\n",
    "    minority = data[data['label'] == minority_class]\n",
    "    \n",
    "    # Upsample the minority class\n",
    "    minority_upsampled = resample(minority, replace=True, n_samples=len(majority), random_state=42)\n",
    "    \n",
    "    # Combine the majority class and the upsampled minority class\n",
    "    data_balanced = pd.concat([majority, minority_upsampled])\n",
    "    \n",
    "    # Now split the balanced data into training and test sets\n",
    "    train_texts, test_texts, train_labels, test_labels = train_test_split(\n",
    "        data_balanced['text'], data_balanced['label'], test_size=0.2, random_state=42\n",
    "    )\n",
    "\n",
    "    return train_texts, test_texts, train_labels, test_labels"
   ],
   "id": "b6bc13c9b0beccdb",
   "outputs": [],
   "execution_count": 20
  },
  {
   "cell_type": "code",
   "id": "b53618fe-b1be-49ad-9951-590941d10563",
   "metadata": {
    "ExecuteTime": {
     "end_time": "2024-06-25T17:09:02.331304Z",
     "start_time": "2024-06-25T17:09:02.302376Z"
    }
   },
   "source": [
    "data = json.loads(open(\"../data/processed/Oppositional_thinking_analysis_dataset.json\").read())\n",
    "data = pd.DataFrame(data)\n",
    "\n",
    "# Encode labels\n",
    "label_encoder = LabelEncoder()\n",
    "data['label'] = label_encoder.fit_transform(data['category'])\n",
    "\n",
    "# Train-test split\n",
    "train_texts, test_texts, train_labels, test_labels = balance_data(data)\n",
    "# verify the balance\n",
    "print(train_labels.value_counts())"
   ],
   "outputs": [
    {
     "name": "stdout",
     "output_type": "stream",
     "text": [
      "label\n",
      "0    2102\n",
      "1    2091\n",
      "Name: count, dtype: int64\n"
     ]
    }
   ],
   "execution_count": 21
  },
  {
   "metadata": {
    "ExecuteTime": {
     "end_time": "2024-06-25T17:09:05.375670Z",
     "start_time": "2024-06-25T17:09:03.569854Z"
    }
   },
   "cell_type": "code",
   "source": [
    "from transformers import BertTokenizer, BertForSequenceClassification, RobertaTokenizer, RobertaForSequenceClassification\n",
    "\n",
    "# Tokenizers\n",
    "bert_tokenizer = BertTokenizer.from_pretrained('bert-base-uncased')\n",
    "roberta_tokenizer = RobertaTokenizer.from_pretrained('roberta-base')\n",
    "\n",
    "# Models for binary classification\n",
    "bert_model_binary = BertForSequenceClassification.from_pretrained('bert-base-uncased', num_labels=2)\n",
    "roberta_model_binary = RobertaForSequenceClassification.from_pretrained('roberta-base', num_labels=2)\n",
    "bert_model_binary = bert_model_binary.to(device)\n",
    "roberta_model_binary = roberta_model_binary.to(device)"
   ],
   "id": "870e2f05e98589a5",
   "outputs": [
    {
     "name": "stderr",
     "output_type": "stream",
     "text": [
      "Some weights of BertForSequenceClassification were not initialized from the model checkpoint at bert-base-uncased and are newly initialized: ['classifier.bias', 'classifier.weight']\n",
      "You should probably TRAIN this model on a down-stream task to be able to use it for predictions and inference.\n",
      "Some weights of RobertaForSequenceClassification were not initialized from the model checkpoint at roberta-base and are newly initialized: ['classifier.dense.bias', 'classifier.dense.weight', 'classifier.out_proj.bias', 'classifier.out_proj.weight']\n",
      "You should probably TRAIN this model on a down-stream task to be able to use it for predictions and inference.\n"
     ]
    }
   ],
   "execution_count": 22
  },
  {
   "metadata": {
    "ExecuteTime": {
     "end_time": "2024-06-25T17:09:16.888792Z",
     "start_time": "2024-06-25T17:09:16.883584Z"
    }
   },
   "cell_type": "code",
   "source": [
    "from torch.utils.data import DataLoader, Dataset\n",
    "import torch\n",
    "\n",
    "class OppositionalThinkingDataset(Dataset):\n",
    "    def __init__(self, texts, labels, tokenizer):\n",
    "        self.texts = texts\n",
    "        self.labels = labels\n",
    "        self.tokenizer = tokenizer\n",
    "\n",
    "    def __len__(self):\n",
    "        return len(self.texts)\n",
    "\n",
    "    def __getitem__(self, idx):\n",
    "        text = self.texts.iloc[idx]\n",
    "        label = self.labels.iloc[idx]\n",
    "        encoding = self.tokenizer(text, truncation=True, padding='max_length', max_length=256, return_tensors='pt')\n",
    "        return {'input_ids': encoding['input_ids'].flatten(), 'attention_mask': encoding['attention_mask'].flatten(), 'label': torch.tensor(label, dtype=torch.long)}\n",
    "\n",
    "# Create datasets\n",
    "train_dataset = OppositionalThinkingDataset(train_texts, train_labels, bert_tokenizer)\n",
    "test_dataset = OppositionalThinkingDataset(test_texts, test_labels, bert_tokenizer)\n",
    "\n",
    "# Create dataloaders\n",
    "train_dataloader = DataLoader(train_dataset, batch_size=16, shuffle=True)\n",
    "test_dataloader = DataLoader(test_dataset, batch_size=16)"
   ],
   "id": "e72e4b9de6bcad70",
   "outputs": [],
   "execution_count": 23
  },
  {
   "metadata": {
    "ExecuteTime": {
     "end_time": "2024-06-25T17:12:19.828381Z",
     "start_time": "2024-06-25T17:12:19.825183Z"
    }
   },
   "cell_type": "code",
   "source": "len(train_dataloader)",
   "id": "675745d259e3555f",
   "outputs": [
    {
     "data": {
      "text/plain": [
       "263"
      ]
     },
     "execution_count": 26,
     "metadata": {},
     "output_type": "execute_result"
    }
   ],
   "execution_count": 26
  },
  {
   "metadata": {
    "jupyter": {
     "is_executing": true
    },
    "ExecuteTime": {
     "start_time": "2024-06-25T17:12:50.210704Z"
    }
   },
   "cell_type": "code",
   "source": [
    "from transformers import AdamW, get_scheduler\n",
    "\n",
    "def train_model(model, train_dataloader, test_dataloader, device, epochs=3, lr=5e-5):\n",
    "    optimizer = AdamW(model.parameters(), lr=lr)\n",
    "    num_training_steps = epochs * len(train_dataloader)\n",
    "    lr_scheduler = get_scheduler(\"linear\", optimizer=optimizer, num_warmup_steps=0, num_training_steps=num_training_steps)\n",
    "\n",
    "    for epoch in range(epochs):\n",
    "        model.train()\n",
    "        for batch in train_dataloader:\n",
    "            # Move batch to device\n",
    "            batch = {k: v.to(device) for k, v in batch.items()}\n",
    "            outputs = model(input_ids=batch['input_ids'], attention_mask=batch['attention_mask'], labels=batch['label'])\n",
    "            loss = outputs.loss\n",
    "            loss.backward()\n",
    "            optimizer.step()\n",
    "            lr_scheduler.step()\n",
    "            optimizer.zero_grad()\n",
    "\n",
    "        model.eval()\n",
    "        total_acc, total_count = 0, 0\n",
    "        with torch.no_grad():\n",
    "            for batch in test_dataloader:\n",
    "                # Move batch to device\n",
    "                batch = {k: v.to(device) for k, v in batch.items()}\n",
    "                outputs = model(input_ids=batch['input_ids'], attention_mask=batch['attention_mask'])\n",
    "                predictions = outputs.logits.argmax(dim=-1)\n",
    "                total_acc += (predictions == batch['label']).sum().item()\n",
    "                total_count += batch['label'].size(0)\n",
    "        \n",
    "        accuracy = total_acc / total_count\n",
    "        print(f\"Epoch {epoch+1}: Accuracy {accuracy:.4f}\")\n",
    "\n",
    "# Train BERT and RoBERTa models for binary and multiclass classification\n",
    "train_model(bert_model_binary, train_dataloader, test_dataloader, device)\n",
    "train_model(roberta_model_binary, train_dataloader, test_dataloader, device)"
   ],
   "id": "51e72fcd8aa1bd39",
   "outputs": [
    {
     "name": "stderr",
     "output_type": "stream",
     "text": [
      "/Users/niclasstoffregen/nlp_project/nlp_venv/lib/python3.12/site-packages/transformers/optimization.py:588: FutureWarning: This implementation of AdamW is deprecated and will be removed in a future version. Use the PyTorch implementation torch.optim.AdamW instead, or set `no_deprecation_warning=True` to disable this warning\n",
      "  warnings.warn(\n"
     ]
    }
   ],
   "execution_count": null
  },
  {
   "metadata": {},
   "cell_type": "code",
   "outputs": [],
   "execution_count": null,
   "source": "",
   "id": "e5d8df3b5f39e6de"
  }
 ],
 "metadata": {
  "kernelspec": {
   "display_name": "nlp_venv",
   "language": "python",
   "name": "nlp_venv"
  },
  "language_info": {
   "codemirror_mode": {
    "name": "ipython",
    "version": 3
   },
   "file_extension": ".py",
   "mimetype": "text/x-python",
   "name": "python",
   "nbconvert_exporter": "python",
   "pygments_lexer": "ipython3",
   "version": "3.12.3"
  }
 },
 "nbformat": 4,
 "nbformat_minor": 5
}
