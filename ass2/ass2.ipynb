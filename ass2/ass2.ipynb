{
 "cells": [
  {
   "metadata": {},
   "cell_type": "code",
   "outputs": [],
   "execution_count": null,
   "source": "#TODO: delete this file",
   "id": "afc413aa066279c0"
  },
  {
   "metadata": {
    "ExecuteTime": {
     "end_time": "2024-07-26T19:02:03.787536Z",
     "start_time": "2024-07-26T19:02:03.784554Z"
    }
   },
   "cell_type": "code",
   "source": [
    "import pandas as pd\n",
    "import re\n",
    "from collections import Counter\n",
    "import matplotlib.pyplot as plt\n",
    "import numpy as np\n",
    "import nltk\n",
    "from nltk.tokenize import word_tokenize\n",
    "from collections import Counter\n",
    "from nltk.corpus import stopwords\n",
    "from nltk import FreqDist, bigrams, trigrams\n",
    "from nltk.tokenize import sent_tokenize, word_tokenize\n",
    "import spacy\n",
    "import pandas as pd\n",
    "import torch\n",
    "from torch.utils.data import Dataset, DataLoader\n",
    "from torch.nn.utils.rnn import pad_sequence\n",
    "from gensim.models.keyedvectors import KeyedVectors\n",
    "from collections import defaultdict\n",
    "import numpy as np"
   ],
   "id": "b952e6edecb913dd",
   "outputs": [],
   "execution_count": 58
  },
  {
   "cell_type": "code",
   "id": "9cdc1b92",
   "metadata": {
    "ExecuteTime": {
     "end_time": "2024-07-26T18:28:41.114572Z",
     "start_time": "2024-07-26T18:28:41.109748Z"
    }
   },
   "source": [
    "# Define the paths to your files\n",
    "english_file_path = \"fr-en/europarl-v7.fr-en.en\"\n",
    "french_file_path = \"fr-en/europarl-v7.fr-en.fr\"\n"
   ],
   "outputs": [],
   "execution_count": 1
  },
  {
   "cell_type": "code",
   "id": "6f247c0a",
   "metadata": {
    "ExecuteTime": {
     "end_time": "2024-07-26T18:28:54.068865Z",
     "start_time": "2024-07-26T18:28:54.066746Z"
    }
   },
   "source": [
    "########### TASK 1###############"
   ],
   "outputs": [],
   "execution_count": 2
  },
  {
   "cell_type": "code",
   "id": "f1b02805",
   "metadata": {
    "ExecuteTime": {
     "end_time": "2024-07-26T18:28:55.283035Z",
     "start_time": "2024-07-26T18:28:55.280985Z"
    }
   },
   "source": [
    "########LOAD DATA###############"
   ],
   "outputs": [],
   "execution_count": 3
  },
  {
   "cell_type": "code",
   "id": "45c377cb",
   "metadata": {
    "ExecuteTime": {
     "end_time": "2024-07-26T18:29:31.793184Z",
     "start_time": "2024-07-26T18:29:30.832937Z"
    }
   },
   "source": [
    "\"\"\"Function to read a file and return its content. Saves line by line in a list\"\"\"\n",
    "\n",
    "def read_file(file_path):\n",
    "    with open(file_path, 'r', encoding='utf-8') as file:\n",
    "        content = file.readlines()  # reads all lines into a list\n",
    "    return content\n",
    "\n",
    "# Load the data\n",
    "english_data = read_file(english_file_path)\n",
    "french_data = read_file(french_file_path)\n",
    "\n",
    "# Optionally, print the first few lines to check\n",
    "print(\"Sample English data:\", english_data[:5])\n",
    "print(\"Sample French data:\", french_data[:5])"
   ],
   "outputs": [
    {
     "name": "stdout",
     "output_type": "stream",
     "text": [
      "Sample English data: ['Resumption of the session\\n', 'I declare resumed the session of the European Parliament adjourned on Friday 17 December 1999, and I would like once again to wish you a happy new year in the hope that you enjoyed a pleasant festive period.\\n', \"Although, as you will have seen, the dreaded 'millennium bug' failed to materialise, still the people in a number of countries suffered a series of natural disasters that truly were dreadful.\\n\", 'You have requested a debate on this subject in the course of the next few days, during this part-session.\\n', \"In the meantime, I should like to observe a minute' s silence, as a number of Members have requested, on behalf of all the victims concerned, particularly those of the terrible storms, in the various countries of the European Union.\\n\"]\n",
      "Sample French data: ['Reprise de la session\\n', 'Je déclare reprise la session du Parlement européen qui avait été interrompue le vendredi 17 décembre dernier et je vous renouvelle tous mes vux en espérant que vous avez passé de bonnes vacances.\\n', 'Comme vous avez pu le constater, le grand \"bogue de l\\'an 2000\" ne s\\'est pas produit. En revanche, les citoyens d\\'un certain nombre de nos pays ont été victimes de catastrophes naturelles qui ont vraiment été terribles.\\n', 'Vous avez souhaité un débat à ce sujet dans les prochains jours, au cours de cette période de session.\\n', \"En attendant, je souhaiterais, comme un certain nombre de collègues me l'ont demandé, que nous observions une minute de silence pour toutes les victimes, des tempêtes notamment, dans les différents pays de l'Union européenne qui ont été touchés.\\n\"]\n"
     ]
    }
   ],
   "execution_count": 7
  },
  {
   "cell_type": "code",
   "id": "0cc4625b",
   "metadata": {
    "ExecuteTime": {
     "end_time": "2024-07-26T18:29:40.526690Z",
     "start_time": "2024-07-26T18:29:31.794261Z"
    }
   },
   "source": [
    "\"\"\" Function to load data into a pandas DataFrame without treating any character as quotes\"\"\"\n",
    "\n",
    "\n",
    "import pandas as pd\n",
    "from csv import QUOTE_NONE\n",
    "\n",
    "\n",
    "def load_data_to_dataframe(file_path):\n",
    "    # Read the entire file as a single column DataFrame, ignoring any quoting\n",
    "    return pd.read_csv(file_path, header=None, names=['text'], encoding='utf-8', sep='\\t', quoting=QUOTE_NONE, engine='python')\n",
    "\n",
    "# Load the data\n",
    "english_data = load_data_to_dataframe(english_file_path)\n",
    "french_data = load_data_to_dataframe(french_file_path)\n",
    "\n",
    "# Show the first few entries of the DataFrame\n",
    "print(\"English DataFrame sample:\")\n",
    "print(english_data.head())\n",
    "print(\"French DataFrame sample:\")\n",
    "print(french_data.head())"
   ],
   "outputs": [
    {
     "name": "stdout",
     "output_type": "stream",
     "text": [
      "English DataFrame sample:\n",
      "                                                text\n",
      "0                          Resumption of the session\n",
      "1  I declare resumed the session of the European ...\n",
      "2  Although, as you will have seen, the dreaded '...\n",
      "3  You have requested a debate on this subject in...\n",
      "4  In the meantime, I should like to observe a mi...\n",
      "French DataFrame sample:\n",
      "                                                text\n",
      "0                              Reprise de la session\n",
      "1  Je déclare reprise la session du Parlement eur...\n",
      "2  Comme vous avez pu le constater, le grand \"bog...\n",
      "3  Vous avez souhaité un débat à ce sujet dans le...\n",
      "4  En attendant, je souhaiterais, comme un certai...\n"
     ]
    }
   ],
   "execution_count": 8
  },
  {
   "cell_type": "code",
   "id": "f5afd61f",
   "metadata": {
    "ExecuteTime": {
     "end_time": "2024-07-26T18:29:41.979790Z",
     "start_time": "2024-07-26T18:29:41.978015Z"
    }
   },
   "source": [
    "##############DATA ANALYSIS##################"
   ],
   "outputs": [],
   "execution_count": 9
  },
  {
   "cell_type": "code",
   "id": "ca0cfa7c",
   "metadata": {
    "ExecuteTime": {
     "end_time": "2024-07-26T18:29:42.762840Z",
     "start_time": "2024-07-26T18:29:42.761063Z"
    }
   },
   "source": [
    "## Take fraction of data due to hardware constraints\n",
    "\n",
    "english_data = english_data[:100000]\n",
    "french_data = french_data[:100000]\n"
   ],
   "outputs": [],
   "execution_count": 10
  },
  {
   "cell_type": "code",
   "id": "a225d41c",
   "metadata": {
    "ExecuteTime": {
     "end_time": "2024-07-26T18:29:56.337963Z",
     "start_time": "2024-07-26T18:29:43.692828Z"
    }
   },
   "source": [
    "# Vocabulary size\n",
    "\n",
    "\"\"\"\n",
    "comment: \n",
    "Instead of nltk use also spicy tokenizer:\n",
    "import spacy\n",
    "\n",
    "# Load the English tokenizer from spaCy\n",
    "nlp_en = spacy.load('en_core_web_sm')\n",
    "\n",
    "# Example text\n",
    "text_en = \"Apple's looking at buying U.K. startup for $1 billion\"\n",
    "\n",
    "# Process the text\n",
    "doc_en = nlp_en(text_en)\n",
    "\n",
    "# Extract tokens\n",
    "tokens_en = [token.text for token in doc_en]\n",
    "\n",
    "print(tokens_en)\n",
    "\"\"\"\n",
    "\n",
    "\n",
    "def build_vocabulary(text_data):\n",
    "    # Tokenize the text\n",
    "    tokens = [word_tokenize(text.lower()) for text in text_data]\n",
    "    # Flatten the list of token lists into a single list of tokens\n",
    "    all_tokens = [token for sublist in tokens for token in sublist]\n",
    "    # Create a Counter object to count unique tokens\n",
    "    vocabulary = Counter(all_tokens)\n",
    "    return vocabulary\n",
    "\n",
    "\n",
    "data_en = english_data[\"text\"]\n",
    "data_fr = french_data[\"text\"]\n",
    "\n",
    "# Build vocabularies\n",
    "vocab_en = build_vocabulary(data_en)\n",
    "vocab_fr = build_vocabulary(data_fr)\n",
    "\n",
    "# Get the size of each vocabulary\n",
    "vocab_size_en = len(vocab_en)\n",
    "vocab_size_fr = len(vocab_fr)\n",
    "\n",
    "print(f\"English Vocabulary Size: {vocab_size_en}\")\n",
    "print(f\"French Vocabulary Size: {vocab_size_fr}\")"
   ],
   "outputs": [
    {
     "name": "stdout",
     "output_type": "stream",
     "text": [
      "English Vocabulary Size: 32097\n",
      "French Vocabulary Size: 46435\n"
     ]
    }
   ],
   "execution_count": 11
  },
  {
   "cell_type": "code",
   "id": "21f1ee92",
   "metadata": {
    "ExecuteTime": {
     "end_time": "2024-07-26T18:30:47.731720Z",
     "start_time": "2024-07-26T18:30:47.493464Z"
    }
   },
   "source": [
    "# TODO average lenght difference between sentences in source and target language in words and letters\n",
    "\n",
    "def get_average_lenght_difference(source,target):\n",
    "    word_lenght_dif=[]\n",
    "    letter_lenght_dif= []\n",
    "    for sen_source, sen_target in zip(source[\"text\"],target[\"text\"]):\n",
    "        #print(sen_source)\n",
    "        letter_lenght_dif.append(abs(len(sen_source)- len(sen_target)))\n",
    "        word_lenght_dif.append(abs(len(sen_source.split())-len(sen_target.split())))\n",
    "    print(np.mean(letter_lenght_dif))\n",
    "    print(np.mean(word_lenght_dif))\n",
    "    #print(len(sen_source.split()))\n",
    "\n",
    "get_average_lenght_difference(english_data,french_data)\n",
    "\n",
    "#print(english_data)"
   ],
   "outputs": [
    {
     "name": "stdout",
     "output_type": "stream",
     "text": [
      "104.44385\n",
      "16.84479\n"
     ]
    }
   ],
   "execution_count": 15
  },
  {
   "cell_type": "code",
   "id": "23aa726c",
   "metadata": {
    "ExecuteTime": {
     "end_time": "2024-07-26T18:30:49.709213Z",
     "start_time": "2024-07-26T18:30:49.348935Z"
    }
   },
   "source": [
    "\n",
    "\n",
    "def overlay_noisy_character_counts(data_en, data_fr):\n",
    "    # Define the characters to remove\n",
    "    noisy_characters = re.escape('@#$%^&*~<>|\\\\{}[]+=_/')\n",
    "    \n",
    "    # Regex to match any noisy character\n",
    "    regex_pattern = f'[{noisy_characters}]'\n",
    "    \n",
    "    # Function to count characters in a dataframe\n",
    "    def count_characters(data):\n",
    "        character_counts = Counter()\n",
    "        for text in data['text']:\n",
    "            found_chars = re.findall(regex_pattern, text)\n",
    "            character_counts.update(found_chars)\n",
    "        return character_counts\n",
    "\n",
    "    # Count characters for both datasets\n",
    "    en_counts = count_characters(data_en)\n",
    "    fr_counts = count_characters(data_fr)\n",
    "\n",
    "    # Plotting the occurrences for both English and French data in one overlaid histogram\n",
    "    plt.figure(figsize=(12, 6))\n",
    "    labels, en_values = zip(*en_counts.items())  # Unpack keys and values for English\n",
    "    _, fr_values = zip(*fr_counts.items())      # Unpack values for French\n",
    "    \n",
    "    # Ensure both languages have entries for each label\n",
    "    labels = list(set(labels + tuple(fr_counts.keys())))\n",
    "    en_values = [en_counts.get(label, 0) for label in labels]\n",
    "    fr_values = [fr_counts.get(label, 0) for label in labels]\n",
    "\n",
    "    # Plot\n",
    "    indices = np.arange(len(labels))  # the x locations for the groups\n",
    "    width = 0.35                     # the width of the bars\n",
    "    \n",
    "    plt.bar(indices - width/2, en_values, width, label='English', alpha=0.5)\n",
    "    plt.bar(indices + width/2, fr_values, width, label='French', alpha=0.5)\n",
    "\n",
    "    plt.ylabel('Occurrences')\n",
    "    plt.title('Comparison of Noisy Characters in English and French Text Data')\n",
    "    plt.xticks(indices, labels)\n",
    "    plt.legend()\n",
    "    plt.grid(True)\n",
    "\n",
    "    plt.show()\n",
    "\n",
    "    return en_counts, fr_counts\n",
    "\n",
    "en_noisy_character_counts, fr_noisy_character_counts = overlay_noisy_character_counts(english_data, french_data)\n"
   ],
   "outputs": [
    {
     "data": {
      "text/plain": [
       "<Figure size 1200x600 with 1 Axes>"
      ],
      "image/png": "[encoded data removed]"
     },
     "metadata": {},
     "output_type": "display_data"
    }
   ],
   "execution_count": 16
  },
  {
   "cell_type": "code",
   "id": "c7bec1ff",
   "metadata": {
    "ExecuteTime": {
     "end_time": "2024-07-26T18:31:11.592966Z",
     "start_time": "2024-07-26T18:30:51.875779Z"
    }
   },
   "source": [
    "import matplotlib.pyplot as plt\n",
    "from nltk.tokenize import word_tokenize\n",
    "from collections import Counter\n",
    "import nltk\n",
    "nltk.download('punkt')\n",
    "\n",
    "# Adding word count and sentence length columns\n",
    "english_data['word_count'] = english_data['text'].apply(lambda x: len(word_tokenize(x)))\n",
    "french_data['word_count'] = french_data['text'].apply(lambda x: len(word_tokenize(x)))\n",
    "\n",
    "english_data['sentence_length_in_letters'] = english_data['text'].apply(len)\n",
    "french_data['sentence_length_in_letters'] = french_data['text'].apply(len)\n",
    "\n",
    "# Basic statistics\n",
    "print(\"English average word count:\", english_data['word_count'].mean())\n",
    "print(\"French average word count:\", french_data['word_count'].mean())\n",
    "print(\"English average sentence length in letters:\", english_data['sentence_length_in_letters'].mean())\n",
    "print(\"French average sentence length in letters:\", french_data['sentence_length_in_letters'].mean())\n",
    "\n",
    "# Histogram of sentence lengths\n",
    "plt.figure(figsize=(12, 6))\n",
    "plt.hist(english_data['sentence_length_in_letters'], bins=50, alpha=0.5, label='English')\n",
    "plt.hist(french_data['sentence_length_in_letters'], bins=50, alpha=0.5, label='French')\n",
    "plt.title('Distribution of Sentence Lengths in letters')\n",
    "plt.xlabel('Sentence Length in letters')\n",
    "plt.ylabel('Frequency')\n",
    "plt.legend()\n",
    "plt.show()\n",
    "\n",
    "# Most common words\n",
    "top_n = 10\n",
    "english_words = Counter(word.lower() for sentence in english_data['text'] for word in word_tokenize(sentence))\n",
    "french_words = Counter(word.lower() for sentence in french_data['text'] for word in word_tokenize(sentence))\n",
    "\n",
    "print(\"Most common words in English:\")\n",
    "print(english_words.most_common(top_n))\n",
    "\n",
    "print(\"Most common words in French:\")\n",
    "print(french_words.most_common(top_n))"
   ],
   "outputs": [
    {
     "name": "stderr",
     "output_type": "stream",
     "text": [
      "[nltk_data] Downloading package punkt to\n",
      "[nltk_data]     /Users/niclasstoffregen/nltk_data...\n",
      "[nltk_data]   Package punkt is already up-to-date!\n"
     ]
    },
    {
     "name": "stdout",
     "output_type": "stream",
     "text": [
      "English average word count: 28.07578\n",
      "French average word count: 29.68897\n",
      "English average sentence length in letters: 150.65034\n",
      "French average sentence length in letters: 166.21101\n"
     ]
    },
    {
     "data": {
      "text/plain": [
       "<Figure size 1200x600 with 1 Axes>"
      ],
      "image/png": "[encoded data removed]"
     },
     "metadata": {},
     "output_type": "display_data"
    },
    {
     "name": "stdout",
     "output_type": "stream",
     "text": [
      "Most common words in English:\n",
      "[('the', 194588), (',', 135412), ('.', 98053), ('of', 92322), ('to', 87243), ('and', 70213), ('in', 60717), ('is', 43861), ('a', 43345), ('that', 42997)]\n",
      "Most common words in French:\n",
      "[(',', 149532), ('de', 145160), ('.', 97245), ('la', 94726), ('et', 63824), ('le', 63380), ('à', 55690), ('les', 54687), ('des', 53036), ('que', 46173)]\n"
     ]
    }
   ],
   "execution_count": 17
  },
  {
   "metadata": {
    "ExecuteTime": {
     "end_time": "2024-07-26T18:37:14.294111Z",
     "start_time": "2024-07-26T18:37:05.495850Z"
    }
   },
   "cell_type": "code",
   "source": [
    "!python3 -m spacy download en_core_web_sm\n",
    "!python3 -m spacy download fr_core_news_sm"
   ],
   "id": "a3a393423c02147d",
   "outputs": [
    {
     "name": "stdout",
     "output_type": "stream",
     "text": [
      "Collecting en-core-web-sm==3.7.1\r\n",
      "  Using cached https://github.com/explosion/spacy-models/releases/download/en_core_web_sm-3.7.1/en_core_web_sm-3.7.1-py3-none-any.whl (12.8 MB)\r\n",
      "Requirement already satisfied: spacy<3.8.0,>=3.7.2 in /Users/niclasstoffregen/nlp_project/nlp_venv/lib/python3.12/site-packages (from en-core-web-sm==3.7.1) (3.7.5)\r\n",
      "Requirement already satisfied: spacy-legacy<3.1.0,>=3.0.11 in /Users/niclasstoffregen/nlp_project/nlp_venv/lib/python3.12/site-packages (from spacy<3.8.0,>=3.7.2->en-core-web-sm==3.7.1) (3.0.12)\r\n",
      "Requirement already satisfied: spacy-loggers<2.0.0,>=1.0.0 in /Users/niclasstoffregen/nlp_project/nlp_venv/lib/python3.12/site-packages (from spacy<3.8.0,>=3.7.2->en-core-web-sm==3.7.1) (1.0.5)\r\n",
      "Requirement already satisfied: murmurhash<1.1.0,>=0.28.0 in /Users/niclasstoffregen/nlp_project/nlp_venv/lib/python3.12/site-packages (from spacy<3.8.0,>=3.7.2->en-core-web-sm==3.7.1) (1.0.10)\r\n",
      "Requirement already satisfied: cymem<2.1.0,>=2.0.2 in /Users/niclasstoffregen/nlp_project/nlp_venv/lib/python3.12/site-packages (from spacy<3.8.0,>=3.7.2->en-core-web-sm==3.7.1) (2.0.8)\r\n",
      "Requirement already satisfied: preshed<3.1.0,>=3.0.2 in /Users/niclasstoffregen/nlp_project/nlp_venv/lib/python3.12/site-packages (from spacy<3.8.0,>=3.7.2->en-core-web-sm==3.7.1) (3.0.9)\r\n",
      "Requirement already satisfied: thinc<8.3.0,>=8.2.2 in /Users/niclasstoffregen/nlp_project/nlp_venv/lib/python3.12/site-packages (from spacy<3.8.0,>=3.7.2->en-core-web-sm==3.7.1) (8.2.5)\r\n",
      "Requirement already satisfied: wasabi<1.2.0,>=0.9.1 in /Users/niclasstoffregen/nlp_project/nlp_venv/lib/python3.12/site-packages (from spacy<3.8.0,>=3.7.2->en-core-web-sm==3.7.1) (1.1.3)\r\n",
      "Requirement already satisfied: srsly<3.0.0,>=2.4.3 in /Users/niclasstoffregen/nlp_project/nlp_venv/lib/python3.12/site-packages (from spacy<3.8.0,>=3.7.2->en-core-web-sm==3.7.1) (2.4.8)\r\n",
      "Requirement already satisfied: catalogue<2.1.0,>=2.0.6 in /Users/niclasstoffregen/nlp_project/nlp_venv/lib/python3.12/site-packages (from spacy<3.8.0,>=3.7.2->en-core-web-sm==3.7.1) (2.0.10)\r\n",
      "Requirement already satisfied: weasel<0.5.0,>=0.1.0 in /Users/niclasstoffregen/nlp_project/nlp_venv/lib/python3.12/site-packages (from spacy<3.8.0,>=3.7.2->en-core-web-sm==3.7.1) (0.4.1)\r\n",
      "Requirement already satisfied: typer<1.0.0,>=0.3.0 in /Users/niclasstoffregen/nlp_project/nlp_venv/lib/python3.12/site-packages (from spacy<3.8.0,>=3.7.2->en-core-web-sm==3.7.1) (0.12.3)\r\n",
      "Requirement already satisfied: tqdm<5.0.0,>=4.38.0 in /Users/niclasstoffregen/nlp_project/nlp_venv/lib/python3.12/site-packages (from spacy<3.8.0,>=3.7.2->en-core-web-sm==3.7.1) (4.66.4)\r\n",
      "Requirement already satisfied: requests<3.0.0,>=2.13.0 in /Users/niclasstoffregen/nlp_project/nlp_venv/lib/python3.12/site-packages (from spacy<3.8.0,>=3.7.2->en-core-web-sm==3.7.1) (2.32.3)\r\n",
      "Requirement already satisfied: pydantic!=1.8,!=1.8.1,<3.0.0,>=1.7.4 in /Users/niclasstoffregen/nlp_project/nlp_venv/lib/python3.12/site-packages (from spacy<3.8.0,>=3.7.2->en-core-web-sm==3.7.1) (2.8.2)\r\n",
      "Requirement already satisfied: jinja2 in /Users/niclasstoffregen/nlp_project/nlp_venv/lib/python3.12/site-packages (from spacy<3.8.0,>=3.7.2->en-core-web-sm==3.7.1) (3.1.4)\r\n",
      "Requirement already satisfied: setuptools in /Users/niclasstoffregen/nlp_project/nlp_venv/lib/python3.12/site-packages (from spacy<3.8.0,>=3.7.2->en-core-web-sm==3.7.1) (70.1.0)\r\n",
      "Requirement already satisfied: packaging>=20.0 in /Users/niclasstoffregen/nlp_project/nlp_venv/lib/python3.12/site-packages (from spacy<3.8.0,>=3.7.2->en-core-web-sm==3.7.1) (24.1)\r\n",
      "Requirement already satisfied: langcodes<4.0.0,>=3.2.0 in /Users/niclasstoffregen/nlp_project/nlp_venv/lib/python3.12/site-packages (from spacy<3.8.0,>=3.7.2->en-core-web-sm==3.7.1) (3.4.0)\r\n",
      "Requirement already satisfied: numpy>=1.19.0 in /Users/niclasstoffregen/nlp_project/nlp_venv/lib/python3.12/site-packages (from spacy<3.8.0,>=3.7.2->en-core-web-sm==3.7.1) (1.26.4)\r\n",
      "Requirement already satisfied: language-data>=1.2 in /Users/niclasstoffregen/nlp_project/nlp_venv/lib/python3.12/site-packages (from langcodes<4.0.0,>=3.2.0->spacy<3.8.0,>=3.7.2->en-core-web-sm==3.7.1) (1.2.0)\r\n",
      "Requirement already satisfied: annotated-types>=0.4.0 in /Users/niclasstoffregen/nlp_project/nlp_venv/lib/python3.12/site-packages (from pydantic!=1.8,!=1.8.1,<3.0.0,>=1.7.4->spacy<3.8.0,>=3.7.2->en-core-web-sm==3.7.1) (0.7.0)\r\n",
      "Requirement already satisfied: pydantic-core==2.20.1 in /Users/niclasstoffregen/nlp_project/nlp_venv/lib/python3.12/site-packages (from pydantic!=1.8,!=1.8.1,<3.0.0,>=1.7.4->spacy<3.8.0,>=3.7.2->en-core-web-sm==3.7.1) (2.20.1)\r\n",
      "Requirement already satisfied: typing-extensions>=4.6.1 in /Users/niclasstoffregen/nlp_project/nlp_venv/lib/python3.12/site-packages (from pydantic!=1.8,!=1.8.1,<3.0.0,>=1.7.4->spacy<3.8.0,>=3.7.2->en-core-web-sm==3.7.1) (4.12.2)\r\n",
      "Requirement already satisfied: charset-normalizer<4,>=2 in /Users/niclasstoffregen/nlp_project/nlp_venv/lib/python3.12/site-packages (from requests<3.0.0,>=2.13.0->spacy<3.8.0,>=3.7.2->en-core-web-sm==3.7.1) (3.3.2)\r\n",
      "Requirement already satisfied: idna<4,>=2.5 in /Users/niclasstoffregen/nlp_project/nlp_venv/lib/python3.12/site-packages (from requests<3.0.0,>=2.13.0->spacy<3.8.0,>=3.7.2->en-core-web-sm==3.7.1) (3.7)\r\n",
      "Requirement already satisfied: urllib3<3,>=1.21.1 in /Users/niclasstoffregen/nlp_project/nlp_venv/lib/python3.12/site-packages (from requests<3.0.0,>=2.13.0->spacy<3.8.0,>=3.7.2->en-core-web-sm==3.7.1) (2.2.1)\r\n",
      "Requirement already satisfied: certifi>=2017.4.17 in /Users/niclasstoffregen/nlp_project/nlp_venv/lib/python3.12/site-packages (from requests<3.0.0,>=2.13.0->spacy<3.8.0,>=3.7.2->en-core-web-sm==3.7.1) (2024.6.2)\r\n",
      "Requirement already satisfied: blis<0.8.0,>=0.7.8 in /Users/niclasstoffregen/nlp_project/nlp_venv/lib/python3.12/site-packages (from thinc<8.3.0,>=8.2.2->spacy<3.8.0,>=3.7.2->en-core-web-sm==3.7.1) (0.7.11)\r\n",
      "Requirement already satisfied: confection<1.0.0,>=0.0.1 in /Users/niclasstoffregen/nlp_project/nlp_venv/lib/python3.12/site-packages (from thinc<8.3.0,>=8.2.2->spacy<3.8.0,>=3.7.2->en-core-web-sm==3.7.1) (0.1.5)\r\n",
      "Requirement already satisfied: click>=8.0.0 in /Users/niclasstoffregen/nlp_project/nlp_venv/lib/python3.12/site-packages (from typer<1.0.0,>=0.3.0->spacy<3.8.0,>=3.7.2->en-core-web-sm==3.7.1) (8.1.7)\r\n",
      "Requirement already satisfied: shellingham>=1.3.0 in /Users/niclasstoffregen/nlp_project/nlp_venv/lib/python3.12/site-packages (from typer<1.0.0,>=0.3.0->spacy<3.8.0,>=3.7.2->en-core-web-sm==3.7.1) (1.5.4)\r\n",
      "Requirement already satisfied: rich>=10.11.0 in /Users/niclasstoffregen/nlp_project/nlp_venv/lib/python3.12/site-packages (from typer<1.0.0,>=0.3.0->spacy<3.8.0,>=3.7.2->en-core-web-sm==3.7.1) (13.7.1)\r\n",
      "Requirement already satisfied: cloudpathlib<1.0.0,>=0.7.0 in /Users/niclasstoffregen/nlp_project/nlp_venv/lib/python3.12/site-packages (from weasel<0.5.0,>=0.1.0->spacy<3.8.0,>=3.7.2->en-core-web-sm==3.7.1) (0.18.1)\r\n",
      "Requirement already satisfied: smart-open<8.0.0,>=5.2.1 in /Users/niclasstoffregen/nlp_project/nlp_venv/lib/python3.12/site-packages (from weasel<0.5.0,>=0.1.0->spacy<3.8.0,>=3.7.2->en-core-web-sm==3.7.1) (7.0.4)\r\n",
      "Requirement already satisfied: MarkupSafe>=2.0 in /Users/niclasstoffregen/nlp_project/nlp_venv/lib/python3.12/site-packages (from jinja2->spacy<3.8.0,>=3.7.2->en-core-web-sm==3.7.1) (2.1.5)\r\n",
      "Requirement already satisfied: marisa-trie>=0.7.7 in /Users/niclasstoffregen/nlp_project/nlp_venv/lib/python3.12/site-packages (from language-data>=1.2->langcodes<4.0.0,>=3.2.0->spacy<3.8.0,>=3.7.2->en-core-web-sm==3.7.1) (1.2.0)\r\n",
      "Requirement already satisfied: markdown-it-py>=2.2.0 in /Users/niclasstoffregen/nlp_project/nlp_venv/lib/python3.12/site-packages (from rich>=10.11.0->typer<1.0.0,>=0.3.0->spacy<3.8.0,>=3.7.2->en-core-web-sm==3.7.1) (3.0.0)\r\n",
      "Requirement already satisfied: pygments<3.0.0,>=2.13.0 in /Users/niclasstoffregen/nlp_project/nlp_venv/lib/python3.12/site-packages (from rich>=10.11.0->typer<1.0.0,>=0.3.0->spacy<3.8.0,>=3.7.2->en-core-web-sm==3.7.1) (2.18.0)\r\n",
      "Requirement already satisfied: wrapt in /Users/niclasstoffregen/nlp_project/nlp_venv/lib/python3.12/site-packages (from smart-open<8.0.0,>=5.2.1->weasel<0.5.0,>=0.1.0->spacy<3.8.0,>=3.7.2->en-core-web-sm==3.7.1) (1.16.0)\r\n",
      "Requirement already satisfied: mdurl~=0.1 in /Users/niclasstoffregen/nlp_project/nlp_venv/lib/python3.12/site-packages (from markdown-it-py>=2.2.0->rich>=10.11.0->typer<1.0.0,>=0.3.0->spacy<3.8.0,>=3.7.2->en-core-web-sm==3.7.1) (0.1.2)\r\n",
      "\r\n",
      "\u001B[1m[\u001B[0m\u001B[34;49mnotice\u001B[0m\u001B[1;39;49m]\u001B[0m\u001B[39;49m A new release of pip is available: \u001B[0m\u001B[31;49m24.0\u001B[0m\u001B[39;49m -> \u001B[0m\u001B[32;49m24.1.2\u001B[0m\r\n",
      "\u001B[1m[\u001B[0m\u001B[34;49mnotice\u001B[0m\u001B[1;39;49m]\u001B[0m\u001B[39;49m To update, run: \u001B[0m\u001B[32;49mpip install --upgrade pip\u001B[0m\r\n",
      "\u001B[38;5;2m✔ Download and installation successful\u001B[0m\r\n",
      "You can now load the package via spacy.load('en_core_web_sm')\r\n",
      "Collecting fr-core-news-sm==3.7.0\r\n",
      "  Downloading https://github.com/explosion/spacy-models/releases/download/fr_core_news_sm-3.7.0/fr_core_news_sm-3.7.0-py3-none-any.whl (16.3 MB)\r\n",
      "\u001B[2K     \u001B[90m━━━━━━━━━━━━━━━━━━━━━━━━━━━━━━━━━━━━━━━━\u001B[0m \u001B[32m16.3/16.3 MB\u001B[0m \u001B[31m5.4 MB/s\u001B[0m eta \u001B[36m0:00:00\u001B[0m00:01\u001B[0m00:01\u001B[0m\r\n",
      "\u001B[?25hRequirement already satisfied: spacy<3.8.0,>=3.7.0 in /Users/niclasstoffregen/nlp_project/nlp_venv/lib/python3.12/site-packages (from fr-core-news-sm==3.7.0) (3.7.5)\r\n",
      "Requirement already satisfied: spacy-legacy<3.1.0,>=3.0.11 in /Users/niclasstoffregen/nlp_project/nlp_venv/lib/python3.12/site-packages (from spacy<3.8.0,>=3.7.0->fr-core-news-sm==3.7.0) (3.0.12)\r\n",
      "Requirement already satisfied: spacy-loggers<2.0.0,>=1.0.0 in /Users/niclasstoffregen/nlp_project/nlp_venv/lib/python3.12/site-packages (from spacy<3.8.0,>=3.7.0->fr-core-news-sm==3.7.0) (1.0.5)\r\n",
      "Requirement already satisfied: murmurhash<1.1.0,>=0.28.0 in /Users/niclasstoffregen/nlp_project/nlp_venv/lib/python3.12/site-packages (from spacy<3.8.0,>=3.7.0->fr-core-news-sm==3.7.0) (1.0.10)\r\n",
      "Requirement already satisfied: cymem<2.1.0,>=2.0.2 in /Users/niclasstoffregen/nlp_project/nlp_venv/lib/python3.12/site-packages (from spacy<3.8.0,>=3.7.0->fr-core-news-sm==3.7.0) (2.0.8)\r\n",
      "Requirement already satisfied: preshed<3.1.0,>=3.0.2 in /Users/niclasstoffregen/nlp_project/nlp_venv/lib/python3.12/site-packages (from spacy<3.8.0,>=3.7.0->fr-core-news-sm==3.7.0) (3.0.9)\r\n",
      "Requirement already satisfied: thinc<8.3.0,>=8.2.2 in /Users/niclasstoffregen/nlp_project/nlp_venv/lib/python3.12/site-packages (from spacy<3.8.0,>=3.7.0->fr-core-news-sm==3.7.0) (8.2.5)\r\n",
      "Requirement already satisfied: wasabi<1.2.0,>=0.9.1 in /Users/niclasstoffregen/nlp_project/nlp_venv/lib/python3.12/site-packages (from spacy<3.8.0,>=3.7.0->fr-core-news-sm==3.7.0) (1.1.3)\r\n",
      "Requirement already satisfied: srsly<3.0.0,>=2.4.3 in /Users/niclasstoffregen/nlp_project/nlp_venv/lib/python3.12/site-packages (from spacy<3.8.0,>=3.7.0->fr-core-news-sm==3.7.0) (2.4.8)\r\n",
      "Requirement already satisfied: catalogue<2.1.0,>=2.0.6 in /Users/niclasstoffregen/nlp_project/nlp_venv/lib/python3.12/site-packages (from spacy<3.8.0,>=3.7.0->fr-core-news-sm==3.7.0) (2.0.10)\r\n",
      "Requirement already satisfied: weasel<0.5.0,>=0.1.0 in /Users/niclasstoffregen/nlp_project/nlp_venv/lib/python3.12/site-packages (from spacy<3.8.0,>=3.7.0->fr-core-news-sm==3.7.0) (0.4.1)\r\n",
      "Requirement already satisfied: typer<1.0.0,>=0.3.0 in /Users/niclasstoffregen/nlp_project/nlp_venv/lib/python3.12/site-packages (from spacy<3.8.0,>=3.7.0->fr-core-news-sm==3.7.0) (0.12.3)\r\n",
      "Requirement already satisfied: tqdm<5.0.0,>=4.38.0 in /Users/niclasstoffregen/nlp_project/nlp_venv/lib/python3.12/site-packages (from spacy<3.8.0,>=3.7.0->fr-core-news-sm==3.7.0) (4.66.4)\r\n",
      "Requirement already satisfied: requests<3.0.0,>=2.13.0 in /Users/niclasstoffregen/nlp_project/nlp_venv/lib/python3.12/site-packages (from spacy<3.8.0,>=3.7.0->fr-core-news-sm==3.7.0) (2.32.3)\r\n",
      "Requirement already satisfied: pydantic!=1.8,!=1.8.1,<3.0.0,>=1.7.4 in /Users/niclasstoffregen/nlp_project/nlp_venv/lib/python3.12/site-packages (from spacy<3.8.0,>=3.7.0->fr-core-news-sm==3.7.0) (2.8.2)\r\n",
      "Requirement already satisfied: jinja2 in /Users/niclasstoffregen/nlp_project/nlp_venv/lib/python3.12/site-packages (from spacy<3.8.0,>=3.7.0->fr-core-news-sm==3.7.0) (3.1.4)\r\n",
      "Requirement already satisfied: setuptools in /Users/niclasstoffregen/nlp_project/nlp_venv/lib/python3.12/site-packages (from spacy<3.8.0,>=3.7.0->fr-core-news-sm==3.7.0) (70.1.0)\r\n",
      "Requirement already satisfied: packaging>=20.0 in /Users/niclasstoffregen/nlp_project/nlp_venv/lib/python3.12/site-packages (from spacy<3.8.0,>=3.7.0->fr-core-news-sm==3.7.0) (24.1)\r\n",
      "Requirement already satisfied: langcodes<4.0.0,>=3.2.0 in /Users/niclasstoffregen/nlp_project/nlp_venv/lib/python3.12/site-packages (from spacy<3.8.0,>=3.7.0->fr-core-news-sm==3.7.0) (3.4.0)\r\n",
      "Requirement already satisfied: numpy>=1.19.0 in /Users/niclasstoffregen/nlp_project/nlp_venv/lib/python3.12/site-packages (from spacy<3.8.0,>=3.7.0->fr-core-news-sm==3.7.0) (1.26.4)\r\n",
      "Requirement already satisfied: language-data>=1.2 in /Users/niclasstoffregen/nlp_project/nlp_venv/lib/python3.12/site-packages (from langcodes<4.0.0,>=3.2.0->spacy<3.8.0,>=3.7.0->fr-core-news-sm==3.7.0) (1.2.0)\r\n",
      "Requirement already satisfied: annotated-types>=0.4.0 in /Users/niclasstoffregen/nlp_project/nlp_venv/lib/python3.12/site-packages (from pydantic!=1.8,!=1.8.1,<3.0.0,>=1.7.4->spacy<3.8.0,>=3.7.0->fr-core-news-sm==3.7.0) (0.7.0)\r\n",
      "Requirement already satisfied: pydantic-core==2.20.1 in /Users/niclasstoffregen/nlp_project/nlp_venv/lib/python3.12/site-packages (from pydantic!=1.8,!=1.8.1,<3.0.0,>=1.7.4->spacy<3.8.0,>=3.7.0->fr-core-news-sm==3.7.0) (2.20.1)\r\n",
      "Requirement already satisfied: typing-extensions>=4.6.1 in /Users/niclasstoffregen/nlp_project/nlp_venv/lib/python3.12/site-packages (from pydantic!=1.8,!=1.8.1,<3.0.0,>=1.7.4->spacy<3.8.0,>=3.7.0->fr-core-news-sm==3.7.0) (4.12.2)\r\n",
      "Requirement already satisfied: charset-normalizer<4,>=2 in /Users/niclasstoffregen/nlp_project/nlp_venv/lib/python3.12/site-packages (from requests<3.0.0,>=2.13.0->spacy<3.8.0,>=3.7.0->fr-core-news-sm==3.7.0) (3.3.2)\r\n",
      "Requirement already satisfied: idna<4,>=2.5 in /Users/niclasstoffregen/nlp_project/nlp_venv/lib/python3.12/site-packages (from requests<3.0.0,>=2.13.0->spacy<3.8.0,>=3.7.0->fr-core-news-sm==3.7.0) (3.7)\r\n",
      "Requirement already satisfied: urllib3<3,>=1.21.1 in /Users/niclasstoffregen/nlp_project/nlp_venv/lib/python3.12/site-packages (from requests<3.0.0,>=2.13.0->spacy<3.8.0,>=3.7.0->fr-core-news-sm==3.7.0) (2.2.1)\r\n",
      "Requirement already satisfied: certifi>=2017.4.17 in /Users/niclasstoffregen/nlp_project/nlp_venv/lib/python3.12/site-packages (from requests<3.0.0,>=2.13.0->spacy<3.8.0,>=3.7.0->fr-core-news-sm==3.7.0) (2024.6.2)\r\n",
      "Requirement already satisfied: blis<0.8.0,>=0.7.8 in /Users/niclasstoffregen/nlp_project/nlp_venv/lib/python3.12/site-packages (from thinc<8.3.0,>=8.2.2->spacy<3.8.0,>=3.7.0->fr-core-news-sm==3.7.0) (0.7.11)\r\n",
      "Requirement already satisfied: confection<1.0.0,>=0.0.1 in /Users/niclasstoffregen/nlp_project/nlp_venv/lib/python3.12/site-packages (from thinc<8.3.0,>=8.2.2->spacy<3.8.0,>=3.7.0->fr-core-news-sm==3.7.0) (0.1.5)\r\n",
      "Requirement already satisfied: click>=8.0.0 in /Users/niclasstoffregen/nlp_project/nlp_venv/lib/python3.12/site-packages (from typer<1.0.0,>=0.3.0->spacy<3.8.0,>=3.7.0->fr-core-news-sm==3.7.0) (8.1.7)\r\n",
      "Requirement already satisfied: shellingham>=1.3.0 in /Users/niclasstoffregen/nlp_project/nlp_venv/lib/python3.12/site-packages (from typer<1.0.0,>=0.3.0->spacy<3.8.0,>=3.7.0->fr-core-news-sm==3.7.0) (1.5.4)\r\n",
      "Requirement already satisfied: rich>=10.11.0 in /Users/niclasstoffregen/nlp_project/nlp_venv/lib/python3.12/site-packages (from typer<1.0.0,>=0.3.0->spacy<3.8.0,>=3.7.0->fr-core-news-sm==3.7.0) (13.7.1)\r\n",
      "Requirement already satisfied: cloudpathlib<1.0.0,>=0.7.0 in /Users/niclasstoffregen/nlp_project/nlp_venv/lib/python3.12/site-packages (from weasel<0.5.0,>=0.1.0->spacy<3.8.0,>=3.7.0->fr-core-news-sm==3.7.0) (0.18.1)\r\n",
      "Requirement already satisfied: smart-open<8.0.0,>=5.2.1 in /Users/niclasstoffregen/nlp_project/nlp_venv/lib/python3.12/site-packages (from weasel<0.5.0,>=0.1.0->spacy<3.8.0,>=3.7.0->fr-core-news-sm==3.7.0) (7.0.4)\r\n",
      "Requirement already satisfied: MarkupSafe>=2.0 in /Users/niclasstoffregen/nlp_project/nlp_venv/lib/python3.12/site-packages (from jinja2->spacy<3.8.0,>=3.7.0->fr-core-news-sm==3.7.0) (2.1.5)\r\n",
      "Requirement already satisfied: marisa-trie>=0.7.7 in /Users/niclasstoffregen/nlp_project/nlp_venv/lib/python3.12/site-packages (from language-data>=1.2->langcodes<4.0.0,>=3.2.0->spacy<3.8.0,>=3.7.0->fr-core-news-sm==3.7.0) (1.2.0)\r\n",
      "Requirement already satisfied: markdown-it-py>=2.2.0 in /Users/niclasstoffregen/nlp_project/nlp_venv/lib/python3.12/site-packages (from rich>=10.11.0->typer<1.0.0,>=0.3.0->spacy<3.8.0,>=3.7.0->fr-core-news-sm==3.7.0) (3.0.0)\r\n",
      "Requirement already satisfied: pygments<3.0.0,>=2.13.0 in /Users/niclasstoffregen/nlp_project/nlp_venv/lib/python3.12/site-packages (from rich>=10.11.0->typer<1.0.0,>=0.3.0->spacy<3.8.0,>=3.7.0->fr-core-news-sm==3.7.0) (2.18.0)\r\n",
      "Requirement already satisfied: wrapt in /Users/niclasstoffregen/nlp_project/nlp_venv/lib/python3.12/site-packages (from smart-open<8.0.0,>=5.2.1->weasel<0.5.0,>=0.1.0->spacy<3.8.0,>=3.7.0->fr-core-news-sm==3.7.0) (1.16.0)\r\n",
      "Requirement already satisfied: mdurl~=0.1 in /Users/niclasstoffregen/nlp_project/nlp_venv/lib/python3.12/site-packages (from markdown-it-py>=2.2.0->rich>=10.11.0->typer<1.0.0,>=0.3.0->spacy<3.8.0,>=3.7.0->fr-core-news-sm==3.7.0) (0.1.2)\r\n",
      "Installing collected packages: fr-core-news-sm\r\n",
      "Successfully installed fr-core-news-sm-3.7.0\r\n",
      "\r\n",
      "\u001B[1m[\u001B[0m\u001B[34;49mnotice\u001B[0m\u001B[1;39;49m]\u001B[0m\u001B[39;49m A new release of pip is available: \u001B[0m\u001B[31;49m24.0\u001B[0m\u001B[39;49m -> \u001B[0m\u001B[32;49m24.1.2\u001B[0m\r\n",
      "\u001B[1m[\u001B[0m\u001B[34;49mnotice\u001B[0m\u001B[1;39;49m]\u001B[0m\u001B[39;49m To update, run: \u001B[0m\u001B[32;49mpip install --upgrade pip\u001B[0m\r\n",
      "\u001B[38;5;2m✔ Download and installation successful\u001B[0m\r\n",
      "You can now load the package via spacy.load('fr_core_news_sm')\r\n"
     ]
    }
   ],
   "execution_count": 25
  },
  {
   "cell_type": "code",
   "id": "1858d811",
   "metadata": {
    "ExecuteTime": {
     "end_time": "2024-07-26T18:47:38.624337Z",
     "start_time": "2024-07-26T18:37:15.699783Z"
    }
   },
   "source": [
    "\n",
    "\n",
    "# Load NLTK resources\n",
    "nltk.download('punkt')\n",
    "nltk.download('stopwords')\n",
    "\n",
    "# Load spaCy models\n",
    "nlp_en = spacy.load('en_core_web_sm')\n",
    "nlp_fr = spacy.load('fr_core_news_sm')\n",
    "\n",
    "# Stopwords setup\n",
    "stopwords_en = set(stopwords.words('english'))\n",
    "stopwords_fr = set(stopwords.words('french'))\n",
    "\n",
    "# Helper function to perform advanced analyses\n",
    "def analyze_text(data, language):\n",
    "    \n",
    "    # Create a copy of the DataFrame to avoid SettingWithCopyWarning\n",
    "    data = data.copy()\n",
    "    # Tokenization and removing punctuation\n",
    "    data['tokens'] = data['text'].apply(lambda x: [token.text.lower() for token in nlp_en(x) if token.is_alpha])\n",
    "    data['num_tokens'] = data['tokens'].apply(len)\n",
    "\n",
    "    # Stopword analysis\n",
    "    data['stopword_count'] = data['tokens'].apply(lambda x: sum(token in (stopwords_en if language == 'English' else stopwords_fr) for token in x))\n",
    "    data['stopword_ratio'] = data['stopword_count'] / data['num_tokens']\n",
    "\n",
    "    # Lexical diversity\n",
    "    data['lexical_diversity'] = data['tokens'].apply(lambda x: len(set(x)) / len(x) if x else 0)\n",
    "\n",
    "    # N-Gram analysis\n",
    "    data['bigrams'] = data['tokens'].apply(lambda x: list(bigrams(x)))\n",
    "    data['trigrams'] = data['tokens'].apply(lambda x: list(trigrams(x)))\n",
    "\n",
    "    # POS tagging\n",
    "    data['pos_tags'] = data['text'].apply(lambda x: [token.pos_ for token in nlp_en(x) if token.is_alpha])\n",
    "\n",
    "    # Sentence complexity (count of clauses per sentence)\n",
    "    data['sentence_complexity'] = data['text'].apply(lambda x: sum(1 for token in nlp_en(x) if token.dep_ == 'conj'))\n",
    "\n",
    "    return data\n",
    "\n",
    "english_data = analyze_text(english_data, 'English')\n",
    "french_data = analyze_text(french_data, 'French')\n",
    "\n",
    "# Example output of analysis\n",
    "print(\"English sample analysis:\")\n",
    "print(english_data[['lexical_diversity', 'stopword_ratio', 'sentence_complexity']].head())\n",
    "print(\"French sample analysis:\")\n",
    "print(french_data[['lexical_diversity', 'stopword_ratio', 'sentence_complexity']].head())\n",
    "\n",
    "# Visualization of sentence complexity\n",
    "plt.figure(figsize=(10, 6))\n",
    "plt.hist(english_data['sentence_complexity'], bins=30, alpha=0.5, label='English', color='blue')\n",
    "plt.hist(french_data['sentence_complexity'], bins=30, alpha=0.5, label='French', color='red')\n",
    "plt.title('Distribution of Sentence Complexity')\n",
    "plt.xlabel('Number of Clauses per Sentence')\n",
    "plt.ylabel('Frequency')\n",
    "plt.legend()\n",
    "plt.show()"
   ],
   "outputs": [
    {
     "name": "stderr",
     "output_type": "stream",
     "text": [
      "[nltk_data] Downloading package punkt to\n",
      "[nltk_data]     /Users/niclasstoffregen/nltk_data...\n",
      "[nltk_data]   Package punkt is already up-to-date!\n",
      "[nltk_data] Downloading package stopwords to\n",
      "[nltk_data]     /Users/niclasstoffregen/nltk_data...\n",
      "[nltk_data]   Package stopwords is already up-to-date!\n"
     ]
    },
    {
     "ename": "KeyboardInterrupt",
     "evalue": "",
     "output_type": "error",
     "traceback": [
      "\u001B[0;31m---------------------------------------------------------------------------\u001B[0m",
      "\u001B[0;31mKeyboardInterrupt\u001B[0m                         Traceback (most recent call last)",
      "Cell \u001B[0;32mIn[26], line 41\u001B[0m\n\u001B[1;32m     37\u001B[0m     data[\u001B[38;5;124m'\u001B[39m\u001B[38;5;124msentence_complexity\u001B[39m\u001B[38;5;124m'\u001B[39m] \u001B[38;5;241m=\u001B[39m data[\u001B[38;5;124m'\u001B[39m\u001B[38;5;124mtext\u001B[39m\u001B[38;5;124m'\u001B[39m]\u001B[38;5;241m.\u001B[39mapply(\u001B[38;5;28;01mlambda\u001B[39;00m x: \u001B[38;5;28msum\u001B[39m(\u001B[38;5;241m1\u001B[39m \u001B[38;5;28;01mfor\u001B[39;00m token \u001B[38;5;129;01min\u001B[39;00m nlp_en(x) \u001B[38;5;28;01mif\u001B[39;00m token\u001B[38;5;241m.\u001B[39mdep_ \u001B[38;5;241m==\u001B[39m \u001B[38;5;124m'\u001B[39m\u001B[38;5;124mconj\u001B[39m\u001B[38;5;124m'\u001B[39m))\n\u001B[1;32m     39\u001B[0m     \u001B[38;5;28;01mreturn\u001B[39;00m data\n\u001B[0;32m---> 41\u001B[0m english_data \u001B[38;5;241m=\u001B[39m \u001B[43manalyze_text\u001B[49m\u001B[43m(\u001B[49m\u001B[43menglish_data\u001B[49m\u001B[43m,\u001B[49m\u001B[43m \u001B[49m\u001B[38;5;124;43m'\u001B[39;49m\u001B[38;5;124;43mEnglish\u001B[39;49m\u001B[38;5;124;43m'\u001B[39;49m\u001B[43m)\u001B[49m\n\u001B[1;32m     42\u001B[0m french_data \u001B[38;5;241m=\u001B[39m analyze_text(french_data, \u001B[38;5;124m'\u001B[39m\u001B[38;5;124mFrench\u001B[39m\u001B[38;5;124m'\u001B[39m)\n\u001B[1;32m     44\u001B[0m \u001B[38;5;66;03m# Example output of analysis\u001B[39;00m\n",
      "Cell \u001B[0;32mIn[26], line 34\u001B[0m, in \u001B[0;36manalyze_text\u001B[0;34m(data, language)\u001B[0m\n\u001B[1;32m     31\u001B[0m data[\u001B[38;5;124m'\u001B[39m\u001B[38;5;124mtrigrams\u001B[39m\u001B[38;5;124m'\u001B[39m] \u001B[38;5;241m=\u001B[39m data[\u001B[38;5;124m'\u001B[39m\u001B[38;5;124mtokens\u001B[39m\u001B[38;5;124m'\u001B[39m]\u001B[38;5;241m.\u001B[39mapply(\u001B[38;5;28;01mlambda\u001B[39;00m x: \u001B[38;5;28mlist\u001B[39m(trigrams(x)))\n\u001B[1;32m     33\u001B[0m \u001B[38;5;66;03m# POS tagging\u001B[39;00m\n\u001B[0;32m---> 34\u001B[0m data[\u001B[38;5;124m'\u001B[39m\u001B[38;5;124mpos_tags\u001B[39m\u001B[38;5;124m'\u001B[39m] \u001B[38;5;241m=\u001B[39m \u001B[43mdata\u001B[49m\u001B[43m[\u001B[49m\u001B[38;5;124;43m'\u001B[39;49m\u001B[38;5;124;43mtext\u001B[39;49m\u001B[38;5;124;43m'\u001B[39;49m\u001B[43m]\u001B[49m\u001B[38;5;241;43m.\u001B[39;49m\u001B[43mapply\u001B[49m\u001B[43m(\u001B[49m\u001B[38;5;28;43;01mlambda\u001B[39;49;00m\u001B[43m \u001B[49m\u001B[43mx\u001B[49m\u001B[43m:\u001B[49m\u001B[43m \u001B[49m\u001B[43m[\u001B[49m\u001B[43mtoken\u001B[49m\u001B[38;5;241;43m.\u001B[39;49m\u001B[43mpos_\u001B[49m\u001B[43m \u001B[49m\u001B[38;5;28;43;01mfor\u001B[39;49;00m\u001B[43m \u001B[49m\u001B[43mtoken\u001B[49m\u001B[43m \u001B[49m\u001B[38;5;129;43;01min\u001B[39;49;00m\u001B[43m \u001B[49m\u001B[43mnlp_en\u001B[49m\u001B[43m(\u001B[49m\u001B[43mx\u001B[49m\u001B[43m)\u001B[49m\u001B[43m \u001B[49m\u001B[38;5;28;43;01mif\u001B[39;49;00m\u001B[43m \u001B[49m\u001B[43mtoken\u001B[49m\u001B[38;5;241;43m.\u001B[39;49m\u001B[43mis_alpha\u001B[49m\u001B[43m]\u001B[49m\u001B[43m)\u001B[49m\n\u001B[1;32m     36\u001B[0m \u001B[38;5;66;03m# Sentence complexity (count of clauses per sentence)\u001B[39;00m\n\u001B[1;32m     37\u001B[0m data[\u001B[38;5;124m'\u001B[39m\u001B[38;5;124msentence_complexity\u001B[39m\u001B[38;5;124m'\u001B[39m] \u001B[38;5;241m=\u001B[39m data[\u001B[38;5;124m'\u001B[39m\u001B[38;5;124mtext\u001B[39m\u001B[38;5;124m'\u001B[39m]\u001B[38;5;241m.\u001B[39mapply(\u001B[38;5;28;01mlambda\u001B[39;00m x: \u001B[38;5;28msum\u001B[39m(\u001B[38;5;241m1\u001B[39m \u001B[38;5;28;01mfor\u001B[39;00m token \u001B[38;5;129;01min\u001B[39;00m nlp_en(x) \u001B[38;5;28;01mif\u001B[39;00m token\u001B[38;5;241m.\u001B[39mdep_ \u001B[38;5;241m==\u001B[39m \u001B[38;5;124m'\u001B[39m\u001B[38;5;124mconj\u001B[39m\u001B[38;5;124m'\u001B[39m))\n",
      "File \u001B[0;32m~/nlp_project/nlp_venv/lib/python3.12/site-packages/pandas/core/series.py:4924\u001B[0m, in \u001B[0;36mSeries.apply\u001B[0;34m(self, func, convert_dtype, args, by_row, **kwargs)\u001B[0m\n\u001B[1;32m   4789\u001B[0m \u001B[38;5;28;01mdef\u001B[39;00m \u001B[38;5;21mapply\u001B[39m(\n\u001B[1;32m   4790\u001B[0m     \u001B[38;5;28mself\u001B[39m,\n\u001B[1;32m   4791\u001B[0m     func: AggFuncType,\n\u001B[0;32m   (...)\u001B[0m\n\u001B[1;32m   4796\u001B[0m     \u001B[38;5;241m*\u001B[39m\u001B[38;5;241m*\u001B[39mkwargs,\n\u001B[1;32m   4797\u001B[0m ) \u001B[38;5;241m-\u001B[39m\u001B[38;5;241m>\u001B[39m DataFrame \u001B[38;5;241m|\u001B[39m Series:\n\u001B[1;32m   4798\u001B[0m \u001B[38;5;250m    \u001B[39m\u001B[38;5;124;03m\"\"\"\u001B[39;00m\n\u001B[1;32m   4799\u001B[0m \u001B[38;5;124;03m    Invoke function on values of Series.\u001B[39;00m\n\u001B[1;32m   4800\u001B[0m \n\u001B[0;32m   (...)\u001B[0m\n\u001B[1;32m   4915\u001B[0m \u001B[38;5;124;03m    dtype: float64\u001B[39;00m\n\u001B[1;32m   4916\u001B[0m \u001B[38;5;124;03m    \"\"\"\u001B[39;00m\n\u001B[1;32m   4917\u001B[0m     \u001B[38;5;28;01mreturn\u001B[39;00m \u001B[43mSeriesApply\u001B[49m\u001B[43m(\u001B[49m\n\u001B[1;32m   4918\u001B[0m \u001B[43m        \u001B[49m\u001B[38;5;28;43mself\u001B[39;49m\u001B[43m,\u001B[49m\n\u001B[1;32m   4919\u001B[0m \u001B[43m        \u001B[49m\u001B[43mfunc\u001B[49m\u001B[43m,\u001B[49m\n\u001B[1;32m   4920\u001B[0m \u001B[43m        \u001B[49m\u001B[43mconvert_dtype\u001B[49m\u001B[38;5;241;43m=\u001B[39;49m\u001B[43mconvert_dtype\u001B[49m\u001B[43m,\u001B[49m\n\u001B[1;32m   4921\u001B[0m \u001B[43m        \u001B[49m\u001B[43mby_row\u001B[49m\u001B[38;5;241;43m=\u001B[39;49m\u001B[43mby_row\u001B[49m\u001B[43m,\u001B[49m\n\u001B[1;32m   4922\u001B[0m \u001B[43m        \u001B[49m\u001B[43margs\u001B[49m\u001B[38;5;241;43m=\u001B[39;49m\u001B[43margs\u001B[49m\u001B[43m,\u001B[49m\n\u001B[1;32m   4923\u001B[0m \u001B[43m        \u001B[49m\u001B[43mkwargs\u001B[49m\u001B[38;5;241;43m=\u001B[39;49m\u001B[43mkwargs\u001B[49m\u001B[43m,\u001B[49m\n\u001B[0;32m-> 4924\u001B[0m \u001B[43m    \u001B[49m\u001B[43m)\u001B[49m\u001B[38;5;241;43m.\u001B[39;49m\u001B[43mapply\u001B[49m\u001B[43m(\u001B[49m\u001B[43m)\u001B[49m\n",
      "File \u001B[0;32m~/nlp_project/nlp_venv/lib/python3.12/site-packages/pandas/core/apply.py:1427\u001B[0m, in \u001B[0;36mSeriesApply.apply\u001B[0;34m(self)\u001B[0m\n\u001B[1;32m   1424\u001B[0m     \u001B[38;5;28;01mreturn\u001B[39;00m \u001B[38;5;28mself\u001B[39m\u001B[38;5;241m.\u001B[39mapply_compat()\n\u001B[1;32m   1426\u001B[0m \u001B[38;5;66;03m# self.func is Callable\u001B[39;00m\n\u001B[0;32m-> 1427\u001B[0m \u001B[38;5;28;01mreturn\u001B[39;00m \u001B[38;5;28;43mself\u001B[39;49m\u001B[38;5;241;43m.\u001B[39;49m\u001B[43mapply_standard\u001B[49m\u001B[43m(\u001B[49m\u001B[43m)\u001B[49m\n",
      "File \u001B[0;32m~/nlp_project/nlp_venv/lib/python3.12/site-packages/pandas/core/apply.py:1507\u001B[0m, in \u001B[0;36mSeriesApply.apply_standard\u001B[0;34m(self)\u001B[0m\n\u001B[1;32m   1501\u001B[0m \u001B[38;5;66;03m# row-wise access\u001B[39;00m\n\u001B[1;32m   1502\u001B[0m \u001B[38;5;66;03m# apply doesn't have a `na_action` keyword and for backward compat reasons\u001B[39;00m\n\u001B[1;32m   1503\u001B[0m \u001B[38;5;66;03m# we need to give `na_action=\"ignore\"` for categorical data.\u001B[39;00m\n\u001B[1;32m   1504\u001B[0m \u001B[38;5;66;03m# TODO: remove the `na_action=\"ignore\"` when that default has been changed in\u001B[39;00m\n\u001B[1;32m   1505\u001B[0m \u001B[38;5;66;03m#  Categorical (GH51645).\u001B[39;00m\n\u001B[1;32m   1506\u001B[0m action \u001B[38;5;241m=\u001B[39m \u001B[38;5;124m\"\u001B[39m\u001B[38;5;124mignore\u001B[39m\u001B[38;5;124m\"\u001B[39m \u001B[38;5;28;01mif\u001B[39;00m \u001B[38;5;28misinstance\u001B[39m(obj\u001B[38;5;241m.\u001B[39mdtype, CategoricalDtype) \u001B[38;5;28;01melse\u001B[39;00m \u001B[38;5;28;01mNone\u001B[39;00m\n\u001B[0;32m-> 1507\u001B[0m mapped \u001B[38;5;241m=\u001B[39m \u001B[43mobj\u001B[49m\u001B[38;5;241;43m.\u001B[39;49m\u001B[43m_map_values\u001B[49m\u001B[43m(\u001B[49m\n\u001B[1;32m   1508\u001B[0m \u001B[43m    \u001B[49m\u001B[43mmapper\u001B[49m\u001B[38;5;241;43m=\u001B[39;49m\u001B[43mcurried\u001B[49m\u001B[43m,\u001B[49m\u001B[43m \u001B[49m\u001B[43mna_action\u001B[49m\u001B[38;5;241;43m=\u001B[39;49m\u001B[43maction\u001B[49m\u001B[43m,\u001B[49m\u001B[43m \u001B[49m\u001B[43mconvert\u001B[49m\u001B[38;5;241;43m=\u001B[39;49m\u001B[38;5;28;43mself\u001B[39;49m\u001B[38;5;241;43m.\u001B[39;49m\u001B[43mconvert_dtype\u001B[49m\n\u001B[1;32m   1509\u001B[0m \u001B[43m\u001B[49m\u001B[43m)\u001B[49m\n\u001B[1;32m   1511\u001B[0m \u001B[38;5;28;01mif\u001B[39;00m \u001B[38;5;28mlen\u001B[39m(mapped) \u001B[38;5;129;01mand\u001B[39;00m \u001B[38;5;28misinstance\u001B[39m(mapped[\u001B[38;5;241m0\u001B[39m], ABCSeries):\n\u001B[1;32m   1512\u001B[0m     \u001B[38;5;66;03m# GH#43986 Need to do list(mapped) in order to get treated as nested\u001B[39;00m\n\u001B[1;32m   1513\u001B[0m     \u001B[38;5;66;03m#  See also GH#25959 regarding EA support\u001B[39;00m\n\u001B[1;32m   1514\u001B[0m     \u001B[38;5;28;01mreturn\u001B[39;00m obj\u001B[38;5;241m.\u001B[39m_constructor_expanddim(\u001B[38;5;28mlist\u001B[39m(mapped), index\u001B[38;5;241m=\u001B[39mobj\u001B[38;5;241m.\u001B[39mindex)\n",
      "File \u001B[0;32m~/nlp_project/nlp_venv/lib/python3.12/site-packages/pandas/core/base.py:921\u001B[0m, in \u001B[0;36mIndexOpsMixin._map_values\u001B[0;34m(self, mapper, na_action, convert)\u001B[0m\n\u001B[1;32m    918\u001B[0m \u001B[38;5;28;01mif\u001B[39;00m \u001B[38;5;28misinstance\u001B[39m(arr, ExtensionArray):\n\u001B[1;32m    919\u001B[0m     \u001B[38;5;28;01mreturn\u001B[39;00m arr\u001B[38;5;241m.\u001B[39mmap(mapper, na_action\u001B[38;5;241m=\u001B[39mna_action)\n\u001B[0;32m--> 921\u001B[0m \u001B[38;5;28;01mreturn\u001B[39;00m \u001B[43malgorithms\u001B[49m\u001B[38;5;241;43m.\u001B[39;49m\u001B[43mmap_array\u001B[49m\u001B[43m(\u001B[49m\u001B[43marr\u001B[49m\u001B[43m,\u001B[49m\u001B[43m \u001B[49m\u001B[43mmapper\u001B[49m\u001B[43m,\u001B[49m\u001B[43m \u001B[49m\u001B[43mna_action\u001B[49m\u001B[38;5;241;43m=\u001B[39;49m\u001B[43mna_action\u001B[49m\u001B[43m,\u001B[49m\u001B[43m \u001B[49m\u001B[43mconvert\u001B[49m\u001B[38;5;241;43m=\u001B[39;49m\u001B[43mconvert\u001B[49m\u001B[43m)\u001B[49m\n",
      "File \u001B[0;32m~/nlp_project/nlp_venv/lib/python3.12/site-packages/pandas/core/algorithms.py:1743\u001B[0m, in \u001B[0;36mmap_array\u001B[0;34m(arr, mapper, na_action, convert)\u001B[0m\n\u001B[1;32m   1741\u001B[0m values \u001B[38;5;241m=\u001B[39m arr\u001B[38;5;241m.\u001B[39mastype(\u001B[38;5;28mobject\u001B[39m, copy\u001B[38;5;241m=\u001B[39m\u001B[38;5;28;01mFalse\u001B[39;00m)\n\u001B[1;32m   1742\u001B[0m \u001B[38;5;28;01mif\u001B[39;00m na_action \u001B[38;5;129;01mis\u001B[39;00m \u001B[38;5;28;01mNone\u001B[39;00m:\n\u001B[0;32m-> 1743\u001B[0m     \u001B[38;5;28;01mreturn\u001B[39;00m \u001B[43mlib\u001B[49m\u001B[38;5;241;43m.\u001B[39;49m\u001B[43mmap_infer\u001B[49m\u001B[43m(\u001B[49m\u001B[43mvalues\u001B[49m\u001B[43m,\u001B[49m\u001B[43m \u001B[49m\u001B[43mmapper\u001B[49m\u001B[43m,\u001B[49m\u001B[43m \u001B[49m\u001B[43mconvert\u001B[49m\u001B[38;5;241;43m=\u001B[39;49m\u001B[43mconvert\u001B[49m\u001B[43m)\u001B[49m\n\u001B[1;32m   1744\u001B[0m \u001B[38;5;28;01melse\u001B[39;00m:\n\u001B[1;32m   1745\u001B[0m     \u001B[38;5;28;01mreturn\u001B[39;00m lib\u001B[38;5;241m.\u001B[39mmap_infer_mask(\n\u001B[1;32m   1746\u001B[0m         values, mapper, mask\u001B[38;5;241m=\u001B[39misna(values)\u001B[38;5;241m.\u001B[39mview(np\u001B[38;5;241m.\u001B[39muint8), convert\u001B[38;5;241m=\u001B[39mconvert\n\u001B[1;32m   1747\u001B[0m     )\n",
      "File \u001B[0;32mlib.pyx:2972\u001B[0m, in \u001B[0;36mpandas._libs.lib.map_infer\u001B[0;34m()\u001B[0m\n",
      "Cell \u001B[0;32mIn[26], line 34\u001B[0m, in \u001B[0;36manalyze_text.<locals>.<lambda>\u001B[0;34m(x)\u001B[0m\n\u001B[1;32m     31\u001B[0m data[\u001B[38;5;124m'\u001B[39m\u001B[38;5;124mtrigrams\u001B[39m\u001B[38;5;124m'\u001B[39m] \u001B[38;5;241m=\u001B[39m data[\u001B[38;5;124m'\u001B[39m\u001B[38;5;124mtokens\u001B[39m\u001B[38;5;124m'\u001B[39m]\u001B[38;5;241m.\u001B[39mapply(\u001B[38;5;28;01mlambda\u001B[39;00m x: \u001B[38;5;28mlist\u001B[39m(trigrams(x)))\n\u001B[1;32m     33\u001B[0m \u001B[38;5;66;03m# POS tagging\u001B[39;00m\n\u001B[0;32m---> 34\u001B[0m data[\u001B[38;5;124m'\u001B[39m\u001B[38;5;124mpos_tags\u001B[39m\u001B[38;5;124m'\u001B[39m] \u001B[38;5;241m=\u001B[39m data[\u001B[38;5;124m'\u001B[39m\u001B[38;5;124mtext\u001B[39m\u001B[38;5;124m'\u001B[39m]\u001B[38;5;241m.\u001B[39mapply(\u001B[38;5;28;01mlambda\u001B[39;00m x: [token\u001B[38;5;241m.\u001B[39mpos_ \u001B[38;5;28;01mfor\u001B[39;00m token \u001B[38;5;129;01min\u001B[39;00m \u001B[43mnlp_en\u001B[49m\u001B[43m(\u001B[49m\u001B[43mx\u001B[49m\u001B[43m)\u001B[49m \u001B[38;5;28;01mif\u001B[39;00m token\u001B[38;5;241m.\u001B[39mis_alpha])\n\u001B[1;32m     36\u001B[0m \u001B[38;5;66;03m# Sentence complexity (count of clauses per sentence)\u001B[39;00m\n\u001B[1;32m     37\u001B[0m data[\u001B[38;5;124m'\u001B[39m\u001B[38;5;124msentence_complexity\u001B[39m\u001B[38;5;124m'\u001B[39m] \u001B[38;5;241m=\u001B[39m data[\u001B[38;5;124m'\u001B[39m\u001B[38;5;124mtext\u001B[39m\u001B[38;5;124m'\u001B[39m]\u001B[38;5;241m.\u001B[39mapply(\u001B[38;5;28;01mlambda\u001B[39;00m x: \u001B[38;5;28msum\u001B[39m(\u001B[38;5;241m1\u001B[39m \u001B[38;5;28;01mfor\u001B[39;00m token \u001B[38;5;129;01min\u001B[39;00m nlp_en(x) \u001B[38;5;28;01mif\u001B[39;00m token\u001B[38;5;241m.\u001B[39mdep_ \u001B[38;5;241m==\u001B[39m \u001B[38;5;124m'\u001B[39m\u001B[38;5;124mconj\u001B[39m\u001B[38;5;124m'\u001B[39m))\n",
      "File \u001B[0;32m~/nlp_project/nlp_venv/lib/python3.12/site-packages/spacy/language.py:1049\u001B[0m, in \u001B[0;36mLanguage.__call__\u001B[0;34m(self, text, disable, component_cfg)\u001B[0m\n\u001B[1;32m   1047\u001B[0m     error_handler \u001B[38;5;241m=\u001B[39m proc\u001B[38;5;241m.\u001B[39mget_error_handler()\n\u001B[1;32m   1048\u001B[0m \u001B[38;5;28;01mtry\u001B[39;00m:\n\u001B[0;32m-> 1049\u001B[0m     doc \u001B[38;5;241m=\u001B[39m \u001B[43mproc\u001B[49m\u001B[43m(\u001B[49m\u001B[43mdoc\u001B[49m\u001B[43m,\u001B[49m\u001B[43m \u001B[49m\u001B[38;5;241;43m*\u001B[39;49m\u001B[38;5;241;43m*\u001B[39;49m\u001B[43mcomponent_cfg\u001B[49m\u001B[38;5;241;43m.\u001B[39;49m\u001B[43mget\u001B[49m\u001B[43m(\u001B[49m\u001B[43mname\u001B[49m\u001B[43m,\u001B[49m\u001B[43m \u001B[49m\u001B[43m{\u001B[49m\u001B[43m}\u001B[49m\u001B[43m)\u001B[49m\u001B[43m)\u001B[49m  \u001B[38;5;66;03m# type: ignore[call-arg]\u001B[39;00m\n\u001B[1;32m   1050\u001B[0m \u001B[38;5;28;01mexcept\u001B[39;00m \u001B[38;5;167;01mKeyError\u001B[39;00m \u001B[38;5;28;01mas\u001B[39;00m e:\n\u001B[1;32m   1051\u001B[0m     \u001B[38;5;66;03m# This typically happens if a component is not initialized\u001B[39;00m\n\u001B[1;32m   1052\u001B[0m     \u001B[38;5;28;01mraise\u001B[39;00m \u001B[38;5;167;01mValueError\u001B[39;00m(Errors\u001B[38;5;241m.\u001B[39mE109\u001B[38;5;241m.\u001B[39mformat(name\u001B[38;5;241m=\u001B[39mname)) \u001B[38;5;28;01mfrom\u001B[39;00m \u001B[38;5;21;01me\u001B[39;00m\n",
      "File \u001B[0;32m~/nlp_project/nlp_venv/lib/python3.12/site-packages/spacy/pipeline/trainable_pipe.pyx:52\u001B[0m, in \u001B[0;36mspacy.pipeline.trainable_pipe.TrainablePipe.__call__\u001B[0;34m()\u001B[0m\n",
      "File \u001B[0;32m~/nlp_project/nlp_venv/lib/python3.12/site-packages/spacy/pipeline/transition_parser.pyx:264\u001B[0m, in \u001B[0;36mspacy.pipeline.transition_parser.Parser.predict\u001B[0;34m()\u001B[0m\n",
      "File \u001B[0;32m~/nlp_project/nlp_venv/lib/python3.12/site-packages/spacy/pipeline/transition_parser.pyx:285\u001B[0m, in \u001B[0;36mspacy.pipeline.transition_parser.Parser.greedy_parse\u001B[0;34m()\u001B[0m\n",
      "File \u001B[0;32m~/nlp_project/nlp_venv/lib/python3.12/site-packages/thinc/model.py:334\u001B[0m, in \u001B[0;36mModel.predict\u001B[0;34m(self, X)\u001B[0m\n\u001B[1;32m    330\u001B[0m \u001B[38;5;28;01mdef\u001B[39;00m \u001B[38;5;21mpredict\u001B[39m(\u001B[38;5;28mself\u001B[39m, X: InT) \u001B[38;5;241m-\u001B[39m\u001B[38;5;241m>\u001B[39m OutT:\n\u001B[1;32m    331\u001B[0m \u001B[38;5;250m    \u001B[39m\u001B[38;5;124;03m\"\"\"Call the model's `forward` function with `is_train=False`, and return\u001B[39;00m\n\u001B[1;32m    332\u001B[0m \u001B[38;5;124;03m    only the output, instead of the `(output, callback)` tuple.\u001B[39;00m\n\u001B[1;32m    333\u001B[0m \u001B[38;5;124;03m    \"\"\"\u001B[39;00m\n\u001B[0;32m--> 334\u001B[0m     \u001B[38;5;28;01mreturn\u001B[39;00m \u001B[38;5;28;43mself\u001B[39;49m\u001B[38;5;241;43m.\u001B[39;49m\u001B[43m_func\u001B[49m\u001B[43m(\u001B[49m\u001B[38;5;28;43mself\u001B[39;49m\u001B[43m,\u001B[49m\u001B[43m \u001B[49m\u001B[43mX\u001B[49m\u001B[43m,\u001B[49m\u001B[43m \u001B[49m\u001B[43mis_train\u001B[49m\u001B[38;5;241;43m=\u001B[39;49m\u001B[38;5;28;43;01mFalse\u001B[39;49;00m\u001B[43m)\u001B[49m[\u001B[38;5;241m0\u001B[39m]\n",
      "File \u001B[0;32m~/nlp_project/nlp_venv/lib/python3.12/site-packages/spacy/ml/tb_framework.py:34\u001B[0m, in \u001B[0;36mforward\u001B[0;34m(model, X, is_train)\u001B[0m\n\u001B[1;32m     33\u001B[0m \u001B[38;5;28;01mdef\u001B[39;00m \u001B[38;5;21mforward\u001B[39m(model, X, is_train):\n\u001B[0;32m---> 34\u001B[0m     step_model \u001B[38;5;241m=\u001B[39m \u001B[43mParserStepModel\u001B[49m\u001B[43m(\u001B[49m\n\u001B[1;32m     35\u001B[0m \u001B[43m        \u001B[49m\u001B[43mX\u001B[49m\u001B[43m,\u001B[49m\n\u001B[1;32m     36\u001B[0m \u001B[43m        \u001B[49m\u001B[43mmodel\u001B[49m\u001B[38;5;241;43m.\u001B[39;49m\u001B[43mlayers\u001B[49m\u001B[43m,\u001B[49m\n\u001B[1;32m     37\u001B[0m \u001B[43m        \u001B[49m\u001B[43munseen_classes\u001B[49m\u001B[38;5;241;43m=\u001B[39;49m\u001B[43mmodel\u001B[49m\u001B[38;5;241;43m.\u001B[39;49m\u001B[43mattrs\u001B[49m\u001B[43m[\u001B[49m\u001B[38;5;124;43m\"\u001B[39;49m\u001B[38;5;124;43munseen_classes\u001B[39;49m\u001B[38;5;124;43m\"\u001B[39;49m\u001B[43m]\u001B[49m\u001B[43m,\u001B[49m\n\u001B[1;32m     38\u001B[0m \u001B[43m        \u001B[49m\u001B[43mtrain\u001B[49m\u001B[38;5;241;43m=\u001B[39;49m\u001B[43mis_train\u001B[49m\u001B[43m,\u001B[49m\n\u001B[1;32m     39\u001B[0m \u001B[43m        \u001B[49m\u001B[43mhas_upper\u001B[49m\u001B[38;5;241;43m=\u001B[39;49m\u001B[43mmodel\u001B[49m\u001B[38;5;241;43m.\u001B[39;49m\u001B[43mattrs\u001B[49m\u001B[43m[\u001B[49m\u001B[38;5;124;43m\"\u001B[39;49m\u001B[38;5;124;43mhas_upper\u001B[39;49m\u001B[38;5;124;43m\"\u001B[39;49m\u001B[43m]\u001B[49m\u001B[43m,\u001B[49m\n\u001B[1;32m     40\u001B[0m \u001B[43m    \u001B[49m\u001B[43m)\u001B[49m\n\u001B[1;32m     42\u001B[0m     \u001B[38;5;28;01mreturn\u001B[39;00m step_model, step_model\u001B[38;5;241m.\u001B[39mfinish_steps\n",
      "File \u001B[0;32m~/nlp_project/nlp_venv/lib/python3.12/site-packages/spacy/ml/parser_model.pyx:250\u001B[0m, in \u001B[0;36mspacy.ml.parser_model.ParserStepModel.__init__\u001B[0;34m()\u001B[0m\n",
      "File \u001B[0;32m~/nlp_project/nlp_venv/lib/python3.12/site-packages/thinc/model.py:310\u001B[0m, in \u001B[0;36mModel.__call__\u001B[0;34m(self, X, is_train)\u001B[0m\n\u001B[1;32m    307\u001B[0m \u001B[38;5;28;01mdef\u001B[39;00m \u001B[38;5;21m__call__\u001B[39m(\u001B[38;5;28mself\u001B[39m, X: InT, is_train: \u001B[38;5;28mbool\u001B[39m) \u001B[38;5;241m-\u001B[39m\u001B[38;5;241m>\u001B[39m Tuple[OutT, Callable]:\n\u001B[1;32m    308\u001B[0m \u001B[38;5;250m    \u001B[39m\u001B[38;5;124;03m\"\"\"Call the model's `forward` function, returning the output and a\u001B[39;00m\n\u001B[1;32m    309\u001B[0m \u001B[38;5;124;03m    callback to compute the gradients via backpropagation.\"\"\"\u001B[39;00m\n\u001B[0;32m--> 310\u001B[0m     \u001B[38;5;28;01mreturn\u001B[39;00m \u001B[38;5;28;43mself\u001B[39;49m\u001B[38;5;241;43m.\u001B[39;49m\u001B[43m_func\u001B[49m\u001B[43m(\u001B[49m\u001B[38;5;28;43mself\u001B[39;49m\u001B[43m,\u001B[49m\u001B[43m \u001B[49m\u001B[43mX\u001B[49m\u001B[43m,\u001B[49m\u001B[43m \u001B[49m\u001B[43mis_train\u001B[49m\u001B[38;5;241;43m=\u001B[39;49m\u001B[43mis_train\u001B[49m\u001B[43m)\u001B[49m\n",
      "File \u001B[0;32m~/nlp_project/nlp_venv/lib/python3.12/site-packages/thinc/layers/chain.py:54\u001B[0m, in \u001B[0;36mforward\u001B[0;34m(model, X, is_train)\u001B[0m\n\u001B[1;32m     52\u001B[0m callbacks \u001B[38;5;241m=\u001B[39m []\n\u001B[1;32m     53\u001B[0m \u001B[38;5;28;01mfor\u001B[39;00m layer \u001B[38;5;129;01min\u001B[39;00m model\u001B[38;5;241m.\u001B[39mlayers:\n\u001B[0;32m---> 54\u001B[0m     Y, inc_layer_grad \u001B[38;5;241m=\u001B[39m \u001B[43mlayer\u001B[49m\u001B[43m(\u001B[49m\u001B[43mX\u001B[49m\u001B[43m,\u001B[49m\u001B[43m \u001B[49m\u001B[43mis_train\u001B[49m\u001B[38;5;241;43m=\u001B[39;49m\u001B[43mis_train\u001B[49m\u001B[43m)\u001B[49m\n\u001B[1;32m     55\u001B[0m     callbacks\u001B[38;5;241m.\u001B[39mappend(inc_layer_grad)\n\u001B[1;32m     56\u001B[0m     X \u001B[38;5;241m=\u001B[39m Y\n",
      "File \u001B[0;32m~/nlp_project/nlp_venv/lib/python3.12/site-packages/thinc/model.py:310\u001B[0m, in \u001B[0;36mModel.__call__\u001B[0;34m(self, X, is_train)\u001B[0m\n\u001B[1;32m    307\u001B[0m \u001B[38;5;28;01mdef\u001B[39;00m \u001B[38;5;21m__call__\u001B[39m(\u001B[38;5;28mself\u001B[39m, X: InT, is_train: \u001B[38;5;28mbool\u001B[39m) \u001B[38;5;241m-\u001B[39m\u001B[38;5;241m>\u001B[39m Tuple[OutT, Callable]:\n\u001B[1;32m    308\u001B[0m \u001B[38;5;250m    \u001B[39m\u001B[38;5;124;03m\"\"\"Call the model's `forward` function, returning the output and a\u001B[39;00m\n\u001B[1;32m    309\u001B[0m \u001B[38;5;124;03m    callback to compute the gradients via backpropagation.\"\"\"\u001B[39;00m\n\u001B[0;32m--> 310\u001B[0m     \u001B[38;5;28;01mreturn\u001B[39;00m \u001B[38;5;28;43mself\u001B[39;49m\u001B[38;5;241;43m.\u001B[39;49m\u001B[43m_func\u001B[49m\u001B[43m(\u001B[49m\u001B[38;5;28;43mself\u001B[39;49m\u001B[43m,\u001B[49m\u001B[43m \u001B[49m\u001B[43mX\u001B[49m\u001B[43m,\u001B[49m\u001B[43m \u001B[49m\u001B[43mis_train\u001B[49m\u001B[38;5;241;43m=\u001B[39;49m\u001B[43mis_train\u001B[49m\u001B[43m)\u001B[49m\n",
      "File \u001B[0;32m~/nlp_project/nlp_venv/lib/python3.12/site-packages/thinc/layers/list2array.py:30\u001B[0m, in \u001B[0;36mforward\u001B[0;34m(model, Xs, is_train)\u001B[0m\n\u001B[1;32m     27\u001B[0m \u001B[38;5;28;01mdef\u001B[39;00m \u001B[38;5;21mbackprop\u001B[39m(dY: OutT) \u001B[38;5;241m-\u001B[39m\u001B[38;5;241m>\u001B[39m InT:\n\u001B[1;32m     28\u001B[0m     \u001B[38;5;28;01mreturn\u001B[39;00m model\u001B[38;5;241m.\u001B[39mops\u001B[38;5;241m.\u001B[39munflatten(dY, lengths)\n\u001B[0;32m---> 30\u001B[0m \u001B[38;5;28;01mreturn\u001B[39;00m \u001B[43mmodel\u001B[49m\u001B[38;5;241;43m.\u001B[39;49m\u001B[43mops\u001B[49m\u001B[38;5;241;43m.\u001B[39;49m\u001B[43mflatten\u001B[49m\u001B[43m(\u001B[49m\u001B[43mXs\u001B[49m\u001B[43m)\u001B[49m, backprop\n",
      "File \u001B[0;32m~/nlp_project/nlp_venv/lib/python3.12/site-packages/thinc/backends/ops.py:341\u001B[0m, in \u001B[0;36mOps.flatten\u001B[0;34m(self, X, dtype, pad, ndim_if_empty)\u001B[0m\n\u001B[1;32m    339\u001B[0m     padded\u001B[38;5;241m.\u001B[39mappend(xp\u001B[38;5;241m.\u001B[39mzeros((pad,) \u001B[38;5;241m+\u001B[39m x\u001B[38;5;241m.\u001B[39mshape[\u001B[38;5;241m1\u001B[39m:], dtype\u001B[38;5;241m=\u001B[39mx\u001B[38;5;241m.\u001B[39mdtype))\n\u001B[1;32m    340\u001B[0m     X \u001B[38;5;241m=\u001B[39m padded\n\u001B[0;32m--> 341\u001B[0m result \u001B[38;5;241m=\u001B[39m \u001B[43mxp\u001B[49m\u001B[38;5;241;43m.\u001B[39;49m\u001B[43mconcatenate\u001B[49m\u001B[43m(\u001B[49m\u001B[43mX\u001B[49m\u001B[43m)\u001B[49m\n\u001B[1;32m    342\u001B[0m \u001B[38;5;28;01mif\u001B[39;00m dtype \u001B[38;5;129;01mis\u001B[39;00m \u001B[38;5;129;01mnot\u001B[39;00m \u001B[38;5;28;01mNone\u001B[39;00m:\n\u001B[1;32m    343\u001B[0m     result \u001B[38;5;241m=\u001B[39m xp\u001B[38;5;241m.\u001B[39masarray(result, dtype\u001B[38;5;241m=\u001B[39mdtype)\n",
      "\u001B[0;31mKeyboardInterrupt\u001B[0m: "
     ]
    }
   ],
   "execution_count": 26
  },
  {
   "cell_type": "code",
   "id": "1dd67f96",
   "metadata": {
    "ExecuteTime": {
     "end_time": "2024-07-26T18:47:40.422540Z",
     "start_time": "2024-07-26T18:47:40.420679Z"
    }
   },
   "source": [
    "########### TASK 2###############"
   ],
   "outputs": [],
   "execution_count": 27
  },
  {
   "cell_type": "code",
   "id": "50827cf9",
   "metadata": {
    "ExecuteTime": {
     "end_time": "2024-07-26T18:47:42.176737Z",
     "start_time": "2024-07-26T18:47:42.174783Z"
    }
   },
   "source": [
    "##################DATA PREPROCESSING#################################"
   ],
   "outputs": [],
   "execution_count": 28
  },
  {
   "cell_type": "code",
   "id": "b20fd660",
   "metadata": {
    "ExecuteTime": {
     "end_time": "2024-07-26T18:47:42.574530Z",
     "start_time": "2024-07-26T18:47:42.428681Z"
    }
   },
   "source": [
    "def preprocess_data(data_en, data_fr):\n",
    "    # Lowercase the text\n",
    "    \"\"\"\n",
    "    Normalizing case helps reduce the complexity of the language model by treating words like “The” and “the” as the same word, which can be particularly helpful in languages like English where capitalization is more stylistic than semantic.\n",
    "    \"\"\"\n",
    "    data_en['text'] = data_en['text'].str.lower()\n",
    "    data_fr['text'] = data_fr['text'].str.lower()\n",
    "\n",
    "    # Remove XML tags\n",
    "    \"\"\"\n",
    "    Lines containing XML-tags are likely not actual conversational or formal text but rather formatting or metadata which is irrelevant for translation purposes\n",
    "    \"\"\"\n",
    "    data_en['text'] = data_en['text'].apply(lambda x: '' if x.strip().startswith('<') else x)\n",
    "    data_fr['text'] = data_fr['text'].apply(lambda x: '' if x.strip().startswith('<') else x)\n",
    "\n",
    "    # Strip empty lines and remove their correspondences\n",
    "    \"\"\"\n",
    "     Empty lines or lines that do not contain any meaningful content should be removed because they do not provide valuable information for training the model. It is also important to remove the corresponding line in the other language to maintain alignment.\n",
    "    \"\"\"\n",
    "    mask = (data_en['text'].str.strip().astype(bool) & data_fr['text'].str.strip().astype(bool))\n",
    "    data_en = data_en[mask]\n",
    "    data_fr = data_fr[mask]\n",
    "\n",
    "    return data_en, data_fr\n",
    "\n",
    "\n",
    "\n",
    "\"\"\"\n",
    "Steps Not Chosen and Why:\n",
    "\n",
    "- Removing Numbers or Special Characters: Not chosen because numbers and certain punctuation can carry semantic weight in sentences, which can be important for translations, such as dates, quantities, or formatted text.\n",
    "- Stemming/Lemmatization: Not typically used in machine translation preprocessing because retaining the full form of words is important for accurate translation, especially between languages with different linguistic structures.\n",
    "- Removing Stopwords: Not recommended for translation tasks because stopwords (common words like “and”, “the”, etc.) are crucial for maintaining the grammatical structure of the sentence in both source and target languages.\n",
    "\"\"\"\n",
    "\n",
    "\n",
    "preprocessed_en, preprocessed_fr  = preprocess_data(english_data,french_data)\n"
   ],
   "outputs": [],
   "execution_count": 29
  },
  {
   "cell_type": "code",
   "id": "9b830fb6",
   "metadata": {
    "ExecuteTime": {
     "end_time": "2024-07-26T18:47:47.161281Z",
     "start_time": "2024-07-26T18:47:46.990205Z"
    }
   },
   "source": [
    "import re\n",
    "\"\"\"\n",
    "Remove all characters that are defined as noise from both translations\n",
    "\"\"\"\n",
    "def remove_noisy_characters(data):\n",
    "    # Define the characters to remove\n",
    "    noisy_characters = re.escape('@#$%^&*~<>|\\\\{}[]+=_/')\n",
    "    \n",
    "    # Regex to match any noisy character\n",
    "    regex_pattern = f'[{noisy_characters}]'\n",
    "    \n",
    "    # Remove noisy characters using regex substitution\n",
    "    data['text'] = data['text'].apply(lambda x: re.sub(regex_pattern, '', x))\n",
    "    \n",
    "    return data\n",
    "\n",
    "\n",
    "preprocessed_en = remove_noisy_characters(english_data)\n",
    "preprocessed_fr = remove_noisy_characters(french_data)\n"
   ],
   "outputs": [],
   "execution_count": 30
  },
  {
   "cell_type": "code",
   "id": "30a2899f",
   "metadata": {
    "ExecuteTime": {
     "end_time": "2024-07-26T18:47:48.346301Z",
     "start_time": "2024-07-26T18:47:47.805107Z"
    }
   },
   "source": [
    "import pandas as pd\n",
    "import re\n",
    "\"\"\"\n",
    "remove special characterers only if a special character appears in one translation but not in the other and vice versa\n",
    "\"\"\"\n",
    "\n",
    "def synchronize_special_characters(data_en, data_fr):\n",
    "    counter = 0\n",
    "    # Define the characters to synchronize\n",
    "    special_characters = re.escape('@#$%^&*~<>|\\\\{}[]+=_/')\n",
    "    \n",
    "    # Regex to match any special character\n",
    "    regex_pattern = f'[{special_characters}]'\n",
    "\n",
    "    # Process each sentence pair\n",
    "    for idx in range(len(data_en)):\n",
    "        if idx >= len(data_fr):  # Ensure index is within the bounds for both dataframes\n",
    "            break\n",
    "        \n",
    "        # Extract texts from both dataframes\n",
    "        text_en = data_en.loc[idx, 'text']\n",
    "        text_fr = data_fr.loc[idx, 'text']\n",
    "\n",
    "        # Find special characters in both texts\n",
    "        found_chars_en = set(re.findall(regex_pattern, text_en))\n",
    "        found_chars_fr = set(re.findall(regex_pattern, text_fr))\n",
    "\n",
    "        # Determine characters to remove (those not in both)\n",
    "        chars_to_remove = found_chars_en.symmetric_difference(found_chars_fr)\n",
    "\n",
    "        # Remove the special characters that do not appear in both translations\n",
    "        if chars_to_remove:\n",
    "            counter += 1\n",
    "            remove_regex = '[' + re.escape(''.join(chars_to_remove)) + ']'\n",
    "            data_en.loc[idx, 'text'] = re.sub(remove_regex, '', text_en)\n",
    "            data_fr.loc[idx, 'text'] = re.sub(remove_regex, '', text_fr)\n",
    "    print(counter)\n",
    "    return data_en, data_fr\n",
    "\n",
    "data_en_sync, data_fr_sync = synchronize_special_characters(data_en, data_fr)"
   ],
   "outputs": [
    {
     "ename": "IndexingError",
     "evalue": "Too many indexers",
     "output_type": "error",
     "traceback": [
      "\u001B[0;31m---------------------------------------------------------------------------\u001B[0m",
      "\u001B[0;31mIndexingError\u001B[0m                             Traceback (most recent call last)",
      "Cell \u001B[0;32mIn[31], line 40\u001B[0m\n\u001B[1;32m     37\u001B[0m     \u001B[38;5;28mprint\u001B[39m(counter)\n\u001B[1;32m     38\u001B[0m     \u001B[38;5;28;01mreturn\u001B[39;00m data_en, data_fr\n\u001B[0;32m---> 40\u001B[0m data_en_sync, data_fr_sync \u001B[38;5;241m=\u001B[39m \u001B[43msynchronize_special_characters\u001B[49m\u001B[43m(\u001B[49m\u001B[43mdata_en\u001B[49m\u001B[43m,\u001B[49m\u001B[43m \u001B[49m\u001B[43mdata_fr\u001B[49m\u001B[43m)\u001B[49m\n",
      "Cell \u001B[0;32mIn[31], line 21\u001B[0m, in \u001B[0;36msynchronize_special_characters\u001B[0;34m(data_en, data_fr)\u001B[0m\n\u001B[1;32m     18\u001B[0m     \u001B[38;5;28;01mbreak\u001B[39;00m\n\u001B[1;32m     20\u001B[0m \u001B[38;5;66;03m# Extract texts from both dataframes\u001B[39;00m\n\u001B[0;32m---> 21\u001B[0m text_en \u001B[38;5;241m=\u001B[39m \u001B[43mdata_en\u001B[49m\u001B[38;5;241;43m.\u001B[39;49m\u001B[43mloc\u001B[49m\u001B[43m[\u001B[49m\u001B[43midx\u001B[49m\u001B[43m,\u001B[49m\u001B[43m \u001B[49m\u001B[38;5;124;43m'\u001B[39;49m\u001B[38;5;124;43mtext\u001B[39;49m\u001B[38;5;124;43m'\u001B[39;49m\u001B[43m]\u001B[49m\n\u001B[1;32m     22\u001B[0m text_fr \u001B[38;5;241m=\u001B[39m data_fr\u001B[38;5;241m.\u001B[39mloc[idx, \u001B[38;5;124m'\u001B[39m\u001B[38;5;124mtext\u001B[39m\u001B[38;5;124m'\u001B[39m]\n\u001B[1;32m     24\u001B[0m \u001B[38;5;66;03m# Find special characters in both texts\u001B[39;00m\n",
      "File \u001B[0;32m~/nlp_project/nlp_venv/lib/python3.12/site-packages/pandas/core/indexing.py:1184\u001B[0m, in \u001B[0;36m_LocationIndexer.__getitem__\u001B[0;34m(self, key)\u001B[0m\n\u001B[1;32m   1182\u001B[0m     \u001B[38;5;28;01mif\u001B[39;00m \u001B[38;5;28mself\u001B[39m\u001B[38;5;241m.\u001B[39m_is_scalar_access(key):\n\u001B[1;32m   1183\u001B[0m         \u001B[38;5;28;01mreturn\u001B[39;00m \u001B[38;5;28mself\u001B[39m\u001B[38;5;241m.\u001B[39mobj\u001B[38;5;241m.\u001B[39m_get_value(\u001B[38;5;241m*\u001B[39mkey, takeable\u001B[38;5;241m=\u001B[39m\u001B[38;5;28mself\u001B[39m\u001B[38;5;241m.\u001B[39m_takeable)\n\u001B[0;32m-> 1184\u001B[0m     \u001B[38;5;28;01mreturn\u001B[39;00m \u001B[38;5;28;43mself\u001B[39;49m\u001B[38;5;241;43m.\u001B[39;49m\u001B[43m_getitem_tuple\u001B[49m\u001B[43m(\u001B[49m\u001B[43mkey\u001B[49m\u001B[43m)\u001B[49m\n\u001B[1;32m   1185\u001B[0m \u001B[38;5;28;01melse\u001B[39;00m:\n\u001B[1;32m   1186\u001B[0m     \u001B[38;5;66;03m# we by definition only have the 0th axis\u001B[39;00m\n\u001B[1;32m   1187\u001B[0m     axis \u001B[38;5;241m=\u001B[39m \u001B[38;5;28mself\u001B[39m\u001B[38;5;241m.\u001B[39maxis \u001B[38;5;129;01mor\u001B[39;00m \u001B[38;5;241m0\u001B[39m\n",
      "File \u001B[0;32m~/nlp_project/nlp_venv/lib/python3.12/site-packages/pandas/core/indexing.py:1371\u001B[0m, in \u001B[0;36m_LocIndexer._getitem_tuple\u001B[0;34m(self, tup)\u001B[0m\n\u001B[1;32m   1368\u001B[0m     \u001B[38;5;28;01mreturn\u001B[39;00m \u001B[38;5;28mself\u001B[39m\u001B[38;5;241m.\u001B[39m_getitem_lowerdim(tup)\n\u001B[1;32m   1370\u001B[0m \u001B[38;5;66;03m# no multi-index, so validate all of the indexers\u001B[39;00m\n\u001B[0;32m-> 1371\u001B[0m tup \u001B[38;5;241m=\u001B[39m \u001B[38;5;28;43mself\u001B[39;49m\u001B[38;5;241;43m.\u001B[39;49m\u001B[43m_validate_tuple_indexer\u001B[49m\u001B[43m(\u001B[49m\u001B[43mtup\u001B[49m\u001B[43m)\u001B[49m\n\u001B[1;32m   1373\u001B[0m \u001B[38;5;66;03m# ugly hack for GH #836\u001B[39;00m\n\u001B[1;32m   1374\u001B[0m \u001B[38;5;28;01mif\u001B[39;00m \u001B[38;5;28mself\u001B[39m\u001B[38;5;241m.\u001B[39m_multi_take_opportunity(tup):\n",
      "File \u001B[0;32m~/nlp_project/nlp_venv/lib/python3.12/site-packages/pandas/core/indexing.py:962\u001B[0m, in \u001B[0;36m_LocationIndexer._validate_tuple_indexer\u001B[0;34m(self, key)\u001B[0m\n\u001B[1;32m    957\u001B[0m \u001B[38;5;129m@final\u001B[39m\n\u001B[1;32m    958\u001B[0m \u001B[38;5;28;01mdef\u001B[39;00m \u001B[38;5;21m_validate_tuple_indexer\u001B[39m(\u001B[38;5;28mself\u001B[39m, key: \u001B[38;5;28mtuple\u001B[39m) \u001B[38;5;241m-\u001B[39m\u001B[38;5;241m>\u001B[39m \u001B[38;5;28mtuple\u001B[39m:\n\u001B[1;32m    959\u001B[0m \u001B[38;5;250m    \u001B[39m\u001B[38;5;124;03m\"\"\"\u001B[39;00m\n\u001B[1;32m    960\u001B[0m \u001B[38;5;124;03m    Check the key for valid keys across my indexer.\u001B[39;00m\n\u001B[1;32m    961\u001B[0m \u001B[38;5;124;03m    \"\"\"\u001B[39;00m\n\u001B[0;32m--> 962\u001B[0m     key \u001B[38;5;241m=\u001B[39m \u001B[38;5;28;43mself\u001B[39;49m\u001B[38;5;241;43m.\u001B[39;49m\u001B[43m_validate_key_length\u001B[49m\u001B[43m(\u001B[49m\u001B[43mkey\u001B[49m\u001B[43m)\u001B[49m\n\u001B[1;32m    963\u001B[0m     key \u001B[38;5;241m=\u001B[39m \u001B[38;5;28mself\u001B[39m\u001B[38;5;241m.\u001B[39m_expand_ellipsis(key)\n\u001B[1;32m    964\u001B[0m     \u001B[38;5;28;01mfor\u001B[39;00m i, k \u001B[38;5;129;01min\u001B[39;00m \u001B[38;5;28menumerate\u001B[39m(key):\n",
      "File \u001B[0;32m~/nlp_project/nlp_venv/lib/python3.12/site-packages/pandas/core/indexing.py:1001\u001B[0m, in \u001B[0;36m_LocationIndexer._validate_key_length\u001B[0;34m(self, key)\u001B[0m\n\u001B[1;32m    999\u001B[0m             \u001B[38;5;28;01mraise\u001B[39;00m IndexingError(_one_ellipsis_message)\n\u001B[1;32m   1000\u001B[0m         \u001B[38;5;28;01mreturn\u001B[39;00m \u001B[38;5;28mself\u001B[39m\u001B[38;5;241m.\u001B[39m_validate_key_length(key)\n\u001B[0;32m-> 1001\u001B[0m     \u001B[38;5;28;01mraise\u001B[39;00m IndexingError(\u001B[38;5;124m\"\u001B[39m\u001B[38;5;124mToo many indexers\u001B[39m\u001B[38;5;124m\"\u001B[39m)\n\u001B[1;32m   1002\u001B[0m \u001B[38;5;28;01mreturn\u001B[39;00m key\n",
      "\u001B[0;31mIndexingError\u001B[0m: Too many indexers"
     ]
    }
   ],
   "execution_count": 31
  },
  {
   "cell_type": "code",
   "id": "dc80e109",
   "metadata": {
    "ExecuteTime": {
     "end_time": "2024-07-26T18:48:36.460152Z",
     "start_time": "2024-07-26T18:48:36.456078Z"
    }
   },
   "source": [
    "\"\"\"\n",
    "Futher Preprocessign steps:\n",
    "\n",
    "1. Tokenization\n",
    "\n",
    "\t•\tWhy: Tokenization involves splitting text into words, phrases, or other meaningful elements called tokens. Proper tokenization is crucial as it forms the basis of how input data is fed into the model.\n",
    "\t•\tHow: Use libraries like NLTK, spaCy, or specialized tokenizer libraries like SentencePiece, which are especially useful for languages without clear word boundaries.\n",
    "\n",
    "2. Normalization\n",
    "\n",
    "\t•\tWhy: This step involves standardizing text by correcting typos, expanding contractions (e.g., converting “can’t” to “cannot”), and converting numerals into words. Normalization helps reduce the many variations of the same word, which can dilute the model’s ability to learn.\n",
    "\t•\tHow: Apply custom rules or use language-specific libraries that handle linguistic variations.\n",
    "\n",
    "3. Removing/Replacing Non-Text Elements\n",
    "\n",
    "\t•\tWhy: Non-text elements like numbers, URLs, or user mentions (e.g., Twitter handles) may not be relevant and could distract the model from learning linguistic patterns.\n",
    "\t•\tHow: Detect and replace these elements with generic placeholders like <number>, <url>, or <user>.\n",
    "\n",
    "4. Punctuation Cleaning\n",
    "\n",
    "\t•\tWhy: While removing all punctuation can be harmful, normalizing punctuation and ensuring consistent use can be very beneficial. For example, converting fancy quotation marks to standard ones (’ or “) ensures consistency.\n",
    "\t•\tHow: Replace or remove specific punctuation characters that are not beneficial for the training process.\n",
    "\n",
    "5. Handling Rare Words and Out-of-Vocabulary (OOV) Issues\n",
    "\n",
    "\t•\tWhy: Rare words can lead to problems during training, as the model might overfit to these instances. Handling them can improve model robustness.\n",
    "\t•\tHow: Replace rare words with a <unk> token or use subword tokenization techniques (like BPE or SentencePiece) to decompose rare words into more common subwords.\n",
    "\n",
    "6. Stop Words Removal (Conditional)\n",
    "\n",
    "\t•\tWhy: For some NLP tasks like topic modeling or keyword extraction, removing common words (stop words) that carry minimal meaningful information can focus the model on more important terms.\n",
    "\t•\tHow: Use libraries like NLTK or spaCy to remove stop words, but this is generally not recommended for machine translation unless specifically required for a styled translation.\n",
    "\n",
    "7. Part-of-Speech Tagging and Syntactic Parsing (Advanced)\n",
    "\n",
    "\t•\tWhy: This can help in understanding sentence structure and can be used to improve alignment in parallel corpora.\n",
    "\t•\tHow: Use language models from libraries like spaCy to annotate words with their parts of speech or to parse sentence structure.\n",
    "\n",
    "\n",
    "\n",
    "\"\"\""
   ],
   "outputs": [
    {
     "data": {
      "text/plain": [
       "'\\nFuther Preprocessign steps:\\n\\n1. Tokenization\\n\\n\\t•\\tWhy: Tokenization involves splitting text into words, phrases, or other meaningful elements called tokens. Proper tokenization is crucial as it forms the basis of how input data is fed into the model.\\n\\t•\\tHow: Use libraries like NLTK, spaCy, or specialized tokenizer libraries like SentencePiece, which are especially useful for languages without clear word boundaries.\\n\\n2. Normalization\\n\\n\\t•\\tWhy: This step involves standardizing text by correcting typos, expanding contractions (e.g., converting “can’t” to “cannot”), and converting numerals into words. Normalization helps reduce the many variations of the same word, which can dilute the model’s ability to learn.\\n\\t•\\tHow: Apply custom rules or use language-specific libraries that handle linguistic variations.\\n\\n3. Removing/Replacing Non-Text Elements\\n\\n\\t•\\tWhy: Non-text elements like numbers, URLs, or user mentions (e.g., Twitter handles) may not be relevant and could distract the model from learning linguistic patterns.\\n\\t•\\tHow: Detect and replace these elements with generic placeholders like <number>, <url>, or <user>.\\n\\n4. Punctuation Cleaning\\n\\n\\t•\\tWhy: While removing all punctuation can be harmful, normalizing punctuation and ensuring consistent use can be very beneficial. For example, converting fancy quotation marks to standard ones (’ or “) ensures consistency.\\n\\t•\\tHow: Replace or remove specific punctuation characters that are not beneficial for the training process.\\n\\n5. Handling Rare Words and Out-of-Vocabulary (OOV) Issues\\n\\n\\t•\\tWhy: Rare words can lead to problems during training, as the model might overfit to these instances. Handling them can improve model robustness.\\n\\t•\\tHow: Replace rare words with a <unk> token or use subword tokenization techniques (like BPE or SentencePiece) to decompose rare words into more common subwords.\\n\\n6. Stop Words Removal (Conditional)\\n\\n\\t•\\tWhy: For some NLP tasks like topic modeling or keyword extraction, removing common words (stop words) that carry minimal meaningful information can focus the model on more important terms.\\n\\t•\\tHow: Use libraries like NLTK or spaCy to remove stop words, but this is generally not recommended for machine translation unless specifically required for a styled translation.\\n\\n7. Part-of-Speech Tagging and Syntactic Parsing (Advanced)\\n\\n\\t•\\tWhy: This can help in understanding sentence structure and can be used to improve alignment in parallel corpora.\\n\\t•\\tHow: Use language models from libraries like spaCy to annotate words with their parts of speech or to parse sentence structure.\\n\\n\\n\\n'"
      ]
     },
     "execution_count": 32,
     "metadata": {},
     "output_type": "execute_result"
    }
   ],
   "execution_count": 32
  },
  {
   "cell_type": "code",
   "id": "2beef055",
   "metadata": {
    "ExecuteTime": {
     "end_time": "2024-07-26T18:48:37.141334Z",
     "start_time": "2024-07-26T18:48:37.139745Z"
    }
   },
   "source": [
    "#######TRAINING#############"
   ],
   "outputs": [],
   "execution_count": 33
  },
  {
   "cell_type": "code",
   "id": "8113c4b1",
   "metadata": {
    "ExecuteTime": {
     "end_time": "2024-07-26T18:48:37.584235Z",
     "start_time": "2024-07-26T18:48:37.572023Z"
    }
   },
   "source": [
    "#Split data into Train, Val, Test\n",
    "\n",
    "\n",
    "from sklearn.model_selection import train_test_split\n",
    "\n",
    "X_train, X_test, y_train, y_test = train_test_split(data_en, data_fr, test_size=0.2, random_state=42)\n",
    "X_train, X_val, y_train, y_val = train_test_split(X_train, y_train, test_size=0.25, random_state=42)  # 0.25 x 0.8 = 0.2"
   ],
   "outputs": [],
   "execution_count": 34
  },
  {
   "cell_type": "code",
   "id": "4112a9fd",
   "metadata": {
    "ExecuteTime": {
     "end_time": "2024-07-26T18:48:38.095663Z",
     "start_time": "2024-07-26T18:48:38.092155Z"
    }
   },
   "source": [
    "\"\"\"\n",
    "Model Architecture:\n",
    "Encoder: An RNN (LSTM or GRU) that processes the input sentence and encodes it into a context vector.\n",
    "Decoder: Another RNN that takes the context vector and generates the output sentence in the target language.\n",
    "\"\"\"\n",
    "import torch\n",
    "import torch.nn as nn\n",
    "import torch.optim as optim\n",
    "\n",
    "class EncoderRNN(nn.Module):\n",
    "    def __init__(self, input_size, hidden_size):\n",
    "        super(EncoderRNN, self).__init__()\n",
    "        self.hidden_size = hidden_size\n",
    "\n",
    "        self.embedding = nn.Embedding(input_size, hidden_size)\n",
    "        self.lstm = nn.LSTM(hidden_size, hidden_size)\n",
    "\n",
    "    def forward(self, input, hidden):\n",
    "        embedded = self.embedding(input).view(1, 1, -1)\n",
    "        output, hidden = self.lstm(embedded, hidden)\n",
    "        return output, hidden\n",
    "\n",
    "    def initHidden(self):\n",
    "        return (torch.zeros(1, 1, self.hidden_size),\n",
    "                torch.zeros(1, 1, self.hidden_size))\n",
    "    \n",
    "\n",
    "class DecoderRNN(nn.Module):\n",
    "    def __init__(self, hidden_size, output_size):\n",
    "        super(DecoderRNN, self).__init__()\n",
    "        self.hidden_size = hidden_size\n",
    "\n",
    "        self.embedding = nn.Embedding(output_size, hidden_size)\n",
    "        self.lstm = nn.LSTM(hidden_size, hidden_size)\n",
    "        self.out = nn.Linear(hidden_size, output_size)\n",
    "        self.softmax = nn.LogSoftmax(dim=1)\n",
    "\n",
    "    def forward(self, input, hidden):\n",
    "        output = self.embedding(input).view(1, 1, -1)\n",
    "        output = nn.functional.relu(output)\n",
    "        output, hidden = self.lstm(output, hidden)\n",
    "        output = self.softmax(self.out(output[0]))\n",
    "        return output, hidden\n",
    "\n",
    "    def initHidden(self):\n",
    "        return (torch.zeros(1, 1, self.hidden_size),\n",
    "                torch.zeros(1, 1, self.hidden_size))\n",
    "    \n"
   ],
   "outputs": [],
   "execution_count": 35
  },
  {
   "cell_type": "code",
   "id": "508d1e33",
   "metadata": {
    "ExecuteTime": {
     "end_time": "2024-07-26T18:48:39.757771Z",
     "start_time": "2024-07-26T18:48:39.105527Z"
    }
   },
   "source": [
    "# init decoder and encoder and loss function \n",
    "\n",
    "input_size = vocab_size_en   # size of the English vocabulary was calculated in task 1\n",
    "output_size = vocab_size_fr  # size of the French vocabulary was calculated in task 1\n",
    "hidden_size = 256            # typically a power of 2 like 256 or 512\n",
    "\n",
    "encoder = EncoderRNN(input_size, hidden_size)\n",
    "decoder = DecoderRNN(hidden_size, output_size)\n",
    "\n",
    "\n",
    "\n",
    "criterion = nn.NLLLoss()\n",
    "encoder_optimizer = optim.Adam(encoder.parameters(), lr=0.01)\n",
    "decoder_optimizer = optim.Adam(decoder.parameters(), lr=0.01)"
   ],
   "outputs": [],
   "execution_count": 36
  },
  {
   "cell_type": "code",
   "id": "b8947913",
   "metadata": {
    "ExecuteTime": {
     "end_time": "2024-07-26T18:48:41.508827Z",
     "start_time": "2024-07-26T18:48:41.505369Z"
    }
   },
   "source": [
    "def train(input_tensor, target_tensor, encoder, decoder, encoder_optimizer, decoder_optimizer, criterion, max_length):\n",
    "    encoder_hidden = encoder.initHidden()\n",
    "\n",
    "    encoder_optimizer.zero_grad()\n",
    "    decoder_optimizer.zero_grad()\n",
    "\n",
    "    input_length = input_tensor.size(0)\n",
    "    target_length = target_tensor.size(0)\n",
    "\n",
    "    loss = 0\n",
    "\n",
    "    # Encoder\n",
    "    for ei in range(input_length):\n",
    "        encoder_output, encoder_hidden = encoder(input_tensor[ei], encoder_hidden)\n",
    "\n",
    "    # Decoder initialization without an SOS token\n",
    "    # The first input to the decoder could be an assumed blank token, often just zeros\n",
    "    decoder_input = torch.zeros((1, 1), dtype=torch.long)  # Assuming your vocab is zero-indexed\n",
    "    decoder_hidden = encoder_hidden  # Use the last hidden state from the encoder to start the decoder\n",
    "\n",
    "    for di in range(target_length):\n",
    "        decoder_output, decoder_hidden = decoder(decoder_input, decoder_hidden)\n",
    "        topv, topi = decoder_output.topk(1)\n",
    "        decoder_input = topi.squeeze().detach()  # Use model's own prediction as next input\n",
    "\n",
    "        loss += criterion(decoder_output, target_tensor[di].unsqueeze(0))\n",
    "        # Check if decoder has generated the end of sequence, often by target length or a special condition\n",
    "        if di == target_length - 1:  # Simple condition assuming reaching the end of target tensor\n",
    "            break\n",
    "\n",
    "    loss.backward()\n",
    "\n",
    "    encoder_optimizer.step()\n",
    "    decoder_optimizer.step()\n",
    "\n",
    "    return loss.item() / target_length"
   ],
   "outputs": [],
   "execution_count": 37
  },
  {
   "cell_type": "code",
   "id": "99583761",
   "metadata": {
    "ExecuteTime": {
     "end_time": "2024-07-26T18:48:42.486322Z",
     "start_time": "2024-07-26T18:48:42.483449Z"
    }
   },
   "source": [
    "def trainIters(encoder, decoder, n_iters, print_every=1000, plot_every=100, learning_rate=0.01):\n",
    "    print_loss_total = 0  # Reset every print_every\n",
    "\n",
    "    training_pairs = [tensorsFromPair(random.choice(pairs))\n",
    "                      for i in range(n_iters)]\n",
    "    criterion = nn.NLLLoss()\n",
    "\n",
    "    for iter in range(1, n_iters + 1):\n",
    "        training_pair = training_pairs[iter - 1]\n",
    "        input_tensor = training_pair[0]\n",
    "        target_tensor = training_pair[1]\n",
    "\n",
    "        loss = train(input_tensor, target_tensor, encoder,\n",
    "                     decoder, encoder_optimizer, decoder_optimizer, criterion)\n",
    "        print_loss_total += loss\n",
    "\n",
    "        if iter % print_every == 0:\n",
    "            print_loss_avg = print_loss_total / print_every\n",
    "            print_loss_total = 0\n",
    "            print(f'Iteration: {iter} Average Loss: {print_loss_avg:.4f}')"
   ],
   "outputs": [],
   "execution_count": 38
  },
  {
   "cell_type": "code",
   "id": "7e12666f",
   "metadata": {
    "ExecuteTime": {
     "end_time": "2024-07-26T18:48:58.695464Z",
     "start_time": "2024-07-26T18:48:45.963812Z"
    }
   },
   "source": [
    "#Create Embeddings manually \n",
    "\n",
    "import pandas as pd\n",
    "import torch\n",
    "from torch.nn.utils.rnn import pad_sequence\n",
    "from collections import defaultdict\n",
    "from nltk.tokenize import word_tokenize\n",
    "import nltk\n",
    "#nltk.download('punkt')\n",
    "\n",
    "\n",
    "data = {\n",
    "    'X_train': X_train.tolist(),\n",
    "    'y_train': y_train.tolist()\n",
    "}\n",
    "\n",
    "df = pd.DataFrame(data)\n",
    "\n",
    "# Tokenization function\n",
    "def tokenize(sentences):\n",
    "    return [word_tokenize(sentence.lower()) for sentence in sentences]\n",
    "\n",
    "# Building vocabulary\n",
    "def build_vocab(tokenized_texts):\n",
    "    vocab = defaultdict()\n",
    "    vocab.default_factory = lambda: len(vocab)\n",
    "    for tokens in tokenized_texts:\n",
    "        for token in tokens:\n",
    "            vocab[token]\n",
    "    return vocab\n",
    "\n",
    "# Convert texts to numerical indices\n",
    "def numericalize(texts, vocab):\n",
    "    return [[vocab[token] for token in tokens] for tokens in tokenize(texts)]\n",
    "\n",
    "# Tokenize and build vocabularies\n",
    "tokenized_x = tokenize(df['X_train'])\n",
    "tokenized_y = tokenize(df['y_train'])\n",
    "\n",
    "#{token(in this case a word):number} ex. 'watts': 4239\n",
    "vocab_x = build_vocab(tokenized_x)\n",
    "vocab_y = build_vocab(tokenized_y)\n",
    "\n",
    "# Numericalize the data\n",
    "numericalized_x = numericalize(df['X_train'], vocab_x)\n",
    "numericalized_y = numericalize(df['y_train'], vocab_y)\n",
    "\n",
    "# Convert lists to PyTorch tensors and pad sequences\n",
    "input_tensor = pad_sequence([torch.tensor(seq) for seq in numericalized_x], batch_first=True, padding_value=0)\n",
    "target_tensor = pad_sequence([torch.tensor(seq) for seq in numericalized_y], batch_first=True, padding_value=0)\n",
    "\n",
    "print(input_tensor)\n",
    "print(target_tensor)"
   ],
   "outputs": [
    {
     "name": "stdout",
     "output_type": "stream",
     "text": [
      "tensor([[   0,    1,    2,  ...,    0,    0,    0],\n",
      "        [  18,   19,   20,  ...,    0,    0,    0],\n",
      "        [  28,   14,   29,  ...,    0,    0,    0],\n",
      "        ...,\n",
      "        [  29,    6, 1091,  ...,    0,    0,    0],\n",
      "        [ 664,   14,    6,  ...,    0,    0,    0],\n",
      "        [ 460,   18,  183,  ...,    0,    0,    0]])\n",
      "tensor([[   0,    1,    2,  ...,    0,    0,    0],\n",
      "        [  29,   30,    2,  ...,    0,    0,    0],\n",
      "        [  24,   46,   47,  ...,    0,    0,    0],\n",
      "        ...,\n",
      "        [ 324, 4860,  641,  ...,    0,    0,    0],\n",
      "        [ 120,  641, 1291,  ...,    0,    0,    0],\n",
      "        [ 264,    2,   29,  ...,    0,    0,    0]])\n"
     ]
    }
   ],
   "execution_count": 39
  },
  {
   "cell_type": "code",
   "id": "486ed0c2",
   "metadata": {
    "ExecuteTime": {
     "end_time": "2024-07-26T18:52:57.216840Z",
     "start_time": "2024-07-26T18:49:02.403032Z"
    }
   },
   "source": [
    "#TODO takes to much time..\n",
    "\n",
    "import random\n",
    "\n",
    "# Number of iterations (epochs)\n",
    "num_iterations = 10000\n",
    "print_every = 1000\n",
    "\n",
    "for iter in range(1, num_iterations + 1):\n",
    "    # Randomly selecting an example each time (for simplicity in this example)\n",
    "    # Ideally, use a more systematic way to create batches and cycle through data\n",
    "    input_example = random.choice(input_tensor)\n",
    "    target_example = random.choice(target_tensor)\n",
    "    loss = train(input_example, target_example, encoder, decoder, encoder_optimizer, decoder_optimizer, criterion, 1000)\n",
    "    if iter % print_every == 0:\n",
    "        print(f'Iter: {iter}, Loss: {loss:.4f}')"
   ],
   "outputs": [
    {
     "ename": "KeyboardInterrupt",
     "evalue": "",
     "output_type": "error",
     "traceback": [
      "\u001B[0;31m---------------------------------------------------------------------------\u001B[0m",
      "\u001B[0;31mKeyboardInterrupt\u001B[0m                         Traceback (most recent call last)",
      "Cell \u001B[0;32mIn[40], line 14\u001B[0m\n\u001B[1;32m     12\u001B[0m input_example \u001B[38;5;241m=\u001B[39m random\u001B[38;5;241m.\u001B[39mchoice(input_tensor)\n\u001B[1;32m     13\u001B[0m target_example \u001B[38;5;241m=\u001B[39m random\u001B[38;5;241m.\u001B[39mchoice(target_tensor)\n\u001B[0;32m---> 14\u001B[0m loss \u001B[38;5;241m=\u001B[39m \u001B[43mtrain\u001B[49m\u001B[43m(\u001B[49m\u001B[43minput_example\u001B[49m\u001B[43m,\u001B[49m\u001B[43m \u001B[49m\u001B[43mtarget_example\u001B[49m\u001B[43m,\u001B[49m\u001B[43m \u001B[49m\u001B[43mencoder\u001B[49m\u001B[43m,\u001B[49m\u001B[43m \u001B[49m\u001B[43mdecoder\u001B[49m\u001B[43m,\u001B[49m\u001B[43m \u001B[49m\u001B[43mencoder_optimizer\u001B[49m\u001B[43m,\u001B[49m\u001B[43m \u001B[49m\u001B[43mdecoder_optimizer\u001B[49m\u001B[43m,\u001B[49m\u001B[43m \u001B[49m\u001B[43mcriterion\u001B[49m\u001B[43m,\u001B[49m\u001B[43m \u001B[49m\u001B[38;5;241;43m1000\u001B[39;49m\u001B[43m)\u001B[49m\n\u001B[1;32m     15\u001B[0m \u001B[38;5;28;01mif\u001B[39;00m \u001B[38;5;28miter\u001B[39m \u001B[38;5;241m%\u001B[39m print_every \u001B[38;5;241m==\u001B[39m \u001B[38;5;241m0\u001B[39m:\n\u001B[1;32m     16\u001B[0m     \u001B[38;5;28mprint\u001B[39m(\u001B[38;5;124mf\u001B[39m\u001B[38;5;124m'\u001B[39m\u001B[38;5;124mIter: \u001B[39m\u001B[38;5;132;01m{\u001B[39;00m\u001B[38;5;28miter\u001B[39m\u001B[38;5;132;01m}\u001B[39;00m\u001B[38;5;124m, Loss: \u001B[39m\u001B[38;5;132;01m{\u001B[39;00mloss\u001B[38;5;132;01m:\u001B[39;00m\u001B[38;5;124m.4f\u001B[39m\u001B[38;5;132;01m}\u001B[39;00m\u001B[38;5;124m'\u001B[39m)\n",
      "Cell \u001B[0;32mIn[37], line 31\u001B[0m, in \u001B[0;36mtrain\u001B[0;34m(input_tensor, target_tensor, encoder, decoder, encoder_optimizer, decoder_optimizer, criterion, max_length)\u001B[0m\n\u001B[1;32m     28\u001B[0m     \u001B[38;5;28;01mif\u001B[39;00m di \u001B[38;5;241m==\u001B[39m target_length \u001B[38;5;241m-\u001B[39m \u001B[38;5;241m1\u001B[39m:  \u001B[38;5;66;03m# Simple condition assuming reaching the end of target tensor\u001B[39;00m\n\u001B[1;32m     29\u001B[0m         \u001B[38;5;28;01mbreak\u001B[39;00m\n\u001B[0;32m---> 31\u001B[0m \u001B[43mloss\u001B[49m\u001B[38;5;241;43m.\u001B[39;49m\u001B[43mbackward\u001B[49m\u001B[43m(\u001B[49m\u001B[43m)\u001B[49m\n\u001B[1;32m     33\u001B[0m encoder_optimizer\u001B[38;5;241m.\u001B[39mstep()\n\u001B[1;32m     34\u001B[0m decoder_optimizer\u001B[38;5;241m.\u001B[39mstep()\n",
      "File \u001B[0;32m~/nlp_project/nlp_venv/lib/python3.12/site-packages/torch/_tensor.py:525\u001B[0m, in \u001B[0;36mTensor.backward\u001B[0;34m(self, gradient, retain_graph, create_graph, inputs)\u001B[0m\n\u001B[1;32m    515\u001B[0m \u001B[38;5;28;01mif\u001B[39;00m has_torch_function_unary(\u001B[38;5;28mself\u001B[39m):\n\u001B[1;32m    516\u001B[0m     \u001B[38;5;28;01mreturn\u001B[39;00m handle_torch_function(\n\u001B[1;32m    517\u001B[0m         Tensor\u001B[38;5;241m.\u001B[39mbackward,\n\u001B[1;32m    518\u001B[0m         (\u001B[38;5;28mself\u001B[39m,),\n\u001B[0;32m   (...)\u001B[0m\n\u001B[1;32m    523\u001B[0m         inputs\u001B[38;5;241m=\u001B[39minputs,\n\u001B[1;32m    524\u001B[0m     )\n\u001B[0;32m--> 525\u001B[0m \u001B[43mtorch\u001B[49m\u001B[38;5;241;43m.\u001B[39;49m\u001B[43mautograd\u001B[49m\u001B[38;5;241;43m.\u001B[39;49m\u001B[43mbackward\u001B[49m\u001B[43m(\u001B[49m\n\u001B[1;32m    526\u001B[0m \u001B[43m    \u001B[49m\u001B[38;5;28;43mself\u001B[39;49m\u001B[43m,\u001B[49m\u001B[43m \u001B[49m\u001B[43mgradient\u001B[49m\u001B[43m,\u001B[49m\u001B[43m \u001B[49m\u001B[43mretain_graph\u001B[49m\u001B[43m,\u001B[49m\u001B[43m \u001B[49m\u001B[43mcreate_graph\u001B[49m\u001B[43m,\u001B[49m\u001B[43m \u001B[49m\u001B[43minputs\u001B[49m\u001B[38;5;241;43m=\u001B[39;49m\u001B[43minputs\u001B[49m\n\u001B[1;32m    527\u001B[0m \u001B[43m\u001B[49m\u001B[43m)\u001B[49m\n",
      "File \u001B[0;32m~/nlp_project/nlp_venv/lib/python3.12/site-packages/torch/autograd/__init__.py:267\u001B[0m, in \u001B[0;36mbackward\u001B[0;34m(tensors, grad_tensors, retain_graph, create_graph, grad_variables, inputs)\u001B[0m\n\u001B[1;32m    262\u001B[0m     retain_graph \u001B[38;5;241m=\u001B[39m create_graph\n\u001B[1;32m    264\u001B[0m \u001B[38;5;66;03m# The reason we repeat the same comment below is that\u001B[39;00m\n\u001B[1;32m    265\u001B[0m \u001B[38;5;66;03m# some Python versions print out the first line of a multi-line function\u001B[39;00m\n\u001B[1;32m    266\u001B[0m \u001B[38;5;66;03m# calls in the traceback and some print out the last line\u001B[39;00m\n\u001B[0;32m--> 267\u001B[0m \u001B[43m_engine_run_backward\u001B[49m\u001B[43m(\u001B[49m\n\u001B[1;32m    268\u001B[0m \u001B[43m    \u001B[49m\u001B[43mtensors\u001B[49m\u001B[43m,\u001B[49m\n\u001B[1;32m    269\u001B[0m \u001B[43m    \u001B[49m\u001B[43mgrad_tensors_\u001B[49m\u001B[43m,\u001B[49m\n\u001B[1;32m    270\u001B[0m \u001B[43m    \u001B[49m\u001B[43mretain_graph\u001B[49m\u001B[43m,\u001B[49m\n\u001B[1;32m    271\u001B[0m \u001B[43m    \u001B[49m\u001B[43mcreate_graph\u001B[49m\u001B[43m,\u001B[49m\n\u001B[1;32m    272\u001B[0m \u001B[43m    \u001B[49m\u001B[43minputs\u001B[49m\u001B[43m,\u001B[49m\n\u001B[1;32m    273\u001B[0m \u001B[43m    \u001B[49m\u001B[43mallow_unreachable\u001B[49m\u001B[38;5;241;43m=\u001B[39;49m\u001B[38;5;28;43;01mTrue\u001B[39;49;00m\u001B[43m,\u001B[49m\n\u001B[1;32m    274\u001B[0m \u001B[43m    \u001B[49m\u001B[43maccumulate_grad\u001B[49m\u001B[38;5;241;43m=\u001B[39;49m\u001B[38;5;28;43;01mTrue\u001B[39;49;00m\u001B[43m,\u001B[49m\n\u001B[1;32m    275\u001B[0m \u001B[43m\u001B[49m\u001B[43m)\u001B[49m\n",
      "File \u001B[0;32m~/nlp_project/nlp_venv/lib/python3.12/site-packages/torch/autograd/graph.py:744\u001B[0m, in \u001B[0;36m_engine_run_backward\u001B[0;34m(t_outputs, *args, **kwargs)\u001B[0m\n\u001B[1;32m    742\u001B[0m     unregister_hooks \u001B[38;5;241m=\u001B[39m _register_logging_hooks_on_whole_graph(t_outputs)\n\u001B[1;32m    743\u001B[0m \u001B[38;5;28;01mtry\u001B[39;00m:\n\u001B[0;32m--> 744\u001B[0m     \u001B[38;5;28;01mreturn\u001B[39;00m \u001B[43mVariable\u001B[49m\u001B[38;5;241;43m.\u001B[39;49m\u001B[43m_execution_engine\u001B[49m\u001B[38;5;241;43m.\u001B[39;49m\u001B[43mrun_backward\u001B[49m\u001B[43m(\u001B[49m\u001B[43m  \u001B[49m\u001B[38;5;66;43;03m# Calls into the C++ engine to run the backward pass\u001B[39;49;00m\n\u001B[1;32m    745\u001B[0m \u001B[43m        \u001B[49m\u001B[43mt_outputs\u001B[49m\u001B[43m,\u001B[49m\u001B[43m \u001B[49m\u001B[38;5;241;43m*\u001B[39;49m\u001B[43margs\u001B[49m\u001B[43m,\u001B[49m\u001B[43m \u001B[49m\u001B[38;5;241;43m*\u001B[39;49m\u001B[38;5;241;43m*\u001B[39;49m\u001B[43mkwargs\u001B[49m\n\u001B[1;32m    746\u001B[0m \u001B[43m    \u001B[49m\u001B[43m)\u001B[49m  \u001B[38;5;66;03m# Calls into the C++ engine to run the backward pass\u001B[39;00m\n\u001B[1;32m    747\u001B[0m \u001B[38;5;28;01mfinally\u001B[39;00m:\n\u001B[1;32m    748\u001B[0m     \u001B[38;5;28;01mif\u001B[39;00m attach_logging_hooks:\n",
      "\u001B[0;31mKeyboardInterrupt\u001B[0m: "
     ]
    }
   ],
   "execution_count": 40
  },
  {
   "cell_type": "code",
   "id": "fa8ef9fd",
   "metadata": {
    "ExecuteTime": {
     "end_time": "2024-07-26T18:52:59.139053Z",
     "start_time": "2024-07-26T18:52:59.137333Z"
    }
   },
   "source": [
    "####### TODO TRAIN MODEL WITH SOS AND EOS TOKEN #########"
   ],
   "outputs": [],
   "execution_count": 41
  },
  {
   "cell_type": "code",
   "id": "a0f76edd",
   "metadata": {
    "ExecuteTime": {
     "end_time": "2024-07-26T18:53:00.194115Z",
     "start_time": "2024-07-26T18:53:00.191461Z"
    }
   },
   "source": [
    "#TODO add SOS and EOS tokens \n",
    "\n",
    "SOS_token = 0  # Assuming 0 is the index for SOS token in your vocabulary\n",
    "EOS_token = 1  # Assuming 1 is the index for EOS token in your vocabulary\n",
    "\n",
    "def add_special_tokens(sentences, sos_token, eos_token=None):\n",
    "    # Add an SOS token at the beginning of each sentence.\n",
    "    # Optionally, add an EOS token at the end.\n",
    "    updated_sentences = []\n",
    "    for sentence in sentences:\n",
    "        modified_sentence = [sos_token] + sentence\n",
    "        if eos_token is not None:\n",
    "            modified_sentence += [eos_token]\n",
    "        updated_sentences.append(modified_sentence)\n",
    "    return updated_sentences\n"
   ],
   "outputs": [],
   "execution_count": 42
  },
  {
   "cell_type": "code",
   "id": "300148ed",
   "metadata": {
    "ExecuteTime": {
     "end_time": "2024-07-26T18:53:00.872092Z",
     "start_time": "2024-07-26T18:53:00.870736Z"
    }
   },
   "source": [
    "########################## USE DIFFERENT EMBEDDING MODELS #################\n",
    "\n"
   ],
   "outputs": [],
   "execution_count": 43
  },
  {
   "cell_type": "code",
   "id": "1f6bebfb",
   "metadata": {
    "ExecuteTime": {
     "end_time": "2024-07-26T18:53:01.191960Z",
     "start_time": "2024-07-26T18:53:01.188741Z"
    }
   },
   "source": [
    "\"\"\"Here’s a breakdown of how these steps align with the use of pre-trained embeddings:\n",
    "\n",
    "1. Tokenization\n",
    "\n",
    "Tokenization remains a necessary first step because it transforms raw text into lists of words or subwords. This process is independent of whether you use pre-trained embeddings.\n",
    "\n",
    "2. Build Vocabulary\n",
    "\n",
    "When using pre-trained embeddings, you build a vocabulary that aligns closely with the vocabulary used by the embeddings. Often, this means adapting your dataset’s vocabulary to match the pre-trained set:\n",
    "\n",
    "\t•\tInclude only words found in the pre-trained embeddings: Words not present in the embeddings can be handled by a special token like <unk> (unknown).\n",
    "\t•\tReuse pre-trained special tokens if available: Some embeddings include tokens for unknown words, start of sentences, or padding, which you should utilize if consistent with your model architecture.\n",
    "\n",
    "3. Numericalization\n",
    "\n",
    "This step converts the tokenized sentences into sequences of indices based on the vocabulary. For models using pre-trained embeddings, these indices correspond to the rows in the embedding matrix where each word’s vector is stored.\n",
    "\n",
    "4. Padding\n",
    "\n",
    "To handle variable-length sequences in batch processing efficiently, padding is necessary. This step standardizes the length of all sequences in a batch by appending a special padding token (often mapped to a zero vector in the embedding matrix).\n",
    "\n",
    "5. Convert to Tensors\n",
    "\n",
    "Finally, the lists of indices are converted to PyTorch tensors, which can be efficiently processed by your model. These tensors are what you will feed into your neural network.\n",
    "\n",
    "Incorporating Pre-trained Embeddings\n",
    "\n",
    "After preparing your tensors:\n",
    "\n",
    "\t•\tLoad Embedding Matrix: Load your pre-trained embedding matrix, ensuring it corresponds to your vocabulary.\n",
    "\t•\tSet Model’s Embedding Layer: Initialize the embedding layer of your model with the pre-trained embeddings. You can choose to freeze these weights (to prevent further training) or allow them to fine-tune during training based on your specific needs.\"\"\""
   ],
   "outputs": [
    {
     "data": {
      "text/plain": [
       "'Here’s a breakdown of how these steps align with the use of pre-trained embeddings:\\n\\n1. Tokenization\\n\\nTokenization remains a necessary first step because it transforms raw text into lists of words or subwords. This process is independent of whether you use pre-trained embeddings.\\n\\n2. Build Vocabulary\\n\\nWhen using pre-trained embeddings, you build a vocabulary that aligns closely with the vocabulary used by the embeddings. Often, this means adapting your dataset’s vocabulary to match the pre-trained set:\\n\\n\\t•\\tInclude only words found in the pre-trained embeddings: Words not present in the embeddings can be handled by a special token like <unk> (unknown).\\n\\t•\\tReuse pre-trained special tokens if available: Some embeddings include tokens for unknown words, start of sentences, or padding, which you should utilize if consistent with your model architecture.\\n\\n3. Numericalization\\n\\nThis step converts the tokenized sentences into sequences of indices based on the vocabulary. For models using pre-trained embeddings, these indices correspond to the rows in the embedding matrix where each word’s vector is stored.\\n\\n4. Padding\\n\\nTo handle variable-length sequences in batch processing efficiently, padding is necessary. This step standardizes the length of all sequences in a batch by appending a special padding token (often mapped to a zero vector in the embedding matrix).\\n\\n5. Convert to Tensors\\n\\nFinally, the lists of indices are converted to PyTorch tensors, which can be efficiently processed by your model. These tensors are what you will feed into your neural network.\\n\\nIncorporating Pre-trained Embeddings\\n\\nAfter preparing your tensors:\\n\\n\\t•\\tLoad Embedding Matrix: Load your pre-trained embedding matrix, ensuring it corresponds to your vocabulary.\\n\\t•\\tSet Model’s Embedding Layer: Initialize the embedding layer of your model with the pre-trained embeddings. You can choose to freeze these weights (to prevent further training) or allow them to fine-tune during training based on your specific needs.'"
      ]
     },
     "execution_count": 44,
     "metadata": {},
     "output_type": "execute_result"
    }
   ],
   "execution_count": 44
  },
  {
   "metadata": {
    "ExecuteTime": {
     "end_time": "2024-07-26T18:55:14.348400Z",
     "start_time": "2024-07-26T18:55:11.635136Z"
    }
   },
   "cell_type": "code",
   "source": [
    "# Example GloVe embedding file path and embedding dimension\n",
    "\n",
    "import numpy as np\n",
    "import torch\n",
    "from typing import Dict\n",
    "\n",
    "def load_glove_embeddings(path: str, word2idx: Dict[str, int], embedding_dim: int) -> torch.Tensor:\n",
    "    \"\"\"\n",
    "    Load GloVe embeddings from a specified file and align them with the given word index dictionary.\n",
    "\n",
    "    Parameters:\n",
    "    - path (str): The file path to the GloVe embeddings file.\n",
    "    - word2idx (Dict[str, int]): A dictionary mapping words to their corresponding indices. This dictionary defines\n",
    "      the position each word’s vector should occupy in the resulting embedding matrix.\n",
    "    - embedding_dim (int): The dimensionality of the GloVe vectors (e.g., 50, 100, 200, 300).\n",
    "\n",
    "    Returns:\n",
    "    - torch.Tensor: A tensor of shape (len(word2idx), embedding_dim) containing the GloVe vectors aligned according to word2idx.\n",
    "    \"\"\"\n",
    "    with open(path, 'r', encoding='utf-8') as f:\n",
    "        # Initialize the embedding matrix with zeros\n",
    "        embeddings = np.zeros((len(word2idx), embedding_dim))\n",
    "        \n",
    "        # Process each line in the GloVe file\n",
    "        for line in f:\n",
    "            values = line.split()\n",
    "            word = values[0]\n",
    "            \n",
    "            # If the word is in the provided dictionary, update the corresponding row in embeddings\n",
    "            if word in word2idx:\n",
    "                # Convert embedding values from strings to float32\n",
    "                vector = np.asarray(values[1:], dtype='float32')\n",
    "                # Place the vector in the correct index as per word2idx\n",
    "                embeddings[word2idx[word]] = vector\n",
    "    \n",
    "    # Convert the numpy array to a PyTorch tensor\n",
    "    return torch.from_numpy(embeddings)\n",
    "\n",
    "\n",
    "def load_embeddings_and_create_index(path):\n",
    "    word_to_idx = {}\n",
    "    idx = 0\n",
    "    with open(path, 'r', encoding='utf-8') as f:\n",
    "        for line in f:\n",
    "            values = line.split()\n",
    "            word = values[0]\n",
    "            word_to_idx[word] = idx\n",
    "            idx += 1\n",
    "    return word_to_idx\n",
    "\n",
    "# Load the word to index mappings for both languages\n",
    "word_to_idx_en = load_embeddings_and_create_index('glove.6B/glove.6B.100d.txt')\n",
    "word_to_idx_fr = load_embeddings_and_create_index('glove.6B/glove.6B.100d.txt')\n"
   ],
   "id": "eec1da68cb84c0b6",
   "outputs": [],
   "execution_count": 48
  },
  {
   "cell_type": "code",
   "id": "c2bae849",
   "metadata": {
    "ExecuteTime": {
     "end_time": "2024-07-26T18:55:16.109538Z",
     "start_time": "2024-07-26T18:55:15.660034Z"
    }
   },
   "source": [
    "\n",
    "\n",
    "# Load data\n",
    "data_en = pd.DataFrame({'sentence': X_train.tolist()}) \n",
    "data_fr = pd.DataFrame({'sentence': y_train.tolist()})  \n",
    "\n",
    "# Tokenization\n",
    "def tokenize(text):\n",
    "    return text.lower().split()\n",
    "\n",
    "# Vocabulary mapping\n",
    "class Vocabulary:\n",
    "    def __init__(self, token_to_idx=None):\n",
    "        if token_to_idx is None:\n",
    "            token_to_idx = {}\n",
    "        self.token_to_idx = token_to_idx\n",
    "        self.idx_to_token = {idx: token for token, idx in self.token_to_idx.items()}\n",
    "    \n",
    "    def add_word(self, word):\n",
    "        if word not in self.token_to_idx:\n",
    "            idx = len(self.token_to_idx)\n",
    "            self.token_to_idx[word] = idx\n",
    "            self.idx_to_token[idx] = word\n",
    "    \n",
    "    def __call__(self, word):\n",
    "        return self.token_to_idx.get(word, self.token_to_idx['<unk>'])\n",
    "    \n",
    "    def __len__(self):\n",
    "        return len(self.token_to_idx)\n",
    "\n",
    "# Build vocabularies for both languages\n",
    "def build_vocab(sentences, existing_embeddings_word2idx):\n",
    "    vocab = Vocabulary()\n",
    "    vocab.add_word('<pad>')  # Assuming you handle padding explicitly\n",
    "    vocab.add_word('<unk>')  # Handle unknown words\n",
    "\n",
    "    for sentence in sentences:\n",
    "        tokens = tokenize(sentence)\n",
    "        for token in tokens:\n",
    "            if token in existing_embeddings_word2idx:\n",
    "                vocab.add_word(token)\n",
    "    return vocab\n",
    "\n",
    "vocab_en = build_vocab(data_en['sentence'], word_to_idx_en)\n",
    "vocab_fr = build_vocab(data_fr['sentence'], word_to_idx_fr)\n",
    "\n",
    "# Dataset preparation\n",
    "class TranslationDataset(Dataset):\n",
    "    def __init__(self, source_sentences, target_sentences, source_vocab, target_vocab):\n",
    "        self.source_sentences = source_sentences\n",
    "        self.target_sentences = target_sentences\n",
    "        self.source_vocab = source_vocab\n",
    "        self.target_vocab = target_vocab\n",
    "    \n",
    "    def __len__(self):\n",
    "        return len(self.source_sentences)\n",
    "    \n",
    "    def __getitem__(self, index):\n",
    "        source_sentence = [self.source_vocab(token) if token in self.source_vocab.token_to_idx else self.source_vocab('<unk>') for token in tokenize(self.source_sentences.iloc[index])]\n",
    "        target_sentence = [self.target_vocab(token) if token in self.target_vocab.token_to_idx else self.target_vocab('<unk>') for token in tokenize(self.target_sentences.iloc[index])]\n",
    "        return torch.tensor(source_sentence, dtype=torch.long), torch.tensor(target_sentence, dtype=torch.long)\n",
    "\n",
    "# Collate function for padding\n",
    "def collate_fn(batch):\n",
    "    source_batch, target_batch = zip(*batch)\n",
    "    source_batch_padded = pad_sequence(source_batch, padding_value=vocab_en('<pad>'), batch_first=True)\n",
    "    target_batch_padded = pad_sequence(target_batch, padding_value=vocab_fr('<pad>'), batch_first=True)\n",
    "    return source_batch_padded, target_batch_padded\n"
   ],
   "outputs": [],
   "execution_count": 49
  },
  {
   "cell_type": "code",
   "id": "f5ce67a3",
   "metadata": {
    "ExecuteTime": {
     "end_time": "2024-07-26T18:56:19.774132Z",
     "start_time": "2024-07-26T18:56:19.768798Z"
    }
   },
   "source": [
    "import torch.nn as nn\n",
    "\n",
    "\n",
    "class Encoder(nn.Module):\n",
    "    def __init__(self, hidden_size, pretrained_embeddings):\n",
    "        \n",
    "        \"\"\"\n",
    "        Initialize the Encoder with pre-trained embeddings and a GRU layer.\n",
    "\n",
    "        Parameters:\n",
    "            hidden_size (int): The number of features in the hidden state of the GRU.\n",
    "            pretrained_embeddings (torch.Tensor): A tensor containing the pre-trained word embeddings.\n",
    "        \"\"\"\n",
    "        super(Encoder, self).__init__()\n",
    "        # Ensure that the pretrained embeddings are of type float32\n",
    "        if pretrained_embeddings.dtype != torch.float32:\n",
    "            pretrained_embeddings = pretrained_embeddings.to(dtype=torch.float32)\n",
    "        self.embedding = nn.Embedding.from_pretrained(pretrained_embeddings, freeze=False)\n",
    "        embed_size = pretrained_embeddings.shape[1]  # Embedding size is the second dimension of the embeddings tensor\n",
    "        self.rnn = nn.GRU(embed_size, hidden_size, batch_first=True).float()  # Ensure GRU is initialized as float32\n",
    "\n",
    "    def forward(self, x):\n",
    "        \"\"\"\n",
    "        Forward pass of the encoder which processes the input sequence.\n",
    "    \n",
    "        Parameters:\n",
    "            x (torch.Tensor): The input sequence tensor, which should be indexed by batch.\n",
    "    \n",
    "        Returns:\n",
    "            hidden (torch.Tensor): The hidden state of the GRU, representing the encoded information of the input.\n",
    "        \"\"\"\n",
    "        embedded = self.embedding(x).float()  # Ensure embedding outputs float32\n",
    "        _, hidden = self.rnn(embedded)\n",
    "        return hidden\n",
    "\n",
    "class Decoder(nn.Module):\n",
    "    def __init__(self, embed_size, hidden_size, output_size, pretrained_embeddings):\n",
    "        \"\"\"\n",
    "        Initialize the Decoder with pre-trained embeddings, a GRU layer, and a linear output layer.\n",
    "\n",
    "        Parameters:\n",
    "            embed_size (int): The size of each embedding vector.\n",
    "            hidden_size (int): The number of features in the hidden state of the GRU.\n",
    "            output_size (int): The size of the output vocabulary.\n",
    "            pretrained_embeddings (torch.Tensor): A tensor containing the pre-trained word embeddings.\n",
    "\n",
    "        \"\"\"\n",
    "        \n",
    "        super(Decoder, self).__init__()\n",
    "        # Ensure that the pretrained embeddings are of type float32\n",
    "        if pretrained_embeddings.dtype != torch.float32:\n",
    "            pretrained_embeddings = pretrained_embeddings.to(dtype=torch.float32)\n",
    "        self.embedding = nn.Embedding.from_pretrained(pretrained_embeddings, freeze=False)\n",
    "        self.rnn = nn.GRU(embed_size, hidden_size, batch_first=True).float()  # Ensure GRU is initialized as float32\n",
    "        self.fc = nn.Linear(hidden_size, output_size).float()  # Ensure Linear is initialized as float32\n",
    "\n",
    "    def forward(self, x, hidden):\n",
    "        \"\"\"\n",
    "        Forward pass of the decoder that processes one timestep of the sequence.\n",
    "\n",
    "        Parameters:\n",
    "            x (torch.Tensor): The input tensor for the current timestep.\n",
    "            hidden (torch.Tensor): The hidden state from the last timestep.\n",
    "\n",
    "        Returns:\n",
    "            predicted (torch.Tensor): The output logits for the next word in the sequence.\n",
    "            hidden (torch.Tensor): The updated hidden state.\n",
    "        \"\"\"\n",
    "        embedded = self.embedding(x).float()  # Ensure embedding outputs float32\n",
    "        output, hidden = self.rnn(embedded, hidden)\n",
    "        predicted = self.fc(output)\n",
    "        return predicted, hidden\n",
    "    \n",
    "class Seq2Seq(nn.Module):\n",
    "\n",
    "        \n",
    "    def __init__(self, encoder, decoder):\n",
    "        \"\"\"\n",
    "        Initialize the sequence-to-sequence model which contains an encoder and a decoder.\n",
    "    \n",
    "        Parameters:\n",
    "            encoder (Encoder): The encoder part of the Seq2Seq model.\n",
    "            decoder (Decoder): The decoder part of the Seq2Seq model.\n",
    "        \"\"\"\n",
    "        super(Seq2Seq, self).__init__()\n",
    "        self.encoder = encoder\n",
    "        self.decoder = decoder\n",
    "    \n",
    "    def forward(self, src, trg):\n",
    "        \"\"\"\n",
    "        Forward pass of the Seq2Seq model which processes the entire input and target sequence.\n",
    "\n",
    "        Parameters:\n",
    "            src (torch.Tensor): The input sequence tensor.\n",
    "            trg (torch.Tensor): The target sequence tensor used during training.\n",
    "\n",
    "        Returns:\n",
    "            outputs (torch.Tensor): The output from the decoder for each step in the sequence.\n",
    "        \"\"\"\n",
    "        hidden = self.encoder(src)\n",
    "        outputs, _ = self.decoder(trg, hidden)\n",
    "        return outputs\n",
    "\n",
    "\n"
   ],
   "outputs": [],
   "execution_count": 54
  },
  {
   "cell_type": "code",
   "id": "6610a422",
   "metadata": {
    "ExecuteTime": {
     "end_time": "2024-07-26T19:02:58.993335Z",
     "start_time": "2024-07-26T19:02:58.990251Z"
    }
   },
   "source": [
    "\n",
    "def train(model, loader, optimizer, criterion, epochs=10, device=\"cpu\"):\n",
    "    model.train()  # Set the model to training mode\n",
    "    for epoch in range(epochs):\n",
    "        total_loss = 0\n",
    "        for src, trg in loader:\n",
    "            # Move tensors to the correct device and ensure they are long type for indexing operations\n",
    "            src = src.to(device).long()  # Correct type for embedding layer\n",
    "            trg = trg.to(device).long()  # Correct type for embedding layer\n",
    "            \n",
    "\n",
    "            optimizer.zero_grad()\n",
    "\n",
    "            # Forward pass: The decoder's input is all except the last word\n",
    "            output = model(src, trg[:, :-1])  \n",
    "            \n",
    "            # Since output will be in float (from linear layers, and GRU output), ensure it's float32 if not already\n",
    "            output = output.float()\n",
    "\n",
    "            output_dim = output.shape[-1]\n",
    "            output = output.contiguous().view(-1, output_dim)\n",
    "            trg = trg[:, 1:].contiguous().view(-1)  # Target doesn't include the first <sos> token\n",
    "\n",
    "            loss = criterion(output, trg)\n",
    "            loss.backward()\n",
    "            optimizer.step()\n",
    "\n",
    "            total_loss += loss.item()\n",
    "        \n",
    "        average_loss = total_loss / len(loader)\n",
    "        print(f'Epoch {epoch+1}/{epochs}, Loss: {average_loss:.4f}')\n",
    "        \n",
    "        \n"
   ],
   "outputs": [],
   "execution_count": 59
  },
  {
   "cell_type": "code",
   "id": "3e51a741",
   "metadata": {
    "ExecuteTime": {
     "end_time": "2024-07-26T19:02:59.635475Z",
     "start_time": "2024-07-26T19:02:59.620100Z"
    }
   },
   "source": [
    "# Checking if GPU is available and setting the device accordingly\n",
    "device = torch.device(\"cuda\" if torch.cuda.is_available() else \"cpu\")\n",
    "print(\"Using device:\", device)\n",
    "\n",
    "# Init and run\n",
    "\n",
    "# Load embeddings\n",
    "glove_embeddings_en = load_glove_embeddings('glove.6B/glove.6B.100d.txt', vocab_x, embedding_dim)\n",
    "glove_embeddings_fr = load_glove_embeddings('glove.6B/glove.6B.100d.txt', vocab_x, embedding_dim)\n",
    "\n",
    "# Model instantiation\n",
    "encoder = Encoder(hidden_size=hidden_size, pretrained_embeddings=glove_embeddings_en)\n",
    "decoder = Decoder(embed_size=embedding_dim, hidden_size=hidden_size, output_size=len(vocab_fr), pretrained_embeddings=glove_embeddings_fr)\n",
    "model = Seq2Seq(encoder, decoder)\n",
    "# Move the model to the configured device\n",
    "model = model.to(device)\n",
    "\n",
    "optimizer = Adam(model.parameters(), lr=0.001)\n",
    "criterion = CrossEntropyLoss(ignore_index=vocab_fr.token_to_idx['<pad>']).to(device)  # Move the loss function to the device\n",
    "\n",
    "\n",
    "dataset = TranslationDataset(data_en['sentence'], data_fr['sentence'], vocab_en, vocab_fr)\n",
    "loader = DataLoader(dataset, batch_size=2, collate_fn=collate_fn)\n",
    "\n",
    "train(model, loader, optimizer, criterion, epochs=10, device=device)"
   ],
   "outputs": [
    {
     "name": "stdout",
     "output_type": "stream",
     "text": [
      "Using device: cpu\n"
     ]
    },
    {
     "ename": "NameError",
     "evalue": "name 'embedding_dim' is not defined",
     "output_type": "error",
     "traceback": [
      "\u001B[0;31m---------------------------------------------------------------------------\u001B[0m",
      "\u001B[0;31mNameError\u001B[0m                                 Traceback (most recent call last)",
      "Cell \u001B[0;32mIn[60], line 8\u001B[0m\n\u001B[1;32m      3\u001B[0m \u001B[38;5;28mprint\u001B[39m(\u001B[38;5;124m\"\u001B[39m\u001B[38;5;124mUsing device:\u001B[39m\u001B[38;5;124m\"\u001B[39m, device)\n\u001B[1;32m      5\u001B[0m \u001B[38;5;66;03m# Init and run\u001B[39;00m\n\u001B[1;32m      6\u001B[0m \n\u001B[1;32m      7\u001B[0m \u001B[38;5;66;03m# Load embeddings\u001B[39;00m\n\u001B[0;32m----> 8\u001B[0m glove_embeddings_en \u001B[38;5;241m=\u001B[39m load_glove_embeddings(\u001B[38;5;124m'\u001B[39m\u001B[38;5;124mglove.6B/glove.6B.100d.txt\u001B[39m\u001B[38;5;124m'\u001B[39m, vocab_x, \u001B[43membedding_dim\u001B[49m)\n\u001B[1;32m      9\u001B[0m glove_embeddings_fr \u001B[38;5;241m=\u001B[39m load_glove_embeddings(\u001B[38;5;124m'\u001B[39m\u001B[38;5;124mglove.6B/glove.6B.100d.txt\u001B[39m\u001B[38;5;124m'\u001B[39m, vocab_x, embedding_dim)\n\u001B[1;32m     11\u001B[0m \u001B[38;5;66;03m# Model instantiation\u001B[39;00m\n",
      "\u001B[0;31mNameError\u001B[0m: name 'embedding_dim' is not defined"
     ]
    }
   ],
   "execution_count": 60
  },
  {
   "cell_type": "code",
   "execution_count": null,
   "id": "8b96aa90",
   "metadata": {},
   "outputs": [],
   "source": []
  }
 ],
 "metadata": {
  "kernelspec": {
   "display_name": "nlp_venv",
   "language": "python",
   "name": "nlp_venv"
  },
  "language_info": {
   "codemirror_mode": {
    "name": "ipython",
    "version": 3
   },
   "file_extension": ".py",
   "mimetype": "text/x-python",
   "name": "python",
   "nbconvert_exporter": "python",
   "pygments_lexer": "ipython3",
   "version": "3.11.5"
  }
 },
 "nbformat": 4,
 "nbformat_minor": 5
}
