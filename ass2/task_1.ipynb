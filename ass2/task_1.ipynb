{
 "cells": [
  {
   "metadata": {
    "ExecuteTime": {
     "end_time": "2024-07-27T08:49:22.545438Z",
     "start_time": "2024-07-27T08:49:20.662929Z"
    }
   },
   "cell_type": "code",
   "source": [
    "import pandas as pd\n",
    "from csv import QUOTE_NONE\n",
    "import numpy as np\n",
    "import matplotlib.pyplot as plt\n",
    "from nltk.tokenize import word_tokenize\n",
    "from collections import Counter\n",
    "import spacy\n",
    "import re\n",
    "import nltk\n",
    "from nltk.util import bigrams, trigrams\n",
    "from nltk.corpus import stopwords\n",
    "nltk.download('stopwords')\n"
   ],
   "id": "87aff9f3e94010f4",
   "outputs": [
    {
     "name": "stderr",
     "output_type": "stream",
     "text": [
      "[nltk_data] Downloading package stopwords to\n",
      "[nltk_data]     /Users/niclasstoffregen/nltk_data...\n",
      "[nltk_data]   Package stopwords is already up-to-date!\n"
     ]
    },
    {
     "data": {
      "text/plain": [
       "True"
      ]
     },
     "execution_count": 1,
     "metadata": {},
     "output_type": "execute_result"
    }
   ],
   "execution_count": 1
  },
  {
   "cell_type": "code",
   "id": "initial_id",
   "metadata": {
    "collapsed": true,
    "ExecuteTime": {
     "end_time": "2024-07-27T08:49:24.131741Z",
     "start_time": "2024-07-27T08:49:24.128944Z"
    }
   },
   "source": [
    "# Define the paths to your files\n",
    "english_file_path = \"fr-en/europarl-v7.fr-en.en\"\n",
    "french_file_path = \"fr-en/europarl-v7.fr-en.fr\""
   ],
   "outputs": [],
   "execution_count": 2
  },
  {
   "metadata": {
    "ExecuteTime": {
     "end_time": "2024-07-27T08:49:32.850456Z",
     "start_time": "2024-07-27T08:49:24.555371Z"
    }
   },
   "cell_type": "code",
   "source": [
    "\"\"\" Function to load data into a pandas DataFrame without treating any character as quotes\"\"\"\n",
    "\n",
    "def load_data_to_dataframe(file_path):\n",
    "    # Read the entire file as a single column DataFrame, ignoring any quoting\n",
    "    return pd.read_csv(file_path, header=None, names=['text'], encoding='utf-8', sep='\\t', quoting=QUOTE_NONE, engine='python')\n",
    "\n",
    "# Load the data\n",
    "english_data = load_data_to_dataframe(english_file_path)\n",
    "french_data = load_data_to_dataframe(french_file_path)"
   ],
   "id": "83de8fb04731c01",
   "outputs": [],
   "execution_count": 3
  },
  {
   "metadata": {
    "ExecuteTime": {
     "end_time": "2024-07-27T08:49:32.990974Z",
     "start_time": "2024-07-27T08:49:32.851570Z"
    }
   },
   "cell_type": "code",
   "source": [
    "## Take 10% fraction of data randomly sampled\n",
    "english_data = english_data.sample(frac=0.1, random_state=42)\n",
    "french_data = french_data.sample(frac=0.1, random_state=42)\n"
   ],
   "id": "213bc9de3b8ebd60",
   "outputs": [],
   "execution_count": 4
  },
  {
   "metadata": {
    "ExecuteTime": {
     "end_time": "2024-07-27T08:49:54.734528Z",
     "start_time": "2024-07-27T08:49:34.923142Z"
    }
   },
   "cell_type": "code",
   "source": [
    "# Vocabulary size\n",
    "\"\"\"\n",
    "comment: \n",
    "Instead of nltk use also spicy tokenizer:\n",
    "import spacy\n",
    "\n",
    "# Load the English tokenizer from spaCy\n",
    "nlp_en = spacy.load('en_core_web_sm')\n",
    "\n",
    "# Example text\n",
    "text_en = \"Apple's looking at buying U.K. startup for $1 billion\"\n",
    "\n",
    "# Process the text\n",
    "doc_en = nlp_en(text_en)\n",
    "\n",
    "# Extract tokens\n",
    "tokens_en = [token.text for token in doc_en]\n",
    "\n",
    "print(tokens_en)\n",
    "\"\"\"\n",
    "\n",
    "\n",
    "def build_vocabulary(text_data):\n",
    "    # Tokenize the text\n",
    "    tokens = [word_tokenize(text.lower()) for text in text_data]\n",
    "    # Flatten the list of token lists into a single list of tokens\n",
    "    all_tokens = [token for sublist in tokens for token in sublist]\n",
    "    # Create a Counter object to count unique tokens\n",
    "    vocabulary = Counter(all_tokens)\n",
    "    return vocabulary\n",
    "\n",
    "\n",
    "data_en = english_data[\"text\"]\n",
    "data_fr = french_data[\"text\"]\n",
    "\n",
    "# Build vocabularies\n",
    "vocab_en = build_vocabulary(data_en)\n",
    "vocab_fr = build_vocabulary(data_fr)\n",
    "\n",
    "# Get the size of each vocabulary\n",
    "vocab_size_en = len(vocab_en)\n",
    "vocab_size_fr = len(vocab_fr)\n",
    "\n",
    "print(f\"English Vocabulary Size: {vocab_size_en}\")\n",
    "print(f\"French Vocabulary Size: {vocab_size_fr}\")"
   ],
   "id": "f5548a8e65ecb26f",
   "outputs": [
    {
     "name": "stdout",
     "output_type": "stream",
     "text": [
      "English Vocabulary Size: 48688\n",
      "French Vocabulary Size: 65955\n"
     ]
    }
   ],
   "execution_count": 5
  },
  {
   "metadata": {
    "ExecuteTime": {
     "end_time": "2024-07-27T08:50:27.662840Z",
     "start_time": "2024-07-27T08:50:27.162234Z"
    }
   },
   "cell_type": "code",
   "source": [
    "# TODO average length difference between sentences in source and target language in words and letters\n",
    "def get_average_length_difference(source,target):\n",
    "    word_length_dif=[]\n",
    "    letter_length_dif= []\n",
    "    for sen_source, sen_target in zip(source[\"text\"],target[\"text\"]):\n",
    "        #print(sen_source)\n",
    "        letter_length_dif.append(abs(len(sen_source)- len(sen_target)))\n",
    "        word_length_dif.append(abs(len(sen_source.split())-len(sen_target.split())))\n",
    "    print(np.mean(letter_length_dif))\n",
    "    print(np.mean(word_length_dif))\n",
    "    #print(len(sen_source.split()))\n",
    "\n",
    "get_average_length_difference(english_data,french_data)\n"
   ],
   "id": "e7d0cd482f3b64dc",
   "outputs": [
    {
     "name": "stdout",
     "output_type": "stream",
     "text": [
      "103.1205313274707\n",
      "16.44967303308576\n"
     ]
    }
   ],
   "execution_count": 6
  },
  {
   "metadata": {
    "ExecuteTime": {
     "end_time": "2024-07-27T08:50:46.410065Z",
     "start_time": "2024-07-27T08:50:45.826429Z"
    }
   },
   "cell_type": "code",
   "source": [
    "\n",
    "\n",
    "def overlay_noisy_character_counts(data_en, data_fr):\n",
    "    # Define the characters to remove\n",
    "    noisy_characters = re.escape('@#$%^&*~<>|\\\\{}[]+=_/')\n",
    "    \n",
    "    # Regex to match any noisy character\n",
    "    regex_pattern = f'[{noisy_characters}]'\n",
    "    \n",
    "    # Function to count characters in a dataframe\n",
    "    def count_characters(data):\n",
    "        character_counts = Counter()\n",
    "        for text in data['text']:\n",
    "            found_chars = re.findall(regex_pattern, text)\n",
    "            character_counts.update(found_chars)\n",
    "        return character_counts\n",
    "\n",
    "    # Count characters for both datasets\n",
    "    en_counts = count_characters(data_en)\n",
    "    fr_counts = count_characters(data_fr)\n",
    "\n",
    "    # Plotting the occurrences for both English and French data in one overlaid histogram\n",
    "    plt.figure(figsize=(12, 6))\n",
    "    labels, en_values = zip(*en_counts.items())  # Unpack keys and values for English\n",
    "    _, fr_values = zip(*fr_counts.items())      # Unpack values for French\n",
    "    \n",
    "    # Ensure both languages have entries for each label\n",
    "    labels = list(set(labels + tuple(fr_counts.keys())))\n",
    "    en_values = [en_counts.get(label, 0) for label in labels]\n",
    "    fr_values = [fr_counts.get(label, 0) for label in labels]\n",
    "\n",
    "    # Plot\n",
    "    indices = np.arange(len(labels))  # the x locations for the groups\n",
    "    width = 0.35                     # the width of the bars\n",
    "    \n",
    "    plt.bar(indices - width/2, en_values, width, label='English', alpha=0.5)\n",
    "    plt.bar(indices + width/2, fr_values, width, label='French', alpha=0.5)\n",
    "\n",
    "    plt.ylabel('Occurrences')\n",
    "    plt.title('Comparison of Noisy Characters in English and French Text Data')\n",
    "    plt.xticks(indices, labels)\n",
    "    plt.legend()\n",
    "    plt.grid(True)\n",
    "\n",
    "    # save to figures\n",
    "    plt.savefig('reports/figures/noisy_characters.png')\n",
    "    plt.show()\n",
    "\n",
    "    return en_counts, fr_counts\n",
    "\n",
    "en_noisy_character_counts, fr_noisy_character_counts = overlay_noisy_character_counts(english_data, french_data)\n"
   ],
   "id": "f88b1571d7e8cc3d",
   "outputs": [
    {
     "data": {
      "text/plain": [
       "<Figure size 1200x600 with 1 Axes>"
      ],
      "image/png": "[encoded data removed]"
     },
     "metadata": {},
     "output_type": "display_data"
    }
   ],
   "execution_count": 8
  },
  {
   "metadata": {
    "ExecuteTime": {
     "end_time": "2024-07-27T08:51:36.982732Z",
     "start_time": "2024-07-27T08:50:57.568274Z"
    }
   },
   "cell_type": "code",
   "source": [
    "\n",
    "\n",
    "# Adding word count and sentence length columns\n",
    "english_data['word_count'] = english_data['text'].apply(lambda x: len(word_tokenize(x)))\n",
    "french_data['word_count'] = french_data['text'].apply(lambda x: len(word_tokenize(x)))\n",
    "\n",
    "english_data['sentence_length_in_letters'] = english_data['text'].apply(len)\n",
    "french_data['sentence_length_in_letters'] = french_data['text'].apply(len)\n",
    "\n",
    "# Basic statistics\n",
    "print(\"English average word count:\", english_data['word_count'].mean())\n",
    "print(\"French average word count:\", french_data['word_count'].mean())\n",
    "print(\"English average sentence length in letters:\", english_data['sentence_length_in_letters'].mean())\n",
    "print(\"French average sentence length in letters:\", french_data['sentence_length_in_letters'].mean())\n",
    "\n",
    "# Histogram of sentence lengths\n",
    "plt.figure(figsize=(12, 6))\n",
    "plt.hist(english_data['sentence_length_in_letters'], bins=50, alpha=0.5, label='English')\n",
    "plt.hist(french_data['sentence_length_in_letters'], bins=50, alpha=0.5, label='French')\n",
    "plt.title('Distribution of Sentence Lengths in letters')\n",
    "plt.xlabel('Sentence Length in letters')\n",
    "plt.ylabel('Frequency')\n",
    "plt.legend()\n",
    "plt.savefig('reports/figures/sentence_length.png')\n",
    "plt.show()\n",
    "\n",
    "# Most common words\n",
    "top_n = 10\n",
    "english_words = Counter(word.lower() for sentence in english_data['text'] for word in word_tokenize(sentence))\n",
    "french_words = Counter(word.lower() for sentence in french_data['text'] for word in word_tokenize(sentence))\n",
    "\n",
    "print(\"Most common words in English:\")\n",
    "print(english_words.most_common(top_n))\n",
    "\n",
    "print(\"Most common words in French:\")\n",
    "print(french_words.most_common(top_n))"
   ],
   "id": "5e2ae96830e13a8d",
   "outputs": [
    {
     "name": "stdout",
     "output_type": "stream",
     "text": [
      "English average word count: 27.77066246528626\n",
      "French average word count: 29.588500541203818\n",
      "English average sentence length in letters: 149.2377635626642\n",
      "French average sentence length in letters: 166.2798048673427\n"
     ]
    },
    {
     "data": {
      "text/plain": [
       "<Figure size 1200x600 with 1 Axes>"
      ],
      "image/png": "[encoded data removed]"
     },
     "metadata": {},
     "output_type": "display_data"
    },
    {
     "name": "stdout",
     "output_type": "stream",
     "text": [
      "Most common words in English:\n",
      "[('the', 384824), (',', 267179), ('.', 197870), ('of', 181909), ('to', 170414), ('and', 145152), ('in', 119340), ('that', 91867), ('a', 85758), ('is', 84889)]\n",
      "Most common words in French:\n",
      "[('de', 291717), (',', 285271), ('.', 199346), ('la', 188500), ('et', 134892), ('le', 126366), ('les', 114711), ('à', 112473), ('des', 105994), ('que', 88525)]\n"
     ]
    }
   ],
   "execution_count": 9
  },
  {
   "metadata": {
    "ExecuteTime": {
     "end_time": "2024-07-27T08:52:35.994751Z",
     "start_time": "2024-07-27T08:52:33.691696Z"
    }
   },
   "cell_type": "code",
   "source": [
    "# TODO: takes too long when uncommenting the paragraph below\n",
    "\n",
    "# Load spaCy models\n",
    "nlp_en = spacy.load('en_core_web_sm')\n",
    "nlp_fr = spacy.load('fr_core_news_sm')\n",
    "\n",
    "# Stopwords setup\n",
    "stopwords_en = set(stopwords.words('english'))\n",
    "stopwords_fr = set(stopwords.words('french'))\n",
    "\n",
    "# Helper function to perform advanced analyses\n",
    "def analyze_text(data, language):\n",
    "    \n",
    "    # Create a copy of the DataFrame to avoid SettingWithCopyWarning\n",
    "    data = data.copy()\n",
    "    # Tokenization and removing punctuation\n",
    "    data['tokens'] = data['text'].apply(lambda x: [token.text.lower() for token in nlp_en(x) if token.is_alpha])\n",
    "    data['num_tokens'] = data['tokens'].apply(len)\n",
    "\n",
    "    # Stopword analysis\n",
    "    data['stopword_count'] = data['tokens'].apply(lambda x: sum(token in (stopwords_en if language == 'English' else stopwords_fr) for token in x))\n",
    "    data['stopword_ratio'] = data['stopword_count'] / data['num_tokens']\n",
    "\n",
    "    # Lexical diversity\n",
    "    data['lexical_diversity'] = data['tokens'].apply(lambda x: len(set(x)) / len(x) if x else 0)\n",
    "\n",
    "    # N-Gram analysis\n",
    "    data['bigrams'] = data['tokens'].apply(lambda x: list(bigrams(x)))\n",
    "    data['trigrams'] = data['tokens'].apply(lambda x: list(trigrams(x)))\n",
    "\n",
    "    # POS tagging\n",
    "    data['pos_tags'] = data['text'].apply(lambda x: [token.pos_ for token in nlp_en(x) if token.is_alpha])\n",
    "\n",
    "    # Sentence complexity (count of clauses per sentence)\n",
    "    data['sentence_complexity'] = data['text'].apply(lambda x: sum(1 for token in nlp_en(x) if token.dep_ == 'conj'))\n",
    "\n",
    "    return data\n",
    "\n",
    "\"\"\"english_data = analyze_text(english_data, 'English')\n",
    "french_data = analyze_text(french_data, 'French')\n",
    "\n",
    "# Example output of analysis\n",
    "print(\"English sample analysis:\")\n",
    "print(english_data[['lexical_diversity', 'stopword_ratio', 'sentence_complexity']].head())\n",
    "print(\"French sample analysis:\")\n",
    "print(french_data[['lexical_diversity', 'stopword_ratio', 'sentence_complexity']].head())\n",
    "\n",
    "# Visualization of sentence complexity\n",
    "plt.figure(figsize=(10, 6))\n",
    "plt.hist(english_data['sentence_complexity'], bins=30, alpha=0.5, label='English', color='blue')\n",
    "plt.hist(french_data['sentence_complexity'], bins=30, alpha=0.5, label='French', color='red')\n",
    "plt.title('Distribution of Sentence Complexity')\n",
    "plt.xlabel('Number of Clauses per Sentence')\n",
    "plt.ylabel('Frequency')\n",
    "plt.legend()\n",
    "plt.savefig('reports/figures/sentence_complexity.png')\n",
    "plt.show()\"\"\""
   ],
   "id": "af4afeeb520f06b0",
   "outputs": [
    {
     "data": {
      "text/plain": [
       "'english_data = analyze_text(english_data, \\'English\\')\\nfrench_data = analyze_text(french_data, \\'French\\')\\n\\n# Example output of analysis\\nprint(\"English sample analysis:\")\\nprint(english_data[[\\'lexical_diversity\\', \\'stopword_ratio\\', \\'sentence_complexity\\']].head())\\nprint(\"French sample analysis:\")\\nprint(french_data[[\\'lexical_diversity\\', \\'stopword_ratio\\', \\'sentence_complexity\\']].head())\\n\\n# Visualization of sentence complexity\\nplt.figure(figsize=(10, 6))\\nplt.hist(english_data[\\'sentence_complexity\\'], bins=30, alpha=0.5, label=\\'English\\', color=\\'blue\\')\\nplt.hist(french_data[\\'sentence_complexity\\'], bins=30, alpha=0.5, label=\\'French\\', color=\\'red\\')\\nplt.title(\\'Distribution of Sentence Complexity\\')\\nplt.xlabel(\\'Number of Clauses per Sentence\\')\\nplt.ylabel(\\'Frequency\\')\\nplt.legend()\\nplt.savefig(\\'reports/figures/sentence_complexity.png\\')\\nplt.show()'"
      ]
     },
     "execution_count": 10,
     "metadata": {},
     "output_type": "execute_result"
    }
   ],
   "execution_count": 10
  },
  {
   "metadata": {},
   "cell_type": "code",
   "outputs": [],
   "execution_count": null,
   "source": "",
   "id": "b1ae8289062b6a1f"
  }
 ],
 "metadata": {
  "kernelspec": {
   "display_name": "nlp_venv",
   "language": "python",
   "name": "nlp_venv"
  },
  "language_info": {
   "codemirror_mode": {
    "name": "ipython",
    "version": 2
   },
   "file_extension": ".py",
   "mimetype": "text/x-python",
   "name": "python",
   "nbconvert_exporter": "python",
   "pygments_lexer": "ipython2",
   "version": "2.7.6"
  }
 },
 "nbformat": 4,
 "nbformat_minor": 5
}
